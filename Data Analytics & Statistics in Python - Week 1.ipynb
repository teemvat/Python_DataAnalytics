{
 "cells": [
  {
   "cell_type": "markdown",
   "id": "97856acc-4d5e-4392-997f-a1cf50b8ebd2",
   "metadata": {},
   "source": [
    "# Course Title: Data Analytics & Statistics in Python\n",
    "## Metropolia University of Applied Sciences\n",
    "## Week 1: Python ReCap\n",
    "### Date: 5.3.2025\n",
    "\n",
    "<table \"<table style=\"width: 100%;\">\n",
    "  <tr>\n",
    "    <td style=\"text-align: left; vertical-align: middle;\">\n",
    "      <ul style=\"list-style: none; padding-left: 0;\">\n",
    "        <li><strong>Instructor</strong>: Hamed Ahmadinia, Ph.D</li>\n",
    "        <li><strong>Email</strong>: Hamed.Ahmadinia@metropolia.fi\n",
    "        <li><strong>Web</strong>: www.ahmadinia.fi</li>          </li>\n",
    "      </ul>\n",
    "    </td>\n",
    "  </tr>\n",
    "</table>"
   ]
  },
  {
   "cell_type": "markdown",
   "id": "0ea48b3b-7a67-4255-9ba1-2371cf679751",
   "metadata": {},
   "source": [
    "# 1. Loading Dataset"
   ]
  },
  {
   "cell_type": "markdown",
   "id": "fe34257f-7134-428a-a709-1b2cf232430d",
   "metadata": {},
   "source": [
    "## Loading the Dataset  \n",
    "We will load the **Adult Income Dataset** from the provided GitHub URL. \n",
    "This dataset contains demographic data used for income classification tasks.\n",
    "Let's load the data and take a quick look at the first few rows to understand its structure.  \n"
   ]
  },
  {
   "cell_type": "code",
   "execution_count": 188,
   "id": "dbb153a6-f60f-4065-bf73-b3b825de713b",
   "metadata": {},
   "outputs": [
    {
     "name": "stdout",
     "output_type": "stream",
     "text": [
      "Dataset Preview:\n",
      "   age         workclass  fnlwgt  education  education-num  \\\n",
      "0   39         State-gov   77516  Bachelors             13   \n",
      "1   50  Self-emp-not-inc   83311  Bachelors             13   \n",
      "2   38           Private  215646    HS-grad              9   \n",
      "3   53           Private  234721       11th              7   \n",
      "4   28           Private  338409  Bachelors             13   \n",
      "\n",
      "       marital-status         occupation   relationship   race     sex  \\\n",
      "0       Never-married       Adm-clerical  Not-in-family  White    Male   \n",
      "1  Married-civ-spouse    Exec-managerial        Husband  White    Male   \n",
      "2            Divorced  Handlers-cleaners  Not-in-family  White    Male   \n",
      "3  Married-civ-spouse  Handlers-cleaners        Husband  Black    Male   \n",
      "4  Married-civ-spouse     Prof-specialty           Wife  Black  Female   \n",
      "\n",
      "   capital-gain  capital-loss  hours-per-week native-country salary  \n",
      "0          2174             0              40  United-States  <=50K  \n",
      "1             0             0              13  United-States  <=50K  \n",
      "2             0             0              40  United-States  <=50K  \n",
      "3             0             0              40  United-States  <=50K  \n",
      "4             0             0              40           Cuba  <=50K  \n"
     ]
    }
   ],
   "source": [
    "# 1. Import necessary libraries\n",
    "import pandas as pd  # pandas is used for handling tabular datasets (dataframes) and performing operations such as reading CSV files\n",
    "import numpy as np  # numpy is used for numerical computations such as working with arrays and applying mathematical operations\n",
    "\n",
    "# 2. Load dataset from GitHub URL\n",
    "file_path = \"https://raw.githubusercontent.com/Hamed-Ahmadinia/DASP-2025/main/adult.data.csv\"  # URL link to the dataset stored on GitHub\n",
    "\n",
    "# 3. Read the dataset into a pandas dataframe\n",
    "df = pd.read_csv(file_path, header=0)  # header=0 means the first row in the CSV is used as column names\n",
    "\n",
    "# 4. Display the first few rows of the dataframe to confirm the data has been loaded correctly\n",
    "print(\"Dataset Preview:\")  # Print a label for context\n",
    "print(df.head(5))  # Display the first 5 rows of the dataset"
   ]
  },
  {
   "cell_type": "markdown",
   "id": "55145505-1582-4c7b-82f5-9c3404eaf8b4",
   "metadata": {},
   "source": [
    "# 1. Introduction"
   ]
  },
  {
   "cell_type": "markdown",
   "id": "d3e4cbef-0dbf-417d-9f9c-647a339864ad",
   "metadata": {},
   "source": [
    "We will use the \"Adult Income Dataset\" for all code examples.  \n",
    "This dataset contains demographic information used for classifying whether a person earns more or less than $50K/year.  \n",
    "The main columns include:\n",
    "- `age`: Age of the individual  \n",
    "- `workclass`: Type of employer (e.g., \"Private\", \"Self-employed\")  \n",
    "- `education`: Education level (e.g., \"Bachelors\", \"Masters\")  \n",
    "- `income`: Income category (\"<=50K\" or \">50K\")"
   ]
  },
  {
   "cell_type": "markdown",
   "id": "50bdd65c-6060-4609-a1c0-1c6a4801c916",
   "metadata": {},
   "source": [
    "# 2. Common Python Operations"
   ]
  },
  {
   "cell_type": "markdown",
   "id": "8f98a9ad-d286-4ea5-b22d-8d9546026c24",
   "metadata": {},
   "source": [
    "### Common Python Operations  \n",
    "In this section, we will perform some common Python operations using the dataset's columns. These operations are essential when transforming data, filtering datasets, or performing calculations during data analysis.  \n",
    "\n",
    "The following operations will be demonstrated:\n",
    "1. **Arithmetic Operations:** Addition, subtraction, multiplication, division, exponentiation, modulus, and floor division  \n",
    "2. **Boolean Comparisons:** Greater than, less than, equal to, and not equal to  \n",
    "3. **Assignment Shortcuts:** Combining operations with assignments (e.g., `+=`, `-=`, `*=`)  \n",
    "\n",
    "---\n",
    "\n",
    "### **Detailed Table of Common Operations in Python**\n",
    "\n",
    "| **Name**       | **Symbol** | **Description**                                        | **Example (using columns from dataset)**            |\n",
    "| ---------------| ---------- | ----------------------------------------------------- | --------------------------------------------------- |\n",
    "| **Addition**   | `+`        | Adds two values of the same type                      1| `df['age'][0] + 5` → Adds 5 years to the first age  |\n",
    "| **Subtraction**| `-`        | Subtracts one value from another                       | `df['1apital-gain'][0] - 1000` → Subtracts 1000 from capital gain |\n",
    "| **Multiplication**| `*`    | Multiplies two values                                  | `df['h1urs-per-week'][0] * 2` → Doubles the hours worked |\n",
    "| **Division**   | `/`        | Performs float division (returns a float result)       | `df['age'][1] / 2` → Divides age by 2               |\n",
    "| **Floor Division**| `//`   | Returns the integer result of division (rounds down)   | `df['age'][1] // 2` → Integer division of age by 2  |\n",
    "| **Exponentiation**| `**`   | Raises a number to the power of another                 | `2 ** 3` → `8` (2 raised to the power of 3)         |\n",
    "| **Modulo**     | `%`        | Returns the remainder of a division                    | `10 % 3` → `1` (remainder when 10 is divided by 3)  |\n",
    "| **Equal**      | `==`       | Compares two values for equality                  1    | `df['income'][0] == '>50K'` → Checks if income > 50K |\n",
    "| **Not Equal**  | `!=`       | Compares two values for inequality                  1  | `df['education'][0] != 'Bachelors'` → Checks if education is not \"Bachelors\" |\n",
    "| **Greater Than**| `>`       | Checks if the left value is greater          1         | `df['age'][0] > 40` → Checks if age is greater than 40 |\n",
    "| **Less Than**  | `<`        | Checks if the left value is smaller                  1 | `df['capital-gain'][0] < 2000` → Checks if capital gain is less than 2000 |\n",
    "| **Greater or Equal**| `>=`  | Checks if the left value is greater or equa1           | `df['age'][0] >= 30`                                |\n",
    "| **Less or Equal**| `<=`     | Checks if the left value is smaller or equal         1 | `df['hours-per-week'][0] <= 40`                     |\n",
    "\n",
    "---\n",
    "\n",
    "### **Explanation of Assignment Shortcuts**\n",
    "| **Operation**    | **Shorthand** | **Example Code**                | **Equivalent to**           |  \n",
    "| ---------------- | ------------- | -------------------------------- | -------------------------- |\n",
    "| Addition         | `+=`          | `x += 5` (adds 5 to `x`)         | `x = x + 5`                 |\n",
    "| Subtraction      | `-=`          | `y -= 3` (subtracts 3 from `y`)  | `y = y - 3`                 |\n",
    "| Multiplication   | `*=`          | `z *= 2` (multiplies `z` by 2)   | `z = z * 2`                 |\n",
    "| Division         | `/=`          | `a /= 4` (divides `a` by 4)      | `a = a / 4`                 |\n",
    "| Floor Division   | `//=`         | `b //= 2`                        | `b = b // 2`                |\n",
    "| Exponentiation   | `**=`         | `c **= 3`                        | `c = c ** 3`                |\n",
    "| Modulus          | `%=`          | `d %= 7`                       += 5  # Adds 5 to the age\n",
    "print(f\"Age after += 5: {age}\")\n"
   ]
  },
  {
   "cell_type": "code",
   "execution_count": 300,
   "id": "41c11c02-3e9c-402e-963b-2ee8a1889c2d",
   "metadata": {},
   "outputs": [
    {
     "name": "stdout",
     "output_type": "stream",
     "text": [
      "First row's age: 39\n",
      "Age after adding 5: 44\n",
      "Age after subtracting 2: 37\n",
      "Age after multiplying by 2: 78\n",
      "Is the age greater than 30? True\n",
      "Age after adding 10: 49\n"
     ]
    }
   ],
   "source": [
    "# Display basic arithmetic operations using the 'age' column\n",
    "print(\"First row's age:\", df['age'].iloc[0]) # iloc[] to call a known index ocation (row in a table)\n",
    "\n",
    "# Addition (increasing age by 5)\n",
    "age_plus_5 = df['age'].iloc[0] + 5\n",
    "print(\"Age after adding 5:\", age_plus_5)\n",
    "\n",
    "# Subtraction (decreasing age by 2)\n",
    "age_minus_2 = df['age'].iloc[0] - 2\n",
    "print(\"Age after subtracting 2:\", age_minus_2)\n",
    "\n",
    "# Multiplication (doubling the age)\n",
    "double_age = df['age'].iloc[0] * 2\n",
    "print(\"Age after multiplying by 2:\", double_age)\n",
    "\n",
    "# Boolean Comparison (is age > 30?)\n",
    "print(\"Is the age greater than 30?\", df['age'].iloc[0] > 30)\n",
    "\n",
    "# Assignment shortcut example (not modifying DataFrame directly for safety)\n",
    "age = df['age'].iloc[0]\n",
    "age += 10  # Increase age by 10\n",
    "print(\"Age after adding 10:\", age)"
   ]
  },
  {
   "cell_type": "markdown",
   "id": "9d56a864-a30c-46b5-852e-a9a684326e6d",
   "metadata": {},
   "source": [
    "# 3. Data Types"
   ]
  },
  {
   "cell_type": "markdown",
   "id": "cfa7b1d1-bf81-4544-a93e-5ca683ae1839",
   "metadata": {},
   "source": [
    "### 3.1. Working with Strings in Python  \n",
    "\n",
    "In data analysis, **text columns** often contain important categorical information, such as `workclass` (e.g., \"Private\", \"Self-employed\") or `education` (e.g., \"Bachelors\", \"Masters\"). Since strings can sometimes be inconsistent (extra spaces, case sensitivity), knowing how to clean and manipulate them is essential.\n",
    "\n",
    "Below are some **common string operations** that can help clean and transform text data:\n",
    "\n",
    "---\n",
    "\n",
    "#### **Key String Operations**\n",
    "\n",
    "| **Operation**    | **Method** | **Description**                                      | **Example**                                       |\n",
    "|------------------|------------|----------------------------------------------------|--------------------------------------------------|\n",
    "| **Remove Spaces**| `strip()`  | Removes leading and trailing whitespace             | `\"  Data \" → \"Data\"`                             |\n",
    "| **To Uppercase** | `upper()`  | Converts all characters in the string to uppercase  | `\"text\".upper() → \"TEXT\"`                        |\n",
    "| **To Lowercase** | `lower()`  | Converts all characters to lowercase                | `\"TEXT\".lower() → \"text\"`                        |\n",
    "| **Splitting Text**| `split()` | Splits a string into a list of words based on spaces| `\"Python Data\".split() → [\"Python\", \"Data\"]`     |\n",
    "| **Joining Words**| `join()`   | Joins elements of a list into a single string        | `\" \".join([\"Python\", \"Data\"]) → \"Python Data\"`   |\n",
    "| **Replacing Text**| `replace()`| Replaces a substring with another substring         | `\"Python Data\".replace(\"Data\", \"Science\") → \"Pytho\")  # Display the raw string\n"
   ]
  },
  {
   "cell_type": "code",
   "execution_count": 322,
   "id": "11464a3f-233f-4a8d-a0b8-cfc778f5423b",
   "metadata": {},
   "outputs": [
    {
     "name": "stdout",
     "output_type": "stream",
     "text": [
      "Original workclass: Private\n",
      "Workclass after stripping spaces: Private\n",
      "Workclass in lowercase: private\n",
      "Replacing 'Private' with 'Self-employed': Self-employed\n"
     ]
    }
   ],
   "source": [
    "# Example of string operations using the 'workclass' column\n",
    "workclass_example = df['workclass'].iloc[2]  # Get the first row's workclass\n",
    "print(\"Original workclass:\", workclass_example)\n",
    "\n",
    "# Remove whitespace\n",
    "print(\"Workclass after stripping spaces:\", workclass_example.strip())\n",
    "\n",
    "# Convert to lowercase\n",
    "print(\"Workclass in lowercase:\", workclass_example.lower())\n",
    "\n",
    "# Replace substring\n",
    "print(\"Replacing 'Private' with 'Self-employed':\", workclass_example.replace('Private', 'Self-employed'))"
   ]
  },
  {
   "cell_type": "markdown",
   "id": "ac2be5c2-d12b-4728-bfc0-696f606def89",
   "metadata": {},
   "source": [
    "### 3.2 Lists in Python\n",
    "\n",
    "Lists in Python are used to store ordered collections of values. Lists can hold multiple data types, but in data analysis, they typically store **sequences of related data** (e.g., categories or a list of values from a column).\n",
    "\n",
    "---\n",
    "\n",
    "#### **Key Characteristics of Lists:**\n",
    "- **Ordered:** The order of elements in a list is maintained.\n",
    "- **Mutable:** You can modify lists by adding, removing, or updating elements.\n",
    "- **Indexable:** You can access specific elements using their index.\n",
    "\n",
    "---\n",
    "\n",
    "In the context of the **Adult Income Dataset**, the `education` column stores the education level of each individual (e.g., \"Bachelors\", \"Masters\"). You can store the **unique education levels** as a list to get an overview of all categories in thiscolumn.\n",
    "\n",
    "---\n"
   ]
  },
  {
   "cell_type": "code",
   "execution_count": 325,
   "id": "46e2fa4e-d42f-41f4-991a-9584a2af823a",
   "metadata": {},
   "outputs": [
    {
     "name": "stdout",
     "output_type": "stream",
     "text": [
      "Unique education levels: ['Assoc-voc', 'Doctorate', '5th-6th', 'Masters', 'HS-grad', 'Bachelors', '9th', 'Preschool', '1st-4th', 'Some-college', '7th-8th', '11th', 'Assoc-acdm', 'Prof-school', '12th', '10th']\n",
      "Updated education list: ['HS-grad', 'HS-grad', 'HS-grad', 'HS-grad', 'Diploma']\n"
     ]
    }
   ],
   "source": [
    "# Convert the 'education' column to a list\n",
    "education_list = df['education'].tolist() \n",
    "\n",
    "# Unique education levels\n",
    "unique_education_levels = list(set(education_list))\n",
    "print(\"Unique education levels:\", unique_education_levels)\n",
    "\n",
    "# Adding a new education level for illustration (dummy example)\n",
    "education_list.append(\"Diploma\")\n",
    "print(\"Updated education list:\", education_list[-5:])  # Display last 5 elements"
   ]
  },
  {
   "cell_type": "markdown",
   "id": "612426f2-2599-4349-8007-14d44abaf881",
   "metadata": {},
   "source": [
    "### 3.3 Sets in Python \n",
    "\n",
    "A **set** in Python is a collection of **unique, unordered elements**. Sets automatically remove duplicates and are useful when working with **categorical columns** to identify **unique values**.\n",
    "\n",
    "---\n",
    "\n",
    "### **Why Use Sets in Data Analysis?**\n",
    "- To find unique categories (e.g., distinct races, education levels).\n",
    "- To check for duplicates or count distinct values.\n",
    "- To perform set operations (e.g., intersection, union, difference) to compare data categories.\n",
    "\n",
    "---\n",
    "\n",
    "### **Key Set Operations**\n",
    "\n",
    "| **Operation**      | **Syntax**           | **Description**                                   | **Example**                          |\n",
    "|------------------- |--------------------- |--------------------------------------------------|-------------------------------------- |\n",
    "| **Create a set**   | `set()`               | Converts a list or column into a set (unique values)| `set(df['race'])`                     |\n",
    "| **Add to a set**   | `set.add(item)`       | Adds a new element to the set                    | `unique_races.add(\"Asian\")`           |\n",
    "| **Remove from set**| `set.remove(item)`    | Removes a specific item from the set              | `unique_races.remove(\"White\")`        |\n",
    "| **Check membership**| `item in set`        | Checks if an item exists in the set               | `\"Black\" in unique_races` → `True`    |\n",
    "| **Union**          | `set1.union(set2)`    | Combines all unique elements from both sets       | `set1.union(set2)`                    |\n",
    "| **Intersection**   | `set1.intersection(set2)`| Returns elements that exist in both sets        | `set1.intersection(set racial categories: {unique_races}\")\n"
   ]
  },
  {
   "cell_type": "code",
   "execution_count": 308,
   "id": "c8aeba2b-61c6-449e-a74c-9b516bba3acf",
   "metadata": {},
   "outputs": [
    {
     "name": "stdout",
     "output_type": "stream",
     "text": [
      "Unique workclasses: {'State-gov', 'Private', 'Never-worked', 'Local-gov', '?', 'Self-emp-not-inc', 'Federal-gov', 'Without-pay', 'Self-emp-inc'}\n",
      "Intersection: {'Private'}\n",
      "Union: {'State-gov', 'Private', 'Self-emp-inc', 'Self-employed', 'Never-worked', 'Local-gov', '?', 'Self-emp-not-inc', 'Federal-gov', 'Without-pay'}\n"
     ]
    }
   ],
   "source": [
    "# Example of set usage for unique workclasses\n",
    "unique_workclasses = set(df['workclass'].dropna())\n",
    "print(\"Unique workclasses:\", unique_workclasses)\n",
    "\n",
    "# Intersection and Union example\n",
    "set1 = {\"Private\", \"Self-employed\"}\n",
    "set2 = {\"Government\", \"Self-employed\"}\n",
    "print(\"Intersection:\", set1.intersection(unique_workclasses))\n",
    "print(\"Union:\", set1.union(unique_workclasses))"
   ]
  },
  {
   "cell_type": "markdown",
   "id": "fc1d1d8f-206d-4265-8c1c-7270d638831a",
   "metadata": {},
   "source": [
    "### 3.4 Dictionaries in Python\n",
    "\n",
    "Dictionaries store **data as key-value pairs**.  \n",
    "- **Keys**: The identifiers used to access values (must be unique and immutable).  \n",
    "- **Values**: The data associated with the keys (can be of any data type).  \n",
    "- Dictionaries are useful for organizing related data in a structured format.  \n",
    "For example, you can store details of a single individual from the dataset in a dictionary, where **each key corresponds to a column name**, and **each value corresponds to the respective data point** for that individual.\n",
    "\n",
    "---\n",
    "\n",
    "### **Key Features of Dictionaries**\n",
    "\n",
    "| **Operation**   | **Syntax**                    | **Description**                                              | **Example**                                 |\n",
    "|-----------------|--------------------------------|--------------------------------------------------------------|---------------------------------------------|\n",
    "| **Access Value**| `dict[key]`                    | Accesses the value associated with a key                     | `person['age']` → Returns the age           |\n",
    "| **Add/Update**  | `dict[key] = value`            | Adds a new key-value pair or updates an existing value        | `person['salary'] = '>50K'`                 |\n",
    "| **Remove Key**  | `dict.pop(key)`                | Removes a key-value pair and returns the value                | `person.pop('salary')`                      |\n",
    "| **Get Keys**    | `dict.keys()`                  | Returns a list of all keys in the dictionary                  | `person.keys()`                             |\n",
    "| **Get Values**  | `dict.values()`                | Returns a list of all values in the dictionary                | `person.values()`                           |\n",
    "| **Get Items**   | `dict.items()`                 | Returns a list of (key, value) pairs                          | `person.items()`               ary of Person Details: {person_details}\")\n"
   ]
  },
  {
   "cell_type": "code",
   "execution_count": 310,
   "id": "51d5cd0f-ab00-4f6f-9ff1-c40978e806df",
   "metadata": {},
   "outputs": [
    {
     "name": "stdout",
     "output_type": "stream",
     "text": [
      "Details of the first person: {'age': 39, 'workclass': 'State-gov', 'fnlwgt': 77516, 'education': 'Bachelors', 'education-num': 13, 'marital-status': 'Never-married', 'occupation': 'Adm-clerical', 'relationship': 'Not-in-family', 'race': 'White', 'sex': 'Male', 'capital-gain': 2174, 'capital-loss': 0, 'hours-per-week': 40, 'native-country': 'United-States', 'salary': '<=50K'}\n",
      "Education level of first person: Bachelors\n",
      "Updated dictionary: {'age': 39, 'workclass': 'State-gov', 'fnlwgt': 77516, 'education': 'Bachelors', 'education-num': 13, 'marital-status': 'Never-married', 'occupation': 'Adm-clerical', 'relationship': 'Not-in-family', 'race': 'White', 'sex': 'Male', 'capital-gain': 2174, 'capital-loss': 0, 'hours-per-week': 40, 'native-country': 'United-States', 'salary': '<=50K', 'city': 'Turku'}\n"
     ]
    }
   ],
   "source": [
    "# Example: Create a dictionary of the first row's data\n",
    "first_person = df.iloc[0].to_dict()\n",
    "print(\"Details of the first person:\", first_person)\n",
    "\n",
    "# Access value by key\n",
    "print(\"Education level of first person:\", first_person[\"education\"])\n",
    "\n",
    "# Add a new key-value pair\n",
    "first_person[\"city\"] = \"Turku\"\n",
    "print(\"Updated dictionary:\", first_person)"
   ]
  },
  {
   "cell_type": "markdown",
   "id": "4d66512c-9cf2-4af7-b4df-e5857f28143e",
   "metadata": {},
   "source": [
    "# 4. Control Flows"
   ]
  },
  {
   "cell_type": "markdown",
   "id": "9fb3a457-546f-4b9e-812a-fa05a0a8a643",
   "metadata": {},
   "source": [
    "### **4.1 Conditional Statements in Python**\n",
    "\n",
    "Conditional statements are used to control the flow of a program by making **decisions based on conditions**.  \n",
    "A **condition** is an expression that evaluates to either **True** or **False**. Depending on the result, different parts of the code may or may not be executed.\n",
    "\n",
    "In data analysis, conditional statements are commonly used to:\n",
    "- Filter rows based on specific conditions (e.g., select only individuals with income `>50K`)\n",
    "- Apply category labels (e.g., \"Young\", \"Middle-aged\", \"Senior\") based on numerical data (like `age`)\n",
    "- Perform different actions for different data values (e.g., check if someone is working overtime or not)\n",
    "\n",
    "---\n",
    "\n",
    "### **Key Conditional Keywords**\n",
    "\n",
    "| **Keyword** | **Description**                                                                 | **Example**                         |\n",
    "|-------------|----------------------------------------------------------------------------------|--------------------------------------|\n",
    "| **`if`**    | Executes the block of code if the condition is `True`                            | `if age > 40:`                       |\n",
    "| **`elif`**  | Stands for \"else if\"; adds another condition to check if the first is `False`    | `elif age == 30:`                    |\n",
    "| **`else`**  | Executes the block of code if none of the above conditions are `True`            | `else:`                              |\n",
    "\n",
    "---\n",
    "\n",
    "### **Flowchart of Conditional Statements**\n",
    "\n",
    "To visualize the decision-making process, here’s a flowchart of Python conditionals:\n",
    "\n",
    "<div style=\"text-align: center;\">\n",
    "  <img src=\"https://hands-on.cloud/wp-content/uploads/2021/06/1.-Conditionals-in-Python-if-statement-flow-diagram-746x1024.png\" alt=\"Conditional Statements Flowchart\" width=\"300\">\n",
    "</div>\n",
    "\n",
    "---\n",
    "\n",
    "### **Explanation of Flowchart**  \n",
    "- The program starts at the top and checks the `if` condition.\n",
    "- If the condition is `True`, the corresponding block of code runs.\n",
    "- If the condition is `False`, it moves to the `elif` condition (if present) and checks again.\n",
    "- If all conditions are `False`, the `else` block (if present) executes as a fallback.\n",
    "\n",
    "---"
   ]
  },
  {
   "cell_type": "code",
   "execution_count": 312,
   "id": "986a66d1-e39f-47dd-86f6-8a06ae74d6e4",
   "metadata": {},
   "outputs": [
    {
     "name": "stdout",
     "output_type": "stream",
     "text": [
      "The individual is an adult.\n"
     ]
    }
   ],
   "source": [
    "# Example of filtering based on conditions\n",
    "age = df['age'].iloc[0]\n",
    "if age < 18:\n",
    "    print(\"The individual is a minor.\")\n",
    "elif age < 65:\n",
    "    print(\"The individual is an adult.\")\n",
    "else:\n",
    "    print(\"The individual is a senior citizen.\")"
   ]
  },
  {
   "cell_type": "markdown",
   "id": "0fa3a8f5-981c-493c-aca4-1fe5861aa143",
   "metadata": {},
   "source": [
    "### 4.2 For Loops\n",
    "\n",
    "A **for loop** is used to **iterate over a sequence** (such as lists, tuples, strings, or columns in a dataframe).  \n",
    "\n",
    "For loops allow us to:\n",
    "- Perform repetitive operations on multiple elements (e.g., iterating over all rows in a dataframe column).\n",
    "- Access specific items in a dataset (e.g., print the education level of the first 10 individuals).\n",
    "- Perform batch actions (e.g., calculate sums or apply transformations to selected rows).\n",
    "\n",
    "---\n",
    "\n",
    "### **Key Syntax for `for` Loops**\n",
    "\n",
    "| **Component**   | **Description**                                   |\n",
    "|-----------------|---------------------------------------------------|\n",
    "| **`element`**   | The variable used to store each item during iteration |\n",
    "| **`iterable`**  | The object you want to loop over (e.g., list, dataframe column) |\n",
    "| **Code Block**  | The code that runs for each item (indented under the `f\n",
    "\n",
    "### **Flowchart of For a Loop Statement**\n",
    "\n",
    "To visualize the process of a for loop, here’s a flowchart illustrating how it works:\n",
    "\n",
    "<div style=\"text-align: center;\">\n",
    "  <img src=\"https://pythonguides.com/wp-content/uploads/2023/08/For-loop-flowchart-in-Python.jpeg\" alt=\"Conditional Statements Flowchart\" width=\"300\">\n",
    "</div>\n",
    "\n",
    "---\n",
    "\n",
    "### **Explanation of Flowchart**  \n",
    "- The loop starts with the first element of the sequence.\n",
    "- If there are more items in the sequence, the loop continues; otherwise, it stops.\n",
    "- The indented block of code runs for the current item.\n",
    "- The iterator moves to the next item and repeats the process.\n",
    "\n",
    "---ecute for each element\n",
    "r each element\n"
   ]
  },
  {
   "cell_type": "code",
   "execution_count": 314,
   "id": "5958c66a-d029-4de1-8e29-9889d4d4d330",
   "metadata": {},
   "outputs": [
    {
     "name": "stdout",
     "output_type": "stream",
     "text": [
      "Occupations of the first 5 individuals:\n",
      "Adm-clerical\n",
      "Exec-managerial\n",
      "Handlers-cleaners\n",
      "Handlers-cleaners\n",
      "Prof-specialty\n"
     ]
    }
   ],
   "source": [
    "# Example: Iterate through the first 5 rows of the 'occupation' column\n",
    "print(\"Occupations of the first 5 individuals:\")\n",
    "for occupation in df['occupation'].head(5):\n",
    "    print(occupation)"
   ]
  },
  {
   "cell_type": "markdown",
   "id": "adfa73af-2649-4e70-a0ef-8ea4251cbc45",
   "metadata": {},
   "source": [
    "# 5. Functions"
   ]
  },
  {
   "cell_type": "markdown",
   "id": "3cb301f3-f342-49e6-9d32-777e8aa45970",
   "metadata": {},
   "source": [
    "\n",
    "**Functions** in Python are reusable blocks of code that perform specific tasks.  \n",
    "Functions allow us to:\n",
    "- Reuse code for repeated tasks (e.g., checking work hours for each person in the dataset).\n",
    "- Improve code readability by breaking down logic into smaller, meaningful parts.\n",
    "- Perform operations based on input values and return specific results.\n",
    "\n",
    "---\n",
    "\n",
    "### **Key Components of a Function**\n",
    "\n",
    "| **Component**   | **Description**                                           | **Example**                |\n",
    "|-----------------|-----------------------------------------------------------|----------------------------|\n",
    "| **Function Name**| The name used to call the function                        | `check_overtime`            |\n",
    "| **Parameters**   | Values passed to the function when calling it             | `(hours_per_week)`          |\n",
    "| **Return Value** | The value that the function sends back as output          | `\"Overtime\"` or `\"Regular\"` |\n",
    "\n",
    "**General Syntax of a Function:**\n",
    "\n",
    "```python\n",
    "def function_name(parameters):\n",
    "    # Function ogic\n",
    "    return value\n"
   ]
  },
  {
   "cell_type": "code",
   "execution_count": 316,
   "id": "47f3699e-a855-4509-a841-91111d660212",
   "metadata": {},
   "outputs": [
    {
     "name": "stdout",
     "output_type": "stream",
     "text": [
      "Age category for the first individual: Adult\n"
     ]
    }
   ],
   "source": [
    "# Define a function to categorize age\n",
    "def categorize_by_age(age):\n",
    "    if age < 18:\n",
    "        return \"Minor\"\n",
    "    elif age < 65:\n",
    "        return \"Adult\"\n",
    "    else:\n",
    "        return \"Senior\"\n",
    "\n",
    "# Apply the function to the first person's age\n",
    "print(\"Age category for the first individual:\", categorize_by_age(df['age'].iloc[0]))"
   ]
  },
  {
   "cell_type": "markdown",
   "id": "374233c6-dc3f-4d71-8d26-eb8f6358eeb3",
   "metadata": {},
   "source": [
    "# 6. File Handling: Reading and Writing Data"
   ]
  },
  {
   "cell_type": "markdown",
   "id": "92235663-d75b-448e-9eaa-b9a27234c963",
   "metadata": {},
   "source": [
    "**In Python, **file handling** allows you to:**\n",
    "- **Read** data from external files (e.g., CSV, text files).\n",
    "- **Write** or **save** processed data to files after transformations.\n",
    "- This is useful for saving cleaned datasets, analysis results, or logs.\n",
    "\n",
    "---\n",
    "\n",
    "### **Key File Handling Methods in Pandas**\n",
    "\n",
    "| **Operation**      | **Method**        | **Description**                                       | **Example**                                |\n",
    "|------------------- |------------------ |----------------------------------------------------- |--------------------------------------------|\n",
    "| **Read CSV**        | `pd.read_csv()`   | Reads data from a CSV file into a dataframe           | `df = pd.read_csv('file.csv')`              |\n",
    "| **Write to CSV**    | `df.to_csv()`     | Saves the dataframe as a CSV file                     | `df.to_csv('output.csv')`                   |\n",
    "| **Read Excel**      | `pd.read_excel()` | Reads data from an Excel file                         | `df = pd.read_excel('file.xlsx')`           |\n",
    "| **Write to Excel**  | `df.to_excel()`   | Saves the dataframe to an Excel file                  | `df.to_excel('output.xlsx')`                |\n",
    "| **Read Text File**  | `open()`          | Opens a file in read or write mode                    | `with open('file.txt', 'r') as fi  # Display the first 5 rows\n"
   ]
  },
  {
   "cell_type": "code",
   "execution_count": 318,
   "id": "1dafc16a-1b62-48a5-9106-f3d3188de71c",
   "metadata": {},
   "outputs": [
    {
     "name": "stdout",
     "output_type": "stream",
     "text": [
      "Sample data saved to 'sample_output.csv'!\n",
      "Read data from saved CSV:\n",
      "   age         workclass  fnlwgt  education  education-num  \\\n",
      "0   39         State-gov   77516  Bachelors             13   \n",
      "1   50  Self-emp-not-inc   83311  Bachelors             13   \n",
      "2   38           Private  215646    HS-grad              9   \n",
      "3   53           Private  234721       11th              7   \n",
      "4   28           Private  338409  Bachelors             13   \n",
      "5   37           Private  284582    Masters             14   \n",
      "6   49           Private  160187        9th              5   \n",
      "7   52  Self-emp-not-inc  209642    HS-grad              9   \n",
      "8   31           Private   45781    Masters             14   \n",
      "9   42           Private  159449  Bachelors             13   \n",
      "\n",
      "          marital-status         occupation   relationship   race     sex  \\\n",
      "0          Never-married       Adm-clerical  Not-in-family  White    Male   \n",
      "1     Married-civ-spouse    Exec-managerial        Husband  White    Male   \n",
      "2               Divorced  Handlers-cleaners  Not-in-family  White    Male   \n",
      "3     Married-civ-spouse  Handlers-cleaners        Husband  Black    Male   \n",
      "4     Married-civ-spouse     Prof-specialty           Wife  Black  Female   \n",
      "5     Married-civ-spouse    Exec-managerial           Wife  White  Female   \n",
      "6  Married-spouse-absent      Other-service  Not-in-family  Black  Female   \n",
      "7     Married-civ-spouse    Exec-managerial        Husband  White    Male   \n",
      "8          Never-married     Prof-specialty  Not-in-family  White  Female   \n",
      "9     Married-civ-spouse    Exec-managerial        Husband  White    Male   \n",
      "\n",
      "   capital-gain  capital-loss  hours-per-week native-country salary  \n",
      "0          2174             0              40  United-States  <=50K  \n",
      "1             0             0              13  United-States  <=50K  \n",
      "2             0             0              40  United-States  <=50K  \n",
      "3             0             0              40  United-States  <=50K  \n",
      "4             0             0              40           Cuba  <=50K  \n",
      "5             0             0              40  United-States  <=50K  \n",
      "6             0             0              16        Jamaica  <=50K  \n",
      "7             0             0              45  United-States   >50K  \n",
      "8         14084             0              50  United-States   >50K  \n",
      "9          5178             0              40  United-States   >50K  \n"
     ]
    }
   ],
   "source": [
    "# Save a sample of the dataset to CSV\n",
    "sample_df = df.head(10)  # Take the first 10 rows\n",
    "sample_df.to_csv(\"sample_output.csv\", index=False)\n",
    "print(\"Sample data saved to 'sample_output.csv'!\")\n",
    "\n",
    "# Read the saved CSV\n",
    "read_sample = pd.read_csv(\"sample_output.csv\")\n",
    "print(\"Read data from saved CSV:\")\n",
    "print(read_sample)"
   ]
  },
  {
   "cell_type": "markdown",
   "id": "aceeff36-6e61-4e49-bef6-9667a803d501",
   "metadata": {},
   "source": [
    "# 7. Debugging in Python"
   ]
  },
  {
   "cell_type": "markdown",
   "id": "7bad77cc-3049-4fc0-9559-c55ec6efb053",
   "metadata": {},
   "source": [
    "\n",
    "**Debugging** is the process of identifying and fixing errors or unexpected behavior in your code.  \n",
    "In data analysis, debugging is crucial because datasets can often contain missing values, unexpected types, or outliers that can cause errors.\n",
    "\n",
    "One of the most common ways to handle errors gracefully is by using **`try/except`** blocks.  \n",
    "This prevents the program from crashing when an error occurs and allows you to print helpful messages or apply corrective actions.\n",
    "\n",
    "---\n",
    "\n",
    "### **Key Components of `try/except`**\n",
    "\n",
    "| **Component** | **Description**                                                                 |\n",
    "|---------------|----------------------------------------------------------------------------------|\n",
    "| **`try`**     | The block of code where errors might occur.                                      |\n",
    "| **`except`**  | Handles exceptions (errors) raised in the `try` block and specifies corrective actions. |\n",
    "| **`else`**    | Optional block that runs only if no exceptions occur in the `try` block.         |\n",
    "| **`finally`** | Optional block that runs regardless of whether an error occurred or not.         |\n",
    "\n",
    "---\n",
    "\n",
    "### **Common Python Errors and Exceptions**\n",
    "\n",
    "| **Exception**      | **Description**                                  | **Example**                           |\n",
    "|--------------------|--------------------------------------------------|---------------------------------------|\n",
    "| **`KeyError`**     | Raised when accessing a dictionary or dataframe column that doesn't exist | `df['nonexistent_column']`            |\n",
    "| **`ValueError`**   | Raised when a function receives the wrong type of input | `int('abc')` (cannot convert a string to an integer) |\n",
    "| **`ZeroDivisionError`** | Raised when attempting to divide by zero   | `10 / 0`                              |\n",
    "| **`TypeError`**    | Raised when an operation is applied to the wrong type | `\"string\" + 1` (cannot adcolumn does not exist in the dataframe.\")\n"
   ]
  },
  {
   "cell_type": "code",
   "execution_count": 320,
   "id": "f55d6a1a-c947-4215-ae1c-c0b9e1dc32eb",
   "metadata": {},
   "outputs": [
    {
     "name": "stdout",
     "output_type": "stream",
     "text": [
      "Attempting to access a non-existent column\n",
      "Error: Column does not exist!\n",
      "Debugging example completed.\n"
     ]
    }
   ],
   "source": [
    "# Example of try/except for handling KeyError\n",
    "try:\n",
    "    print(\"Attempting to access a non-existent column\")\n",
    "    print(df['nonexistent_column'])  # This column does not exist\n",
    "except KeyError:\n",
    "    print(\"Error: Column does not exist!\")\n",
    "finally:\n",
    "    print(\"Debugging example completed.\")"
   ]
  },
  {
   "cell_type": "code",
   "execution_count": null,
   "id": "6e2eb771-a690-4784-8181-e2d8ed617fdf",
   "metadata": {},
   "outputs": [],
   "source": []
  }
 ],
 "metadata": {
  "kernelspec": {
   "display_name": "Python 3 (ipykernel)",
   "language": "python",
   "name": "python3"
  },
  "language_info": {
   "codemirror_mode": {
    "name": "ipython",
    "version": 3
   },
   "file_extension": ".py",
   "mimetype": "text/x-python",
   "name": "python",
   "nbconvert_exporter": "python",
   "pygments_lexer": "ipython3",
   "version": "3.11.4"
  }
 },
 "nbformat": 4,
 "nbformat_minor": 5
}
