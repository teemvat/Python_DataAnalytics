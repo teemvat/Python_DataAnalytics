{
 "cells": [
  {
   "cell_type": "markdown",
   "id": "97856acc-4d5e-4392-997f-a1cf50b8ebd2",
   "metadata": {},
   "source": [
    "# Course Title: Data Analytics & Statistics in Python\n",
    "## Metropolia University of Applied Sciences\n",
    "## Week 3: Basic Statistics in Python\n",
    "### Date: 19.3.2025\n",
    "\n",
    "<table \"<table style=\"width: 100%;\">\n",
    "  <tr>\n",
    "    <td style=\"text-align: left; vertical-align: middle;\">\n",
    "      <ul style=\"list-style: none; padding-left: 0;\">\n",
    "        <li><strong>Instructor</strong>: Hamed Ahmadinia, Ph.D</li>\n",
    "        <li><strong>Email</strong>: hamed.ahmadinia@metropolia.fi\n",
    "        <li><strong>Web</strong>: www.ahmadinia.fi</li>          </li>\n",
    "      </ul>\n",
    "    </td>\n",
    "  </tr>\n",
    "</table>"
   ]
  },
  {
   "cell_type": "markdown",
   "id": "a5e8009a-bd29-41f6-8e9c-3c97751ebcb5",
   "metadata": {},
   "source": [
    "## **1. Loading the Dataset**\n",
    "\n",
    "### **Loading Medical Examination Dataset**  \n",
    "We will load the **Medical Examination Dataset** from the provided GitHub URL. This dataset contains medical examination records, capturing health metrics such as blood pressure, cholesterol, glucose levels, and lifestyle habits (e.g., smoking, alcohol use).  \n",
    "Let’s load the data and display the first few rows to understand its structure."
   ]
  },
  {
   "cell_type": "code",
   "execution_count": null,
   "id": "1d6e91b1-1003-43ad-ae5d-d2f1b0d5b528",
   "metadata": {},
   "outputs": [
    {
     "name": "stdout",
     "output_type": "stream",
     "text": [
      "Dataset Preview:\n",
      "   id    age  sex  height  weight  ap_hi  ap_lo  cholesterol  gluc  smoke  \\\n",
      "0   0  18393    2     168    62.0    110     80            1     1      0   \n",
      "1   1  20228    1     156    85.0    140     90            3     1      0   \n",
      "2   2  18857    1     165    64.0    130     70            3     1      0   \n",
      "3   3  17623    2     169    82.0    150    100            1     1      0   \n",
      "4   4  17474    1     156    56.0    100     60            1     1      0   \n",
      "\n",
      "   alco  active  cardio  \n",
      "0     0       1       0  \n",
      "1     0       1       1  \n",
      "2     0       0       1  \n",
      "3     0       1       1  \n",
      "4     0       0       0  \n"
     ]
    }
   ],
   "source": [
    "import warnings\n",
    "warnings.filterwarnings(\"ignore\", category=RuntimeWarning) # suppress mathematically undefined errors\n",
    "\n",
    "# Import necessary libraries\n",
    "import pandas as pd  # for handling tabular datasets\n",
    "import numpy as np  # for numerical computations\n",
    "from scipy import stats  # for statistical operations\n",
    "import matplotlib.pyplot as plt  # for plotting\n",
    "import seaborn as sns  # for advanced statistical plots\n",
    "\n",
    "# Load dataset from GitHub URL\n",
    "file_path = \"https://raw.githubusercontent.com/Hamed-Ahmadinia/DASP-2025/refs/heads/main/medical_examination.csv\"  # URL link to the dataset stored on GitHub\n",
    "\n",
    "# Read the dataset into a pandas dataframe\n",
    "df = pd.read_csv(file_path)  # Load the dataset as a pandas DataFrame\n",
    "\n",
    "# Display the first few rows of the dataframe to confirm the data has been loaded correctly\n",
    "print(\"Dataset Preview:\")  # Print a label for context\n",
    "print(df.head(5))  # Display the first 5 rows of the dataset"
   ]
  },
  {
   "cell_type": "markdown",
   "id": "75e517ac-ecd8-448a-a434-71aeac34bd2b",
   "metadata": {},
   "source": [
    "### **Introduction to Statistics in Python**  \n",
    "\n",
    "Python is one of the most popular languages for data analysis, thanks to its powerful libraries and ease of use. Here’s a quick overview of key libraries for statistical analysis:\n",
    "\n",
    "- **NumPy**: Efficient for numerical computations with arrays, offering fast operations for statistics like `mean()`, `median()`, and `std()`.\n",
    "- **Pandas**: Ideal for working with tabular data using **DataFrames**, providing methods for grouping, filtering, and aggregating data.\n",
    "- **SciPy**: Extends NumPy for scientific computations, offering advanced statistical functions such as hypothesis testing and probability distributions.\n",
    "- **Statistics module**: A core Python library for basic statistics like mean, median, mode, and variance—great for simple tasks.\n",
    "\n",
    "Each library has its strengths:\n",
    "- Use **NumPy** for fast numerical operations.\n",
    "- Use **Pandas** for working with CSV files or databases.\n",
    "- Use **SciPy** for specialized statistical analysis.\n",
    "- Use **Statistics** for quick, simple calculations.\n",
    "\n",
    "Knowing how and when to use these libraries can significantly improve your efficiency when woring with data.\n"
   ]
  },
  {
   "cell_type": "markdown",
   "id": "347deb72-7542-4daa-8b3d-521567ea5bdb",
   "metadata": {},
   "source": [
    "### **2. Minimum and Maximum Values**\n",
    "\n",
    "**Overview:**  \n",
    "The **minimum** and **maximum** values of a dataset help you understand its range and identify potential outliers. These values are essential for:\n",
    "- **Calculating range:** Helps quantify the spread of the dataset.\n",
    "- **Data normalization:** Rescales data to standard ranges (e.g., 0 to 1).\n",
    "- **Outlier detection:** Identifies unusually high or low values.\n",
    "- **Setting axis limits:** Optimizes visualizations by adjusting axes.\n",
    "\n",
    "---\n",
    "\n",
    "### **Key Points about Min/Max:**\n",
    "1. **Simple Operations:** Use Python’s built-in `min()` and `max()` functions to get the smallest and largest values from a list or set of numbers.\n",
    "2. **Multiple Data Types:** You can use `min()` and `max()` for numbers, strings, or mixed data types (by defining a `key`).\n",
    "3. **Handles Lists or Variables:** Works efficiently with both single values and arrays.\n",
    "\n",
    "---\n",
    "\n",
    "### *Here is an example of finding the maximum value among three numbers:\n",
    "\n",
    "<div style=\"text-align: center;\">\n",
    "  <img src=\"https://images.surferseo.art/80a707b8-0280-472d-a112-4b91dab140ac.png\" alt=\"Min Max Example\" width=\"400\">\n",
    "</div>\n",
    "\n",
    "---\n"
   ]
  },
  {
   "cell_type": "code",
   "execution_count": null,
   "id": "f17cc04d-2517-4c23-bd3a-8a626d6ad3e3",
   "metadata": {},
   "outputs": [
    {
     "name": "stdout",
     "output_type": "stream",
     "text": [
      "Minimum weight: 10.0\n",
      "Maximum weight: 200.0\n"
     ]
    }
   ],
   "source": [
    "# 2.1 Using Lists and NumPy Arrays \n",
    "\n",
    "# Example: Calculate minimum and maximum of the weight column\n",
    "weight_values = df[\"weight\"].dropna().values  # Convert column to array\n",
    "print(f\"Minimum weight: {np.min(weight_values)}\")\n",
    "print(f\"Maximum weight: {np.max(weight_values)}\")"
   ]
  },
  {
   "cell_type": "code",
   "execution_count": null,
   "id": "8854ba95-8b80-495c-a7bc-d902109b29fa",
   "metadata": {},
   "outputs": [
    {
     "name": "stdout",
     "output_type": "stream",
     "text": [
      "Minimum values in each column:\n",
      "id                 0.0\n",
      "age            10798.0\n",
      "sex                1.0\n",
      "height            55.0\n",
      "weight            10.0\n",
      "ap_hi           -150.0\n",
      "ap_lo            -70.0\n",
      "cholesterol        1.0\n",
      "gluc               1.0\n",
      "smoke              0.0\n",
      "alco               0.0\n",
      "active             0.0\n",
      "cardio             0.0\n",
      "dtype: float64\n",
      "\n",
      "Maximum values in each column:\n",
      "id             99999.0\n",
      "age            23713.0\n",
      "sex                3.0\n",
      "height           250.0\n",
      "weight           200.0\n",
      "ap_hi          16020.0\n",
      "ap_lo          11000.0\n",
      "cholesterol        3.0\n",
      "gluc               3.0\n",
      "smoke              1.0\n",
      "alco               1.0\n",
      "active             1.0\n",
      "cardio             1.0\n",
      "dtype: float64\n"
     ]
    }
   ],
   "source": [
    "# 2.2 Using DataFrames\n",
    "\n",
    "# Min and Max of DataFrame columns\n",
    "print(\"Minimum values in each column:\")\n",
    "print(df.min(numeric_only=True))\n",
    "\n",
    "print(\"\\nMaximum values in each column:\")\n",
    "print(df.max(numeric_only=True))"
   ]
  },
  {
   "cell_type": "markdown",
   "id": "abbf86b3-46ca-4acb-a1b8-5380a63c44c8",
   "metadata": {},
   "source": [
    "### **3. Means of Values**\n",
    "\n",
    "**Overview:**  \n",
    "The **mean** is a measure of **central tendency** that summarizes the average value of a dataset. Depending on the data's characteristics, there are different types of means that provide unique insights:\n",
    "\n",
    "1. **Arithmetic Mean:** The most common type, calculated by summing all values and dividing by the number of observations.\n",
    "2. **Geometric Mean:** Useful for data involving rates of change (e.g., investment growth), calculated by multiplying values and taking the $n$-th root.\n",
    "3. **Harmonic Mean:** Ideal for datasets involving ratios or rates (e.g., speeds), emphasizing smaller values.\n",
    "4. **Weighted Mean:** Accounts for the relative importance or weights of observations.\n",
    "\n",
    "---\n",
    "\n",
    "### **Key Points about Means:**\n",
    "- **Arithmetic Mean:** Gives equal weight to all values; however, it can be influenced by outliers.\n",
    "- **Geometric Mean:** Avoids distortions from compounding effects and better represents proportional changes.\n",
    "- **Harmonic Mean:** Minimizes the impact of large values and emphasizes smaller values, often used in rates.\n",
    "- **Weighted Mean:** Provides a more accurate representation when different data points have different levels of significance.\n",
    "\n",
    "---\n",
    "\n",
    "### **Formulas and Mathematical Examples:**\n",
    "\n",
    "#### **1. Arithmetic Mean (Average)**  \n",
    "**Formula:**  \n",
    "$$ \\bar{x} = \\frac{\\sum_{i=1}^{n} x_i}{n} $$  \n",
    "Where:\n",
    "- $\\bar{x}$ = arithmetic mean  \n",
    "- $x_i$ = each individual value  \n",
    "- $n$ = total number of values  \n",
    "\n",
    "**Example:**  \n",
    "Consider the dataset: **[10, 20, 30, 40, 50]**  \n",
    "$$ \\bar{x} = \\frac{10 + 20 + 30 + 40 + 50}{5} = \\frac{150}{5} = 30 $$  \n",
    "\n",
    "---\n",
    "\n",
    "#### **2. Geometric Mean**  \n",
    "**Formula:**  \n",
    "$$ \\text{GM} = \\left( \\prod_{i=1}^{n} x_i \\right)^{\\frac{1}{n}} $$  \n",
    "Where:\n",
    "- $\\text{GM}$ = geometric mean  \n",
    "- $x_i$ = each individual value  \n",
    "- $n$ = total number of values  \n",
    "\n",
    "**Example:**  \n",
    "Consider the dataset: **[2, 8, 4]**  \n",
    "$$ \\text{GM} = \\left( 2 \\times 8 \\times 4 \\right)^{\\frac{1}{3}} = \\left( 64 \\right)^{\\frac{1}{3}} = 4 $$  \n",
    "\n",
    "---\n",
    "\n",
    "#### **3. Harmonic Mean**  \n",
    "**Formula:**  \n",
    "$$ \\text{HM} = \\frac{n}{\\sum_{i=1}^{n} \\frac{1}{x_i}} $$  \n",
    "Where:\n",
    "- $\\text{HM}$ = harmonic mean  \n",
    "- $x_i$ = each individual value  \n",
    "- $n$ = total number of values  \n",
    "\n",
    "**Example:**  \n",
    "Consider the dataset: **[60, 30]** (e.g., a trip where you travel 60 km/h outbound and 30 km/h return)  \n",
    "$$ \\text{HM} = \\frac{2}{\\frac{1}{60} + \\frac{1}{30}} = \\frac{2}{\\frac{1}{60} + \\frac{2}{60}} = \\frac{2}{\\frac{3}{60}} = \\frac{2 \\times 60}{3} = 40 $$  \n",
    "\n",
    "---\n",
    "\n",
    "#### **4. Weighted Mean**  \n",
    "**Formula:**  \n",
    "$$ \\bar{x}_w = \\frac{\\sum_{i=1}^{n} w_i x_i}{\\sum_{i=1}^{n} w_i} $$  \n",
    "Where:\n",
    "- $\\bar{x}_w$ = weighted mean  \n",
    "- $w_i$ = weight of each value  \n",
    "- $x_i$ = each individual value  \n",
    "- $n$ = total number of values  \n",
    "\n",
    "**Example:**  \n",
    "Consider the values: **[90, 80, 70]** with corresponding weights: **[3, 2, 1]**  \n",
    "$$ \\bar{x}_w = \\frac{(3 \\times 90) + (2 \\times 80) + (1 \\times 70)}{3 + 2 + 1} = \\frac{270 + 160 + 70}{6} = \\frac{500}{6} \\approx 83.33 $$  \n",
    "\n",
    "---\n",
    "\n",
    "### **Summary:**  \n",
    "- The **arithmetic mean** is the simple average.  \n",
    "- The **geometric mean** is better for growth rates and multiplicative processes.  \n",
    "- The **harmonic mean** is useful for averages involving rates (e.g., speed).  \n",
    "- The **weighted mean** adjusts for the relative importance of each value.\n",
    "rates (e.g., speed).  \n",
    "- The **weighted mean** adjusts for the relative importance of each value.\n"
   ]
  },
  {
   "cell_type": "code",
   "execution_count": null,
   "id": "4b8d0bdc-9df0-46a1-9378-a6d01e7bb4aa",
   "metadata": {},
   "outputs": [
    {
     "name": "stdout",
     "output_type": "stream",
     "text": [
      "Arithmetic Mean of Height: 164.36 cm\n"
     ]
    }
   ],
   "source": [
    "# 3.1 Arithmetic Mean\n",
    "\n",
    "# Calculate the mean height\n",
    "mean_height = df[\"height\"].mean()\n",
    "print(f\"Arithmetic Mean of Height: {mean_height:.2f} cm\")"
   ]
  },
  {
   "cell_type": "code",
   "execution_count": null,
   "id": "93bdf040-b9d4-4c9e-b617-286c3df9403f",
   "metadata": {},
   "outputs": [
    {
     "name": "stdout",
     "output_type": "stream",
     "text": [
      "Geometric Mean of Height: 164.15 cm\n"
     ]
    }
   ],
   "source": [
    "# 3.2 Geometric Mean\n",
    "\n",
    "# Calculate the geometric mean of height\n",
    "geometric_mean_height = stats.gmean(df[\"height\"].dropna())\n",
    "print(f\"Geometric Mean of Height: {geometric_mean_height:.2f} cm\")"
   ]
  },
  {
   "cell_type": "code",
   "execution_count": null,
   "id": "40ca1d84-a9b7-4543-aaf0-00e286355c7a",
   "metadata": {},
   "outputs": [
    {
     "name": "stdout",
     "output_type": "stream",
     "text": [
      "Harmonic Mean of Systolic Blood Pressure: 121.69\n"
     ]
    }
   ],
   "source": [
    "# 3.3 Harmonic Mean\n",
    "\n",
    "# Calculate the harmonic mean of systolic blood pressure (ap_hi)\n",
    "harmonic_mean_ap_hi = stats.hmean(df[\"ap_hi\"][df[\"ap_hi\"] > 0])  # Exclude non-positive values\n",
    "print(f\"Harmonic Mean of Systolic Blood Pressure: {harmonic_mean_ap_hi:.2f}\")"
   ]
  },
  {
   "cell_type": "code",
   "execution_count": null,
   "id": "817682b0-c2c8-4185-b4ab-84a21ebf17e6",
   "metadata": {},
   "outputs": [
    {
     "name": "stdout",
     "output_type": "stream",
     "text": [
      "Weighted Mean of Weight (by age): 74.30 kg\n"
     ]
    }
   ],
   "source": [
    "# 3.4 Weighted Mean\n",
    "\n",
    "# Calculate weighted mean weight based on age\n",
    "weights = df[\"age\"]\n",
    "weighted_mean_weight = np.average(df[\"weight\"], weights=weights)\n",
    "print(f\"Weighted Mean of Weight (by age): {weighted_mean_weight:.2f} kg\")"
   ]
  },
  {
   "cell_type": "markdown",
   "id": "a478bf22-4906-4065-bc19-16e7352bd129",
   "metadata": {},
   "source": [
    "### **4. Median and Mode**\n",
    "\n",
    "**Overview:**  \n",
    "The **median** and **mode** are both measures of **central tendency**, but they summarize data differently:  \n",
    "\n",
    "- **Median:** The middle value when the data is sorted.  \n",
    "- **Mode:** The most frequently occurring value(s) in the dataset.\n",
    "\n",
    "---\n",
    "\n",
    "### **1. Median**\n",
    "\n",
    "**Definition:**  \n",
    "The **median** is the value that separates the dataset into two equal halves. If the number of observations is **odd**, the median is the middle value. If the number of observations is **even**, the median is the average of the two middle values.\n",
    "\n",
    "**Formula:**  \n",
    "For sorted data:  \n",
    "- If $n$ (number of data points) is **odd**:  \n",
    "  $$ \\text{Median} = x_{\\left( \\frac{n+1}{2} \\right)} $$  \n",
    "- If $n$ is **even**:  \n",
    "  $$ \\text{Median} = \\frac{x_{\\left( \\frac{n}{2} \\right)} + x_{\\left( \\frac{n}{2} + 1 \\right)}}{2} $$  \n",
    "\n",
    "**Example 1 (Odd dataset):**  \n",
    "Dataset: **[5, 7, 12, 20, 25]** (sorted)  \n",
    "- $n = 5$ (odd)  \n",
    "- Median = $12$ (middle value)\n",
    "\n",
    "**Example 2 (Even dataset):**  \n",
    "Dataset: **[10, 15, 20, 25]** (sorted)  \n",
    "- $n = 4$ (even)  \n",
    "- Median = $\\frac{15 + 20}{2} = 17.5$\n",
    "\n",
    "---\n",
    "\n",
    "### **2. Mode**\n",
    "\n",
    "**Definition:**  \n",
    "The **mode** is the value that occurs **most frequently** in a dataset. A dataset can have:\n",
    "- **No mode**: All values occur only once.\n",
    "- **Unimodal**: One mode (most frequent value).\n",
    "- **Bimodal**: Two modes.\n",
    "- **Multimodal**: More than two modes.\n",
    "\n",
    "**Example 1 (Unimodal):**  \n",
    "Dataset: **[3, 1, 4, 4, 2]**  \n",
    "- Mode = **4** (occurs twice)\n",
    "\n",
    "**Example 2 (Bimodal):**  \n",
    "Dataset: **[10, 15, 20, 10, 20]**  \n",
    "- Modes = **10** and **20** (both occur twice)\n",
    "\n",
    "**Example 3 (No mode):**  \n",
    "Dataset: **[1, 2, 3, 4, 5]**  \n",
    "- No mode (each value occurs once).\n",
    "\n",
    "---\n",
    "\n",
    "### **Summary:**  \n",
    "- The **median** provides a better central value in the presence of outliers compared to the mean.\n",
    "- The **mode** is useful for identifying he most common value(s) in categorical and numerical data.\n"
   ]
  },
  {
   "cell_type": "code",
   "execution_count": null,
   "id": "c13f12cf-1676-4d8b-b3b3-d91bdfb78586",
   "metadata": {},
   "outputs": [
    {
     "name": "stdout",
     "output_type": "stream",
     "text": [
      "Median BMI: 26.37\n"
     ]
    }
   ],
   "source": [
    "# 4.1 Median\n",
    "\n",
    "# Calculate median BMI\n",
    "median_bmi = np.median(df[\"weight\"] / ((df[\"height\"] / 100) ** 2))\n",
    "print(f\"Median BMI: {median_bmi:.2f}\")"
   ]
  },
  {
   "cell_type": "code",
   "execution_count": null,
   "id": "02dd4651-a704-4a04-b89b-966ee24e013e",
   "metadata": {},
   "outputs": [
    {
     "name": "stdout",
     "output_type": "stream",
     "text": [
      "Most Common Cholesterol Level: 1, Count: 52385\n"
     ]
    }
   ],
   "source": [
    "# 4.2 Mode\n",
    "\n",
    "# Calculate the mode of cholesterol levels\n",
    "mode_cholesterol = stats.mode(df[\"cholesterol\"], keepdims=True)\n",
    "print(f\"Most Common Cholesterol Level: {mode_cholesterol.mode[0]}, Count: {mode_cholesterol.count[0]}\")"
   ]
  },
  {
   "cell_type": "markdown",
   "id": "f8ecf475-ca49-40ad-9af8-10663a3c7c84",
   "metadata": {},
   "source": [
    "### **5. Quantiles and Interquartile Range (IQR)**\n",
    "\n",
    "**Overview:**  \n",
    "- **Quantiles** divide a dataset into equal-sized intervals. Common quantiles include:\n",
    "  - **Quartiles**: Divide data into four equal parts (Q1, Q2, Q3).\n",
    "  - **Deciles**: Divide data into ten equal parts.\n",
    "  - **Percentiles**: Divide data into 100 equal parts.\n",
    "- The **Interquartile Range (IQR)** is the range between the **first quartile (Q1)** and the **third quartile (Q3)**, showing the spread of the middle 50% of the data.\n",
    "\n",
    "---\n",
    "\n",
    "### **1. Quantiles**\n",
    "\n",
    "**Definition:**  \n",
    "- **Q1 (25th percentile)**: The value below which 25% of the data falls.  \n",
    "- **Q2 (50th percentile or median)**: The value below which 50% of the data falls.  \n",
    "- **Q3 (75th percentile)**: The value below which 75% of the data falls.\n",
    "\n",
    "**Example:**  \n",
    "Dataset: **[5, 7, 12, 15, 18, 22, 25]** (sorted)  \n",
    "- **Q1**: Value at 25% → **7**  \n",
    "- **Q2 (Median)**: Value at 50% → **15**  \n",
    "- **Q3**: Value at 75% → **22**\n",
    "\n",
    "---\n",
    "\n",
    "### **2. Interquartile Range (IQR)**\n",
    "\n",
    "**Definition:**  \n",
    "The **Interquartile Range (IQR)** measures the spread of the middle 50% of the data and is calculated as:  \n",
    "$$ \\text{IQR} = Q3 - Q1 $$  \n",
    "\n",
    "**Formula:**  \n",
    "$$ \\text{IQR} = Q3 - Q1 $$\n",
    "\n",
    "**Example:**  \n",
    "- **Q3**: 22  \n",
    "- **Q1**: 7  \n",
    "- **IQR**: $22 - 7 = 15$\n",
    "\n",
    "---\n",
    "\n",
    "### **3. Significance of IQR and Quantiles:**\n",
    "- **IQR** is robust to outliers and provides a clear picture of the spread of the middle 50% of data.\n",
    "- **Boxplots** visualize IQR and help detect potential outliers:\n",
    "  - Points below $Q1 - 1.5 \\times \\text{IQR}$ or above $Q3 + 1.5 \\times \\text{IQR}$ are considered outliers.\n",
    "\n",
    "---\n",
    "\n",
    "**Summary:**  \n",
    "- Quantiles help divide and interpret data distributions.\n",
    "- IQR provides a measure of variability, highlighting the concentration of most data points.\n"
   ]
  },
  {
   "cell_type": "code",
   "execution_count": null,
   "id": "ed1dbe66-a987-4505-90be-748492c9ca2c",
   "metadata": {},
   "outputs": [
    {
     "name": "stdout",
     "output_type": "stream",
     "text": [
      "Q1 (25th percentile of weight): 65.00\n",
      "Q3 (75th percentile of weight): 82.00\n",
      "Interquartile Range (IQR) of weight: 17.00\n"
     ]
    },
    {
     "data": {
      "image/png": "[encoded data removed]",
      "text/plain": [
       "<Figure size 800x500 with 1 Axes>"
      ]
     },
     "metadata": {},
     "output_type": "display_data"
    }
   ],
   "source": [
    "# Calculate Q1 (25th percentile), Q3 (75th percentile), and IQR for weight\n",
    "q1_weight = df[\"weight\"].quantile(0.25)\n",
    "q3_weight = df[\"weight\"].quantile(0.75)\n",
    "iqr_weight = q3_weight - q1_weight\n",
    "\n",
    "print(f\"Q1 (25th percentile of weight): {q1_weight:.2f}\")\n",
    "print(f\"Q3 (75th percentile of weight): {q3_weight:.2f}\")\n",
    "print(f\"Interquartile Range (IQR) of weight: {iqr_weight:.2f}\")\n",
    "\n",
    "# Visualize IQR using a boxplot\n",
    "plt.figure(figsize=(8, 5))\n",
    "sns.boxplot(x=df[\"weight\"])\n",
    "plt.title(\"Boxplot of Weight Distribution\")\n",
    "plt.show()"
   ]
  },
  {
   "cell_type": "code",
   "execution_count": null,
   "id": "737135d8-212c-4266-b896-751d45571bb1",
   "metadata": {},
   "outputs": [],
   "source": []
  }
 ],
 "metadata": {
  "kernelspec": {
   "display_name": "Python 3 (ipykernel)",
   "language": "python",
   "name": "python3"
  },
  "language_info": {
   "codemirror_mode": {
    "name": "ipython",
    "version": 3
   },
   "file_extension": ".py",
   "mimetype": "text/x-python",
   "name": "python",
   "nbconvert_exporter": "python",
   "pygments_lexer": "ipython3",
   "version": "3.11.9"
  }
 },
 "nbformat": 4,
 "nbformat_minor": 5
}
