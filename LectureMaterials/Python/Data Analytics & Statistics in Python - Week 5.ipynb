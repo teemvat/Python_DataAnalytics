{
 "cells": [
  {
   "attachments": {},
   "cell_type": "markdown",
   "id": "97856acc-4d5e-4392-997f-a1cf50b8ebd2",
   "metadata": {},
   "source": [
    "# Course Title: Data Analytics & Statistics in Python\n",
    "## Metropolia University of Applied Sciences\n",
    "## Week 5: Relationship between variables\n",
    "### Date: 2.4.2025\n",
    "\n",
    "<table \"<table style=\"width: 100%;\">\n",
    "  <tr>\n",
    "    <td style=\"text-align: left; vertical-align: middle;\">\n",
    "      <ul style=\"list-style: none; padding-left: 0;\">\n",
    "        <li><strong>Instructor</strong>: Hamed Ahmadinia, Ph.D</li>\n",
    "        <li><strong>Email</strong>: hamed.ahmadinia@metropolia.fi\n",
    "        <li><strong>Web</strong>: www.ahmadinia.fi</li>          </li>\n",
    "      </ul>\n",
    "    </td>\n",
    "  </tr>\n",
    "</table>\n",
    "\n",
    "**© 2025 Hamed Ahmadinia – [CC BY-NC 4.0](https://creativecommons.org/licenses/by-nc/4.0/)**"
   ]
  },
  {
   "cell_type": "code",
   "execution_count": 148,
   "id": "707b5bd7-ee66-4342-8eeb-0eb091c26fb3",
   "metadata": {},
   "outputs": [],
   "source": [
    "# Import necessary libraries\n",
    "import warnings\n",
    "warnings.filterwarnings(\"ignore\")  # Suppress warnings for cleaner output\n",
    "\n",
    "import math  # Provides access to mathematical functions like sqrt(), log(), and constants like pi\n",
    "\n",
    "import pandas as pd  # For loading, manipulating, and analyzing structured data (DataFrames)\n",
    "import numpy as np  # For numerical operations and handling arrays\n",
    "\n",
    "import matplotlib.pyplot as plt  # For basic static plots (line, bar, scatter, etc.)\n",
    "import seaborn as sns  # For advanced statistical data visualizations with built-in themes\n",
    "\n",
    "# Hypothesis testing and statistical functions from SciPy\n",
    "from scipy.stats import (\n",
    "    shapiro,        # Test for normality (Shapiro-Wilk)\n",
    "    mannwhitneyu,   # Non-parametric test for two independent samples\n",
    "    ttest_ind,      # Independent two-sample t-test\n",
    "    zscore          # Standardize (z-score) a dataset\n",
    ")\n",
    "\n",
    "# Linear regression model and data splitting tools from scikit-learn\n",
    "from sklearn.linear_model import LinearRegression  # For building linear regression models\n",
    "from sklearn.model_selection import train_test_split  # For splitting data into train/test sets\n",
    "\n",
    "# Regression model evaluation metrics\n",
    "from sklearn.metrics import mean_squared_error, r2_score  # For evaluating model performance (error, goodness of fit)"
   ]
  },
  {
   "cell_type": "markdown",
   "id": "a395bea0-3eba-4337-98f8-2c7b9b31a171",
   "metadata": {},
   "source": [
    "## 📌 Understanding Variance, Covariance, and Correlation\n",
    "\n",
    "In Week 5, we explore how variables relate to each other using three core statistical concepts:\n",
    "\n",
    "---\n",
    "\n",
    "### 1. **Variance (📐 Measuring Spread)**  \n",
    "Variance tells us **how spread out** the values of a single variable are. It is the average of the squared differences from the mean.  \n",
    "- **High variance** → more spread  \n",
    "- **Low variance** → values are close to the mean  \n",
    "Used to understand the **internal variability** of a variable.\n",
    "\n",
    "📦 Example (High School Level):  \n",
    "Imagine a classroom where students take a 10-question quiz.  \n",
    "- In Class A, most students score between 8 and 10 → **Low variance**  \n",
    "- In Class B, scores range from 2 to 10 → **High variance**\n",
    "\n",
    "📦 Data Example: Daily forum page views with large ups and downs will have high variance.\n",
    "\n",
    "---\n",
    "\n",
    "### 2. **Covariance (🔗 Measuring Direction of Relationship)**  \n",
    "Covariance indicates whether two variables **move together**:\n",
    "- **Positive covariance** → variables increase together  \n",
    "- **Negative covariance** → one increases while the other decreases  \n",
    "However, **magnitude is hard to interpret** due to dependency on scale.\n",
    "\n",
    "📦 Example (High School Level):  \n",
    "You track the hours you study and your test scores:\n",
    "- If more study hours = higher scores → **positive covariance**\n",
    "- If more phone time = lower scores → **negative covariance**\n",
    "\n",
    "📦 Data Example: Daily page views and their rolling 30-day average might move together with strong positive covariance.\n",
    "\n",
    "---\n",
    "\n",
    "### 3. **Correlation (📈 Measuring Strength & Direction)**  \n",
    "Correlation is the **normalized** form of covariance. It measures both:\n",
    "- **Direction** (positive/negative)  \n",
    "- **Strength** (scale between -1 to +1)\n",
    "\n",
    "Three common correlation methods:\n",
    "- **Pearson r**: Linear relationship (parametric)\n",
    "- **Spearman ρ**: Monotonic relationship (non-parametric)\n",
    "- **Kendall τ**: Rank-based relationship (non-parametric)\n",
    "\n",
    "📦 Example (High School Level):  \n",
    "Let’s say you compare student height and weight. As height increases, weight also tends to increase → **strong positive correlation**.  \n",
    "If you compare shoe size and math grades, the correlation is likely **very weak or zero**.\n",
    "\n",
    "| Method    | Type of Data         | Handles Non-Linearity | Sensitive to Outliers |\n",
    "|-----------|----------------------|------------------------|------------------------|\n",
    "| Pearson   | Continuous           | ❌ No                 | ✅ Yes                |\n",
    "| Spearman  | Ordinal/Continuous   | ✅ Yes               | 🚫 No                 |\n",
    "| Kendall   | Ordinal/Continuous   | ✅ Yes               | 🚫 No                 |\n",
    "\n",
    "---\n",
    "\n",
    "## 🎯 When to Use What?\n",
    "\n",
    "| You want to...                                  | Use                |\n",
    "|--------------------------------------------------|---------------------|\n",
    "| Measure variation of a single variable           | Variance            |\n",
    "| Check if two variables move together             | Covariance          |\n",
    "| Measure strength of relationship (normalized)    | Correlation         |\n",
    "| Assess linear relationship with continuous data  | Pearson correlation |\n",
    "| Check monotonic or non-linear trend              | Spearman/Kendall    |\n",
    "\n",
    "---\n",
    "\n",
    "## 📊 Visualizing Relationships\n",
    "\n",
    "- Use **scatter plots** for visualizing covariance or correlation.\n",
    "- Use **heatmaps** for correlation matrices.\n",
    "- Always pair visuals with numeric values to confirm assumptions.\n",
    "\n",
    "---\n",
    "\n",
    "> ✅ **Tip**: Correlation does **not** imply causation.  \n",
    "> Just because two things move together doesn’t mean one causes the other!  \n",
    "> Example: Ice cream sales and drowning incidents may both increase in summer—but one doesn't cause the other."
   ]
  },
  {
   "cell_type": "markdown",
   "id": "a5e8009a-bd29-41f6-8e9c-3c97751ebcb5",
   "metadata": {},
   "source": [
    "## 📌 1. Loading the Dataset  \n",
    "In this week, we load the **FCC Forum Page Views** dataset from a public GitHub repository.  \n",
    "This dataset tracks daily page views on the freeCodeCamp forum from 2016 to 2019. It includes a timestamp (`date`) and the corresponding number of page views (`value`).\n",
    "\n",
    "- Date (timestamp)\n",
    "- Page Views (numeric count of forum visits)\n",
    "\n",
    "---\n",
    "\n",
    "**🎯 Why we do it:**  \n",
    "We use real-world time-series data to demonstrate statistical techniques such as covariance, correlation analysis, and linear regression. This dataset is ideal for exploring how trends evolve over time and how statistical relationships can be quantified and predicted.\n",
    "\n",
    "**🛠️ Key Action:**  \n",
    "Use `pandas.read_csv()` to load the dataset, convert the `date` column to datetime, and inspect the first few rows to ensure the data is ready for analysis.\n",
    "ctly.\n"
   ]
  },
  {
   "cell_type": "code",
   "execution_count": 152,
   "id": "1d6e91b1-1003-43ad-ae5d-d2f1b0d5b528",
   "metadata": {},
   "outputs": [
    {
     "name": "stdout",
     "output_type": "stream",
     "text": [
      "Dataset Preview:\n",
      "         date  value\n",
      "0  2016-05-09   1201\n",
      "1  2016-05-10   2329\n",
      "2  2016-05-11   1716\n",
      "3  2016-05-12  10539\n",
      "4  2016-05-13   6933\n",
      "\n",
      "Dataset Info:\n",
      "<class 'pandas.core.frame.DataFrame'>\n",
      "RangeIndex: 1304 entries, 0 to 1303\n",
      "Data columns (total 2 columns):\n",
      " #   Column  Non-Null Count  Dtype \n",
      "---  ------  --------------  ----- \n",
      " 0   date    1304 non-null   object\n",
      " 1   value   1304 non-null   int64 \n",
      "dtypes: int64(1), object(1)\n",
      "memory usage: 20.5+ KB\n",
      "\n",
      "Summary Statistics:\n",
      "              value\n",
      "count  1.304000e+03\n",
      "mean   6.722068e+04\n",
      "std    5.933964e+04\n",
      "min    1.201000e+03\n",
      "25%    3.575775e+04\n",
      "50%    5.719750e+04\n",
      "75%    8.388300e+04\n",
      "max    1.173655e+06\n"
     ]
    }
   ],
   "source": [
    "# Load dataset from GitHub URL\n",
    "df = pd.read_csv(\"https://raw.githubusercontent.com/Hamed-Ahmadinia/DASP-2025/refs/heads/main/fcc-forum-pageviews.csv\")\n",
    "\n",
    "# Preview the dataset\n",
    "print(\"Dataset Preview:\")\n",
    "print(df.head())\n",
    "\n",
    "# Dataset summary\n",
    "print(\"\\nDataset Info:\")\n",
    "df.info()\n",
    "\n",
    "print(\"\\nSummary Statistics:\")\n",
    "print(df.describe())\n",
    "\n",
    "# Convert 'date' column to datetime format and set it as index\n",
    "df['date'] = pd.to_datetime(df['date'])\n",
    "df.set_index('date', inplace=True)"
   ]
  },
  {
   "cell_type": "markdown",
   "id": "c616235f-e02e-4d0a-b14e-faaad77b15d1",
   "metadata": {},
   "source": [
    "## 🧼 2. Handling Missing Data"
   ]
  },
  {
   "cell_type": "code",
   "execution_count": 155,
   "id": "8951d2fa-e0b6-416e-9fda-01183d1fcc72",
   "metadata": {},
   "outputs": [
    {
     "name": "stdout",
     "output_type": "stream",
     "text": [
      "Missing Data Count:\n",
      " value    0\n",
      "dtype: int64\n"
     ]
    }
   ],
   "source": [
    "## Handling Missing Data\n",
    "missing_counts = df.isnull().sum()\n",
    "print(\"Missing Data Count:\\n\", missing_counts)"
   ]
  },
  {
   "cell_type": "markdown",
   "id": "a3e18077-ad23-420d-8030-e1d6ececfe95",
   "metadata": {},
   "source": [
    "## 🧪 3. Check Data Distribution using Shapiro-Wilk test"
   ]
  },
  {
   "cell_type": "code",
   "execution_count": 158,
   "id": "e9edef34-7da2-43c7-97ef-e3e5693eef1d",
   "metadata": {},
   "outputs": [
    {
     "name": "stdout",
     "output_type": "stream",
     "text": [
      "Data Distribution Check:\n",
      " {'value': 'Skewed Distribution'}\n"
     ]
    }
   ],
   "source": [
    "# Check Data Distribution Using Shapiro-Wilk Test\n",
    "\n",
    "def check_distribution(df):\n",
    "    distribution_results = {}  # Dictionary to store results for each numeric column\n",
    "\n",
    "    # Loop through all numeric columns in the DataFrame\n",
    "    for column in df.select_dtypes(include=['number']).columns:\n",
    "        try:\n",
    "            # Apply the Shapiro-Wilk test to a random sample of 100 non-null values\n",
    "            stat, p = shapiro(df[column].dropna().sample(n=100, random_state=42))\n",
    "\n",
    "            # Interpret the p-value to determine normality\n",
    "            distribution_results[column] = \"Normal Distribution\" if p > 0.05 else \"Skewed Distribution\"\n",
    "        except:\n",
    "            # In case the test fails (e.g., not enough data), store a failure message\n",
    "            distribution_results[column] = \"Test Failed\"\n",
    "\n",
    "    return distribution_results  # Return the dictionary with results\n",
    "\n",
    "# Call the function and store the results\n",
    "distribution_results = check_distribution(df)\n",
    "\n",
    "# Print the normality check results\n",
    "print(\"Data Distribution Check:\\n\", distribution_results)"
   ]
  },
  {
   "cell_type": "markdown",
   "id": "aacd33be-b8c3-4bd1-aff9-c6e826dabcba",
   "metadata": {},
   "source": [
    "## 📊 4. Detect, Report, and Visualize Outliers Using Z-Score"
   ]
  },
  {
   "cell_type": "code",
   "execution_count": 161,
   "id": "c5e3fa5e-b0d0-4ac4-93f2-d7ca5b8f102a",
   "metadata": {},
   "outputs": [
    {
     "name": "stdout",
     "output_type": "stream",
     "text": [
      "Number of outliers detected per column:\n",
      " value    7\n",
      "dtype: int64\n",
      "\n",
      "--- Summary Statistics ---\n"
     ]
    },
    {
     "data": {
      "text/html": [
       "<div>\n",
       "<style scoped>\n",
       "    .dataframe tbody tr th:only-of-type {\n",
       "        vertical-align: middle;\n",
       "    }\n",
       "\n",
       "    .dataframe tbody tr th {\n",
       "        vertical-align: top;\n",
       "    }\n",
       "\n",
       "    .dataframe thead th {\n",
       "        text-align: right;\n",
       "    }\n",
       "</style>\n",
       "<table border=\"1\" class=\"dataframe\">\n",
       "  <thead>\n",
       "    <tr style=\"text-align: right;\">\n",
       "      <th></th>\n",
       "      <th>count</th>\n",
       "      <th>mean</th>\n",
       "      <th>std</th>\n",
       "      <th>min</th>\n",
       "      <th>25%</th>\n",
       "      <th>50%</th>\n",
       "      <th>75%</th>\n",
       "      <th>max</th>\n",
       "    </tr>\n",
       "  </thead>\n",
       "  <tbody>\n",
       "    <tr>\n",
       "      <th>value</th>\n",
       "      <td>1304.0</td>\n",
       "      <td>67220.683282</td>\n",
       "      <td>59339.639956</td>\n",
       "      <td>1201.0</td>\n",
       "      <td>35757.75</td>\n",
       "      <td>57197.5</td>\n",
       "      <td>83883.0</td>\n",
       "      <td>1173655.0</td>\n",
       "    </tr>\n",
       "  </tbody>\n",
       "</table>\n",
       "</div>"
      ],
      "text/plain": [
       "        count          mean           std     min       25%      50%      75%  \\\n",
       "value  1304.0  67220.683282  59339.639956  1201.0  35757.75  57197.5  83883.0   \n",
       "\n",
       "             max  \n",
       "value  1173655.0  "
      ]
     },
     "metadata": {},
     "output_type": "display_data"
    },
    {
     "name": "stdout",
     "output_type": "stream",
     "text": [
      "\n",
      " Boxplots to Inspect Outliers:\n"
     ]
    },
    {
     "data": {
      "image/png": "[encoded data removed]",
      "text/plain": [
       "<Figure size 1600x400 with 1 Axes>"
      ]
     },
     "metadata": {},
     "output_type": "display_data"
    }
   ],
   "source": [
    "# Detect, Report, and Visualize Outliers Using Z-Score\n",
    "\n",
    "def visualize_outliers(df, threshold=3):\n",
    "    df_numeric = df.select_dtypes(include=['number'])\n",
    "\n",
    "    # Calculate Z-scores\n",
    "    z_scores = df_numeric.apply(zscore, nan_policy='omit')\n",
    "\n",
    "    # Count how many values are considered outliers\n",
    "    outlier_counts = (z_scores.abs() > threshold).sum()\n",
    "    print(\"Number of outliers detected per column:\\n\", outlier_counts)\n",
    "\n",
    "    # Summary statistics\n",
    "    print(\"\\n--- Summary Statistics ---\")\n",
    "    display(df_numeric.describe().T)\n",
    "\n",
    "    # Boxplot visualization\n",
    "    print(\"\\n Boxplots to Inspect Outliers:\")\n",
    "    df_numeric.plot(kind='box', subplots=True, layout=(1, len(df_numeric.columns)), figsize=(16, 4), patch_artist=True)\n",
    "    plt.tight_layout()\n",
    "    plt.show()\n",
    "\n",
    "# Apply outlier visualization\n",
    "visualize_outliers(df)"
   ]
  },
  {
   "cell_type": "markdown",
   "id": "b5187853-ec4e-4d4c-834e-2c46e122774d",
   "metadata": {},
   "source": [
    "## 🔗 4. Exploring Covariance Between Variables"
   ]
  },
  {
   "cell_type": "code",
   "execution_count": 164,
   "id": "f8526861-d705-40bc-8331-f60f0f2186b8",
   "metadata": {},
   "outputs": [
    {
     "name": "stdout",
     "output_type": "stream",
     "text": [
      "\n",
      "Covariance Matrix:\n",
      "                     value  rolling_mean\n",
      "value         3.528044e+09  1.320357e+09\n",
      "rolling_mean  1.320357e+09  1.309382e+09\n"
     ]
    },
    {
     "data": {
      "image/png": "[encoded data removed]",
      "text/plain": [
       "<Figure size 600x400 with 2 Axes>"
      ]
     },
     "metadata": {},
     "output_type": "display_data"
    }
   ],
   "source": [
    "# Covariance Analysis\n",
    "\n",
    "# Calculate a 30-day rolling mean to smooth out short-term fluctuations\n",
    "df['rolling_mean'] = df['value'].rolling(window=30).mean()\n",
    "\n",
    "# Remove rows with NaN values introduced by the rolling window\n",
    "df_clean = df.dropna()\n",
    "\n",
    "# Calculate the covariance matrix between the original values and their rolling mean\n",
    "cov_matrix = df_clean[['value', 'rolling_mean']].cov()\n",
    "\n",
    "# Display the covariance matrix\n",
    "print(\"\\nCovariance Matrix:\")\n",
    "print(cov_matrix)\n",
    "\n",
    "# Visualize the covariance matrix using a heatmap\n",
    "plt.figure(figsize=(6, 4))\n",
    "sns.heatmap(cov_matrix, annot=True, cmap=\"coolwarm\", center=0)\n",
    "\n",
    "# Add plot title\n",
    "plt.title(\"Covariance Matrix Heatmap\")\n",
    "\n",
    "# Show the plot\n",
    "plt.show()"
   ]
  },
  {
   "cell_type": "markdown",
   "id": "056388e8-5aa1-4a5f-aec2-c5e16a459472",
   "metadata": {},
   "source": [
    "The covariance matrix shows how much two variables change together:\n",
    "\n",
    "- The **diagonal values** (`3.53e+09` and `1.31e+09`) represent the **variance** of `value` and `rolling_mean` respectively. These are large because page view counts vary widely over time.\n",
    "- The **off-diagonal values** (`1.32e+09`) represent the **covariance between `value` and `rolling_mean`**.\n",
    "  - Since this value is large and **positive**, it indicates a strong **positive linear relationship** between daily page views and their 30-day rolling average.\n",
    "\n",
    "**Conclusion**: As page views increase or decrease, the rolling average tends to follow in the same direction—confirming that they move together."
   ]
  },
  {
   "cell_type": "markdown",
   "id": "ad57e906-955f-40c8-931e-0aecd80da2fd",
   "metadata": {},
   "source": [
    "## 📈 5. Analyzing Correlation Between Variables"
   ]
  },
  {
   "cell_type": "code",
   "execution_count": 168,
   "id": "9f7606df-3a2c-4253-9415-32934e3016bf",
   "metadata": {},
   "outputs": [
    {
     "name": "stdout",
     "output_type": "stream",
     "text": [
      "\n",
      "Pearson Correlation:\n",
      "                 value  rolling_mean\n",
      "value         1.000000      0.614315\n",
      "rolling_mean  0.614315      1.000000\n",
      "\n",
      "Spearman Correlation:\n",
      "                 value  rolling_mean\n",
      "value         1.000000      0.904728\n",
      "rolling_mean  0.904728      1.000000\n",
      "\n",
      "Kendall Correlation:\n",
      "                 value  rolling_mean\n",
      "value         1.000000      0.733107\n",
      "rolling_mean  0.733107      1.000000\n"
     ]
    },
    {
     "data": {
      "image/png": "[encoded data removed]",
      "text/plain": [
       "<Figure size 600x400 with 2 Axes>"
      ]
     },
     "metadata": {},
     "output_type": "display_data"
    }
   ],
   "source": [
    "# Calculate correlation matrices using different methods:\n",
    "\n",
    "pearson_corr = df_clean.corr(method='pearson') # - Pearson: linear correlation (assumes normality)\n",
    "spearman_corr = df_clean.corr(method='spearman') # - Spearman: rank-based correlation (monotonic relationships)\n",
    "kendall_corr = df_clean.corr(method='kendall') # - Kendall: rank correlation (more robust with small samples or ties)\n",
    "\n",
    "# Display the correlation matrices\n",
    "print(\"\\nPearson Correlation:\")\n",
    "print(pearson_corr)\n",
    "\n",
    "print(\"\\nSpearman Correlation:\")\n",
    "print(spearman_corr)\n",
    "\n",
    "print(\"\\nKendall Correlation:\")\n",
    "print(kendall_corr)\n",
    "\n",
    "plt.figure(figsize=(6, 4))\n",
    "sns.heatmap(pearson_corr, annot=True, cmap=\"coolwarm\", center=0)\n",
    "\n",
    "# Add title\n",
    "plt.title(\"Pearson Correlation Heatmap\")\n",
    "\n",
    "# Show plot\n",
    "plt.show()"
   ]
  },
  {
   "cell_type": "markdown",
   "id": "d6c33430-359c-4799-bbca-4615457a62fe",
   "metadata": {},
   "source": [
    "We examined the relationship between daily page views (`value`) and their 30-day rolling average (`rolling_mean`) using three correlation methods:\n",
    "\n",
    "- ** Pearson (r = 0.61)** → Moderate linear relationship  \n",
    "- ** Spearman (ρ = 0.90)** → Strong monotonic relationship  \n",
    "- ** Kendall (τ = 0.73)** → Strong positive association\n",
    "\n",
    "---\n",
    "\n",
    "All three methods confirm that the two variables move together in the same direction:\n",
    "- Pearson detects linear trends,\n",
    "- Spearman and Kendall show strong rank-based correlation—even if the relationship isn’t perfectly linear."
   ]
  },
  {
   "cell_type": "markdown",
   "id": "901da545-35c9-4e57-9ce5-6e3b54a0534c",
   "metadata": {},
   "source": [
    "## 📌 Linear Regression, Multivariate Modeling, and Model Evaluation\n",
    "\n",
    "Linear regression is a foundational statistical technique for understanding and predicting relationships between variables. In Week 5, we focus on:\n",
    "\n",
    "---\n",
    "\n",
    "### 1. **Simple Linear Regression (📐 One Feature)**  \n",
    "We model the relationship between one independent variable (**X**) and a dependent variable (**y**) using the equation:\n",
    "\n",
    "\\[\n",
    "y = b_0 + b_1x\n",
    "\\]\n",
    "\n",
    "- **b₀**: Intercept  \n",
    "- **b₁**: Slope (coefficient for x)\n",
    "\n",
    "Used when there's one predictor and a linear relationship is assumed.\n",
    "\n",
    "📘 **Real-life Example:**  \n",
    "Imagine you're tracking your study time and exam scores.\n",
    "\n",
    "| Hours Studied (X) | Exam Score (Y) |\n",
    "|-------------------|----------------|\n",
    "| 1                 | 50             |\n",
    "| 2                 | 60             |\n",
    "| 3                 | 70             |\n",
    "| 4                 | 80             |\n",
    "\n",
    "A simple regression line could look like:  \n",
    "\\[\n",
    "\\text{Score} = 40 + 10 \\times \\text{Hours Studied}\n",
    "\\]\n",
    "\n",
    "This means:  \n",
    "- If you study 0 hours, you'd get ~40 points  \n",
    "- Every extra hour adds 10 points to your score\n",
    "\n",
    "---\n",
    "\n",
    "### 2. **Multivariate Linear Regression (📊 Multiple Features)**  \n",
    "When multiple features are involved, we extend the model:\n",
    "\n",
    "\\[\n",
    "y = b_0 + b_1x_1 + b_2x_2 + ... + b_nx_n\n",
    "\\]\n",
    "\n",
    "📘 **Example:**  \n",
    "Predicting your final grade based on:\n",
    "- **Hours studied**  \n",
    "- **Number of practice quizzes completed**  \n",
    "- **Sleep hours before exam**\n",
    "\n",
    "This helps model **real-world outcomes** using more than one factor.\n",
    "\n",
    "✅ **Tip**: Always scale or normalize features if units vary significantly.\n",
    "\n",
    "---\n",
    "\n",
    "### 3. **Loss Function & Minimization (📉 Mean Squared Error)**  \n",
    "To train a regression model, we minimize the **Mean Squared Error (MSE)**:\n",
    "\n",
    "\\[\n",
    "MSE = \\\\frac{1}{n} \\sum_{i=1}^n (y_i - \\hat{y_i})^2\n",
    "\\]\n",
    "\n",
    "- Measures how far predictions are from actual results  \n",
    "- The goal is to **adjust the line** so it fits the points as closely as possible\n",
    "\n",
    "📌 Known as **Ordinary Least Squares (OLS)**.\n",
    "\n",
    "---\n",
    "\n",
    "### 4. **Evaluating Regression Models (🔍 How Good is Your Fit?)**\n",
    "\n",
    "| Metric                | Description                                                | Ideal Value  |\n",
    "|-----------------------|------------------------------------------------------------|--------------|\n",
    "| 🔢 **R² Score**        | Proportion of variance in y explained by X                | Close to 1   |\n",
    "| 🧮 **MSE / RMSE**      | Average of squared errors / Root of MSE                    | As low as possible |\n",
    "| 📉 **Residual Analysis** | Plot of actual - predicted values; check for randomness | Random scatter |\n",
    "| 🧭 **Intercept & Coefficients** | Explain model behavior and direction             | Context-based |\n",
    "\n",
    "---\n",
    "\n",
    "## 🎯 Best Practices for Regression Modeling\n",
    "\n",
    "✅ **Visualize your data first** – check for linearity  \n",
    "✅ **Split data** into train/test to prevent overfitting  \n",
    "✅ **Check residuals** for patterns  \n",
    "✅ **Don't extrapolate too far beyond training data**\n",
    "\n",
    "---\n",
    "\n",
    "<img src=\"https://upload.wikimedia.org/wikipedia/commons/thumb/3/3a/Linear_regression.svg/800px-Linear_regression.svg.png\" alt=\"Linear Regression\" width=\"600\"/>\n",
    "\n",
    "> ✅ **Comment**: Linear regression is simple, yet powerful. Its interpretability and speed make it a strong baseline model before trying more complex approaches like decision trees or neural networks."
   ]
  },
  {
   "cell_type": "markdown",
   "id": "c308b3b0-4e37-413a-89df-1f084acedbab",
   "metadata": {},
   "source": [
    "## 📐 6. Predicting with Linear Regression using Scikit-Learn"
   ]
  },
  {
   "cell_type": "code",
   "execution_count": 173,
   "id": "e365e6c8-c6d2-4534-9ce1-b5e1794fbbb9",
   "metadata": {},
   "outputs": [
    {
     "name": "stdout",
     "output_type": "stream",
     "text": [
      "\n",
      "Model Evaluation:\n",
      "Intercept: 2711.865351574015\n",
      "Coefficient: 0.9764238516951098\n",
      "R-squared: 0.24420814471315389\n",
      "Mean Squared Error: 4718661966.647624\n"
     ]
    }
   ],
   "source": [
    "# Linear Regression with Scikit-Learn\n",
    "\n",
    "# Goal: Predict the actual value based on its rolling mean\n",
    "\n",
    "# Define features (independent variable) and target (dependent variable)\n",
    "X = df_clean[['rolling_mean']]  # Feature: smoothed version of the value\n",
    "y = df_clean['value']           # Target: original value\n",
    "\n",
    "# Split the dataset into training and testing sets (80% train, 20% test)\n",
    "X_train, X_test, y_train, y_test = train_test_split(\n",
    "    X, y, test_size=0.2, random_state=42\n",
    ")\n",
    "\n",
    "# Initialize and fit a linear regression model\n",
    "model = LinearRegression()\n",
    "model.fit(X_train, y_train)\n",
    "\n",
    "# Predict values for the test set\n",
    "y_pred = model.predict(X_test)\n",
    "\n",
    "# Evaluate model performance\n",
    "print(\"\\nModel Evaluation:\")\n",
    "print(\"Intercept:\", model.intercept_)         # The constant term (β₀)\n",
    "print(\"Coefficient:\", model.coef_[0])         # The slope (β₁) for rolling_mean\n",
    "print(\"R-squared:\", r2_score(y_test, y_pred)) # Proportion of variance explained\n",
    "print(\"Mean Squared Error:\", mean_squared_error(y_test, y_pred))  # Average squared error"
   ]
  },
  {
   "cell_type": "markdown",
   "id": "4964d89e-4451-4cce-99fa-24698fff089d",
   "metadata": {},
   "source": [
    "We used linear regression to predict daily page views based on the 30-day rolling average.\n",
    "\n",
    "### Model Summary:\n",
    "- **Intercept**: 2711.87  \n",
    "- **Coefficient**: 0.976  \n",
    "- **R² Score**: 0.24  \n",
    "- **Mean Squared Error**: ~4.72 billion\n",
    "\n",
    "---\n",
    "\n",
    "- The coefficient close to **1** suggests a nearly 1-to-1 relationship between rolling average and actual page views.\n",
    "- However, **R² = 0.24** indicates the model explains only **24% of the variance** — the relationship exists but isn't very strong.\n",
    "- The relatively large MSE reflects the high variability in daily page views.\n",
    "\n",
    "> **Conclusion**: Rolling averages are helpful predictors, but not enough alone for highly accurate forecasts."
   ]
  },
  {
   "cell_type": "markdown",
   "id": "e6b782f8-0c0a-46af-8561-ac04bf398467",
   "metadata": {},
   "source": [
    "## 🖼️ 6.1 Visualizing the Regression Line"
   ]
  },
  {
   "cell_type": "code",
   "execution_count": 177,
   "id": "2e9eb9a2-79f2-471e-badd-cf94fcc263b9",
   "metadata": {},
   "outputs": [
    {
     "data": {
      "image/png": "[encoded data removed]",
      "text/plain": [
       "<Figure size 800x500 with 1 Axes>"
      ]
     },
     "metadata": {},
     "output_type": "display_data"
    }
   ],
   "source": [
    "# Visualize Regression Results\n",
    "\n",
    "plt.figure(figsize=(8, 5))  # Set the figure size\n",
    "\n",
    "# Scatter plot of actual test data\n",
    "plt.scatter(X_test, y_test, label='Actual', alpha=0.6)\n",
    "\n",
    "# Plot regression line (predicted values)\n",
    "plt.plot(X_test, y_pred, color='red', label='Predicted')\n",
    "\n",
    "# Add labels and title\n",
    "plt.xlabel(\"Rolling Mean (30-day)\")\n",
    "plt.ylabel(\"Page Views\")\n",
    "plt.title(\"Linear Regression: Rolling Mean vs Page Views\")\n",
    "\n",
    "# Add legend and show the plot\n",
    "plt.legend()\n",
    "plt.show()"
   ]
  },
  {
   "cell_type": "markdown",
   "id": "82e2dc38-085b-425d-a8d8-4c623154c963",
   "metadata": {},
   "source": [
    "The scatter plot shows the relationship between the 30-day rolling average (`x-axis`) and actual page views (`y-axis`). The blue dots represent actual observations, while the red line shows the predictions from our linear regression model.\n",
    "\n",
    "- Most data points cluster around the lower end of the x-axis, with a few high outliers.\n",
    "- The red line fits **below many of the actual values**, indicating underprediction in some regions.\n",
    "- The **spread around the line is quite large**, reflecting the relatively low R² score (0.24).\n",
    "\n",
    "**Conclusion**: The model captures a general upward trend, but due to noise and outliers, predictions are not highly precise."
   ]
  },
  {
   "cell_type": "markdown",
   "id": "7b278c89-5337-4b7b-b0cd-df2ed430410b",
   "metadata": {},
   "source": [
    "## 📊 6.2 Plotting Residuals to Evaluate Model Error"
   ]
  },
  {
   "cell_type": "code",
   "execution_count": 181,
   "id": "109ea3b8-7bc2-49e9-8bd3-9e46c758e8a4",
   "metadata": {},
   "outputs": [
    {
     "data": {
      "image/png": "[encoded data removed]",
      "text/plain": [
       "<Figure size 600x400 with 1 Axes>"
      ]
     },
     "metadata": {},
     "output_type": "display_data"
    }
   ],
   "source": [
    "# Residual Plot: Check Prediction Errors\n",
    "\n",
    "# Calculate residuals (actual - predicted)\n",
    "residuals = y_test - y_pred\n",
    "\n",
    "# Plot histogram of residuals\n",
    "plt.figure(figsize=(6, 4))\n",
    "plt.hist(residuals, bins=30, edgecolor='black', color='skyblue')\n",
    "\n",
    "# Add plot title and axis labels\n",
    "plt.title(\"Residual Distribution\")\n",
    "plt.xlabel(\"Prediction Error\")\n",
    "plt.ylabel(\"Frequency\")\n",
    "\n",
    "# Show the plot\n",
    "plt.show()"
   ]
  },
  {
   "cell_type": "markdown",
   "id": "d4941cff-dea1-4b34-a73f-d9bfd958b7e7",
   "metadata": {},
   "source": [
    "\n",
    "The residual plot shows the **distribution of prediction errors** (difference between actual and predicted page views).ns:\n",
    "- Most residuals are **clustered tightly around 0**, which is a good sign — the model is often close to actual values.\n",
    "- However, there are **a few extreme outliers** with large errors, likely due to unpredictable spikes in traffic.\n",
    "- The distribution is **positively skewed**, indicating the model occasionally **underpredicts** very high page vws.\n",
    "\n",
    "✅ **Conclusion**: While the model performs reasonably well for typical values, it struggles with extreme fluctuations — common in real-world web trafic data.\n"
   ]
  },
  {
   "cell_type": "code",
   "execution_count": null,
   "id": "600ea2a9-7f9c-4be8-aa74-80ac9bcb1cad",
   "metadata": {},
   "outputs": [],
   "source": []
  }
 ],
 "metadata": {
  "kernelspec": {
   "display_name": "Python 3 (ipykernel)",
   "language": "python",
   "name": "python3"
  },
  "language_info": {
   "codemirror_mode": {
    "name": "ipython",
    "version": 3
   },
   "file_extension": ".py",
   "mimetype": "text/x-python",
   "name": "python",
   "nbconvert_exporter": "python",
   "pygments_lexer": "ipython3",
   "version": "3.11.9"
  }
 },
 "nbformat": 4,
 "nbformat_minor": 5
}
