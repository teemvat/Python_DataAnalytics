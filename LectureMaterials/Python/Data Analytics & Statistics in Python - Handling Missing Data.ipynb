{
 "cells": [
  {
   "attachments": {},
   "cell_type": "markdown",
   "id": "3603e795-8a68-420f-af09-de9a5202760c",
   "metadata": {},
   "source": [
    "# Course Title: Data Analytics & Statistics in Python\n",
    "## Metropolia University of Applied Sciences\n",
    "## Week 3: Handling Missing Data\n",
    "### Date: 19.3.2025\n",
    "\n",
    "<table \"<table style=\"width: 100%;\">\n",
    "  <tr>\n",
    "    <td style=\"text-align: left; vertical-align: middle;\">\n",
    "      <ul style=\"list-style: none; padding-left: 0;\">\n",
    "        <li><strong>Instructor</strong>: Hamed Ahmadinia, Ph.D</li>\n",
    "        <li><strong>Email</strong>: hamed.ahmadinia@metropolia.fi\n",
    "        <li><strong>Web</strong>: www.ahmadinia.fi</li>          </li>\n",
    "      </ul>\n",
    "    </td>\n",
    "  </tr>\n",
    "</table>"
   ]
  },
  {
   "cell_type": "markdown",
   "id": "66033fde",
   "metadata": {},
   "source": [
    "## Handling Missing Data in Python\n",
    "**This notebook follows our lesson on missing data and covers different techniques to handle missing values in datasets.**\n",
    "\n",
    "We'll explore:\n",
    "- **Deleting missing values** (Listwise & Pairwise Deletion)\n",
    "- **Basic Imputation** (Mean, Median, Mode)\n",
    "- **Advanced Imputation** (KNN, MICE)\n",
    "- **Time-Series Handling** (Forward Fill, Backward Fill, Interpolation)\n",
    "- **Machine Learning for Missing Data** (Random Forest, XGBoost)\n",
    "- **Deep Learning Methods** (Autoencoders)\n",
    "\n",
    "**Let's get started! 🚀**"
   ]
  },
  {
   "cell_type": "code",
   "execution_count": 131,
   "id": "a2b65bc6-5066-4168-a8d3-d9e5300e8fb7",
   "metadata": {},
   "outputs": [],
   "source": [
    "# Import necessary libraries\n",
    "import seaborn as sns  # Seaborn for data visualization\n",
    "import pandas as pd  # Pandas for data manipulation and analysis\n",
    "import numpy as np  # NumPy for numerical computations\n",
    "\n",
    "# Imputation techniques from Scikit-learn\n",
    "from sklearn.impute import KNNImputer  # KNN Imputer for filling missing values using K-Nearest Neighbors\n",
    "from sklearn.ensemble import RandomForestRegressor  # Random Forest for machine learning-based imputation\n",
    "from sklearn.model_selection import train_test_split  # Splitting data into training and testing sets\n",
    "\n",
    "# TensorFlow and Keras for building deep learning models\n",
    "from tensorflow import keras  # High-level API for building and training deep learning models\n",
    "from tensorflow.keras import layers  # Layers module for defining neural network architecture\n",
    "\n",
    "# Label Encoding from Scikit-learn\n",
    "from sklearn.preprocessing import LabelEncoder  # Convert categorical variables into numerical labels for ML models"
   ]
  },
  {
   "cell_type": "markdown",
   "id": "bc181791",
   "metadata": {},
   "source": [
    "## Step 1: Load an Dataset\n",
    "To demonstrate missing data handling techniques, we'll use the **Titanic dataset** from Seaborn.\n",
    "\n",
    "This dataset contains information about passengers on the Titanic, including:\n",
    "- Age (some values missing)\n",
    "- Cabin (many values missing)\n",
    "- Embarked (some values missing)\n",
    "\n",
    "Let's load the dataset and check for missing values."
   ]
  },
  {
   "cell_type": "code",
   "execution_count": 134,
   "id": "b44bd240",
   "metadata": {},
   "outputs": [
    {
     "data": {
      "text/html": [
       "<div>\n",
       "<style scoped>\n",
       "    .dataframe tbody tr th:only-of-type {\n",
       "        vertical-align: middle;\n",
       "    }\n",
       "\n",
       "    .dataframe tbody tr th {\n",
       "        vertical-align: top;\n",
       "    }\n",
       "\n",
       "    .dataframe thead th {\n",
       "        text-align: right;\n",
       "    }\n",
       "</style>\n",
       "<table border=\"1\" class=\"dataframe\">\n",
       "  <thead>\n",
       "    <tr style=\"text-align: right;\">\n",
       "      <th></th>\n",
       "      <th>survived</th>\n",
       "      <th>pclass</th>\n",
       "      <th>sex</th>\n",
       "      <th>age</th>\n",
       "      <th>sibsp</th>\n",
       "      <th>parch</th>\n",
       "      <th>fare</th>\n",
       "      <th>embarked</th>\n",
       "      <th>class</th>\n",
       "      <th>who</th>\n",
       "      <th>adult_male</th>\n",
       "      <th>deck</th>\n",
       "      <th>embark_town</th>\n",
       "      <th>alive</th>\n",
       "      <th>alone</th>\n",
       "    </tr>\n",
       "  </thead>\n",
       "  <tbody>\n",
       "    <tr>\n",
       "      <th>0</th>\n",
       "      <td>0</td>\n",
       "      <td>3</td>\n",
       "      <td>male</td>\n",
       "      <td>22.0</td>\n",
       "      <td>1</td>\n",
       "      <td>0</td>\n",
       "      <td>7.2500</td>\n",
       "      <td>S</td>\n",
       "      <td>Third</td>\n",
       "      <td>man</td>\n",
       "      <td>True</td>\n",
       "      <td>NaN</td>\n",
       "      <td>Southampton</td>\n",
       "      <td>no</td>\n",
       "      <td>False</td>\n",
       "    </tr>\n",
       "    <tr>\n",
       "      <th>1</th>\n",
       "      <td>1</td>\n",
       "      <td>1</td>\n",
       "      <td>female</td>\n",
       "      <td>38.0</td>\n",
       "      <td>1</td>\n",
       "      <td>0</td>\n",
       "      <td>71.2833</td>\n",
       "      <td>C</td>\n",
       "      <td>First</td>\n",
       "      <td>woman</td>\n",
       "      <td>False</td>\n",
       "      <td>C</td>\n",
       "      <td>Cherbourg</td>\n",
       "      <td>yes</td>\n",
       "      <td>False</td>\n",
       "    </tr>\n",
       "    <tr>\n",
       "      <th>2</th>\n",
       "      <td>1</td>\n",
       "      <td>3</td>\n",
       "      <td>female</td>\n",
       "      <td>26.0</td>\n",
       "      <td>0</td>\n",
       "      <td>0</td>\n",
       "      <td>7.9250</td>\n",
       "      <td>S</td>\n",
       "      <td>Third</td>\n",
       "      <td>woman</td>\n",
       "      <td>False</td>\n",
       "      <td>NaN</td>\n",
       "      <td>Southampton</td>\n",
       "      <td>yes</td>\n",
       "      <td>True</td>\n",
       "    </tr>\n",
       "    <tr>\n",
       "      <th>3</th>\n",
       "      <td>1</td>\n",
       "      <td>1</td>\n",
       "      <td>female</td>\n",
       "      <td>35.0</td>\n",
       "      <td>1</td>\n",
       "      <td>0</td>\n",
       "      <td>53.1000</td>\n",
       "      <td>S</td>\n",
       "      <td>First</td>\n",
       "      <td>woman</td>\n",
       "      <td>False</td>\n",
       "      <td>C</td>\n",
       "      <td>Southampton</td>\n",
       "      <td>yes</td>\n",
       "      <td>False</td>\n",
       "    </tr>\n",
       "    <tr>\n",
       "      <th>4</th>\n",
       "      <td>0</td>\n",
       "      <td>3</td>\n",
       "      <td>male</td>\n",
       "      <td>35.0</td>\n",
       "      <td>0</td>\n",
       "      <td>0</td>\n",
       "      <td>8.0500</td>\n",
       "      <td>S</td>\n",
       "      <td>Third</td>\n",
       "      <td>man</td>\n",
       "      <td>True</td>\n",
       "      <td>NaN</td>\n",
       "      <td>Southampton</td>\n",
       "      <td>no</td>\n",
       "      <td>True</td>\n",
       "    </tr>\n",
       "  </tbody>\n",
       "</table>\n",
       "</div>"
      ],
      "text/plain": [
       "   survived  pclass     sex   age  sibsp  parch     fare embarked  class  \\\n",
       "0         0       3    male  22.0      1      0   7.2500        S  Third   \n",
       "1         1       1  female  38.0      1      0  71.2833        C  First   \n",
       "2         1       3  female  26.0      0      0   7.9250        S  Third   \n",
       "3         1       1  female  35.0      1      0  53.1000        S  First   \n",
       "4         0       3    male  35.0      0      0   8.0500        S  Third   \n",
       "\n",
       "     who  adult_male deck  embark_town alive  alone  \n",
       "0    man        True  NaN  Southampton    no  False  \n",
       "1  woman       False    C    Cherbourg   yes  False  \n",
       "2  woman       False  NaN  Southampton   yes   True  \n",
       "3  woman       False    C  Southampton   yes  False  \n",
       "4    man        True  NaN  Southampton    no   True  "
      ]
     },
     "execution_count": 134,
     "metadata": {},
     "output_type": "execute_result"
    }
   ],
   "source": [
    "# Load Titanic dataset\n",
    "df = sns.load_dataset('titanic')\n",
    "\n",
    "# Show the first few rows\n",
    "df.head()"
   ]
  },
  {
   "cell_type": "markdown",
   "id": "8e08e150",
   "metadata": {},
   "source": [
    "## Step 2: Detect Missing Values in Titanic Dataset\n",
    "Let's check how much data is missing in each column."
   ]
  },
  {
   "cell_type": "code",
   "execution_count": 137,
   "id": "b88bc233",
   "metadata": {},
   "outputs": [
    {
     "name": "stdout",
     "output_type": "stream",
     "text": [
      "survived         0\n",
      "pclass           0\n",
      "sex              0\n",
      "age            177\n",
      "sibsp            0\n",
      "parch            0\n",
      "fare             0\n",
      "embarked         2\n",
      "class            0\n",
      "who              0\n",
      "adult_male       0\n",
      "deck           688\n",
      "embark_town      2\n",
      "alive            0\n",
      "alone            0\n",
      "dtype: int64\n"
     ]
    }
   ],
   "source": [
    "# Check missing values\n",
    "print(df.isnull().sum())"
   ]
  },
  {
   "cell_type": "markdown",
   "id": "9262d6f5",
   "metadata": {},
   "source": [
    "## Step 3: Handle Missing Data\n",
    "We'll now apply different techniques to handle missing values in the Titanic dataset."
   ]
  },
  {
   "cell_type": "code",
   "execution_count": 140,
   "id": "5abc7625",
   "metadata": {},
   "outputs": [
    {
     "name": "stdout",
     "output_type": "stream",
     "text": [
      "survived         0\n",
      "pclass           0\n",
      "sex              0\n",
      "age              0\n",
      "sibsp            0\n",
      "parch            0\n",
      "fare             0\n",
      "embarked         0\n",
      "class            0\n",
      "who              0\n",
      "adult_male       0\n",
      "deck           688\n",
      "embark_town      2\n",
      "alive            0\n",
      "alone            0\n",
      "dtype: int64\n"
     ]
    }
   ],
   "source": [
    "# Ensure column names are lowercase\n",
    "df.columns = df.columns.str.lower()\n",
    "\n",
    "# Mean Imputation for 'age'\n",
    "df['age'] = df['age'].fillna(df['age'].mean())\n",
    "\n",
    "# Mode Imputation for 'embarked'\n",
    "df['embarked'] = df['embarked'].fillna(df['embarked'].mode()[0])\n",
    "\n",
    "# Drop 'cabin' column if it exists\n",
    "if 'cabin' in df.columns:\n",
    "    df = df.drop(columns=['cabin'])\n",
    "\n",
    "# Check missing values again\n",
    "print(df.isnull().sum())"
   ]
  },
  {
   "cell_type": "markdown",
   "id": "0cb38aaf",
   "metadata": {},
   "source": [
    "## Step 4: Advanced Imputation (KNN)\n",
    "We can use **KNN Imputation** to predict missing values based on other features."
   ]
  },
  {
   "cell_type": "code",
   "execution_count": 143,
   "id": "b6cb11ef",
   "metadata": {},
   "outputs": [
    {
     "name": "stdout",
     "output_type": "stream",
     "text": [
      "survived         0\n",
      "pclass           0\n",
      "sex              0\n",
      "age              0\n",
      "sibsp            0\n",
      "parch            0\n",
      "fare             0\n",
      "embarked         2\n",
      "class            0\n",
      "who              0\n",
      "adult_male       0\n",
      "deck           688\n",
      "embark_town      2\n",
      "alive            0\n",
      "alone            0\n",
      "dtype: int64\n"
     ]
    }
   ],
   "source": [
    "# Load Titanic dataset\n",
    "df = sns.load_dataset('titanic')\n",
    "\n",
    "# Selecting only numerical features for KNN Imputation\n",
    "numerical_features = ['age', 'fare', 'pclass', 'sibsp', 'parch']  # Include relevant numerical columns\n",
    "\n",
    "# Initialize KNN Imputer (using k=5 neighbors)\n",
    "knn_imputer = KNNImputer(n_neighbors=5)\n",
    "\n",
    "# Apply KNN imputation to numerical columns\n",
    "df[numerical_features] = knn_imputer.fit_transform(df[numerical_features])\n",
    "\n",
    "# Check missing values\n",
    "print(df.isnull().sum())"
   ]
  },
  {
   "cell_type": "markdown",
   "id": "c1b28824-0671-4f58-b678-27093da842be",
   "metadata": {},
   "source": [
    "## Step 5: Advanced Imputation (KNN, MICE)\n",
    "Using **K-Nearest Neighbors (KNN)** to fill missing values based on similar passengers."
   ]
  },
  {
   "cell_type": "code",
   "execution_count": 146,
   "id": "1a032500-da34-4c8e-9df8-82e44315523c",
   "metadata": {},
   "outputs": [
    {
     "data": {
      "text/plain": [
       "survived         0\n",
       "pclass           0\n",
       "sex              0\n",
       "age              0\n",
       "sibsp            0\n",
       "parch            0\n",
       "fare             0\n",
       "embarked         2\n",
       "class            0\n",
       "who              0\n",
       "adult_male       0\n",
       "deck           688\n",
       "embark_town      2\n",
       "alive            0\n",
       "alone            0\n",
       "dtype: int64"
      ]
     },
     "execution_count": 146,
     "metadata": {},
     "output_type": "execute_result"
    }
   ],
   "source": [
    "# Load Titanic dataset\n",
    "df = sns.load_dataset('titanic')\n",
    "\n",
    "# Select only numeric columns for KNN\n",
    "knn_imputer = KNNImputer(n_neighbors=5)\n",
    "df[['age', 'fare']] = knn_imputer.fit_transform(df[['age', 'fare']])\n",
    "\n",
    "# Check missing values\n",
    "df.isnull().sum()"
   ]
  },
  {
   "cell_type": "markdown",
   "id": "54f09218-6f9c-4792-93f9-f7fbd90559a0",
   "metadata": {},
   "source": [
    "## Step 6: Time-Series Methods (Forward Fill, Backward Fill, Interpolation)\n",
    "These methods are useful when working with time-dependent data."
   ]
  },
  {
   "cell_type": "code",
   "execution_count": 149,
   "id": "a27352f3-fa68-48a5-9463-3f8a99f21701",
   "metadata": {},
   "outputs": [
    {
     "data": {
      "text/plain": [
       "survived         0\n",
       "pclass           0\n",
       "sex              0\n",
       "age              0\n",
       "sibsp            0\n",
       "parch            0\n",
       "fare             0\n",
       "embarked         2\n",
       "class            0\n",
       "who              0\n",
       "adult_male       0\n",
       "deck           688\n",
       "embark_town      2\n",
       "alive            0\n",
       "alone            0\n",
       "dtype: int64"
      ]
     },
     "execution_count": 149,
     "metadata": {},
     "output_type": "execute_result"
    }
   ],
   "source": [
    "# Load Titanic dataset\n",
    "df = sns.load_dataset('titanic')\n",
    "\n",
    "# Forward Fill and Backward Fill\n",
    "df['age'] = df['age'].ffill()\n",
    "df['fare'] = df['fare'].bfill()\n",
    "\n",
    "# Interpolation\n",
    "df['age'] = df['age'].interpolate()\n",
    "\n",
    "# Check missing values\n",
    "df.isnull().sum()"
   ]
  },
  {
   "cell_type": "markdown",
   "id": "90f5db64-7132-41b0-b273-09de2af16489",
   "metadata": {},
   "source": [
    "## Step 7: Machine Learning for Imputation (Predicting Missing Values with Random Forest)\n",
    "Using Random Forest to predict and fill missing values in the 'age' column."
   ]
  },
  {
   "cell_type": "code",
   "execution_count": 152,
   "id": "8d04181f-3b41-4082-9952-ba4cdc9778f7",
   "metadata": {},
   "outputs": [],
   "source": [
    "# Load Titanic dataset\n",
    "df = sns.load_dataset('titanic')\n",
    "\n",
    "# Drop rows where 'age' is missing for training\n",
    "df_ml = df.dropna(subset=['age'])\n",
    "X = df_ml[['fare', 'parch', 'sibsp']]\n",
    "y = df_ml['age']\n",
    "\n",
    "# Train-test split\n",
    "X_train, X_test, y_train, y_test = train_test_split(X, y, test_size=0.2, random_state=42)\n",
    "\n",
    "# Train model\n",
    "rf = RandomForestRegressor()\n",
    "rf.fit(X_train, y_train)\n",
    "\n",
    "# Predict missing values only if they exist\n",
    "if df['age'].isnull().sum() > 0:\n",
    "    df.loc[df['age'].isnull(), 'age'] = rf.predict(df[df['age'].isnull()][['fare', 'parch', 'sibsp']])\n",
    "else:\n",
    "    print('No missing values left in age.')"
   ]
  },
  {
   "cell_type": "markdown",
   "id": "26a90e5c-a956-44fc-b740-1e59c5faa68b",
   "metadata": {},
   "source": [
    "## Step 8: Deep Learning for Imputation (Autoencoders to Fill Missing Data)\n",
    "Using a neural network (Autoencoder) to learn patterns and fill missing values."
   ]
  },
  {
   "cell_type": "code",
   "execution_count": 155,
   "id": "06725f12-90da-4110-8f34-1c06daaab156",
   "metadata": {},
   "outputs": [
    {
     "name": "stdout",
     "output_type": "stream",
     "text": [
      "Epoch 1/10\n",
      "\u001b[1m56/56\u001b[0m \u001b[32m━━━━━━━━━━━━━━━━━━━━\u001b[0m\u001b[37m\u001b[0m \u001b[1m1s\u001b[0m 713us/step - loss: 232.6423 \n",
      "Epoch 2/10\n",
      "\u001b[1m56/56\u001b[0m \u001b[32m━━━━━━━━━━━━━━━━━━━━\u001b[0m\u001b[37m\u001b[0m \u001b[1m0s\u001b[0m 661us/step - loss: 15.0612\n",
      "Epoch 3/10\n",
      "\u001b[1m56/56\u001b[0m \u001b[32m━━━━━━━━━━━━━━━━━━━━\u001b[0m\u001b[37m\u001b[0m \u001b[1m0s\u001b[0m 573us/step - loss: 2.0783\n",
      "Epoch 4/10\n",
      "\u001b[1m56/56\u001b[0m \u001b[32m━━━━━━━━━━━━━━━━━━━━\u001b[0m\u001b[37m\u001b[0m \u001b[1m0s\u001b[0m 555us/step - loss: 1.1861\n",
      "Epoch 5/10\n",
      "\u001b[1m56/56\u001b[0m \u001b[32m━━━━━━━━━━━━━━━━━━━━\u001b[0m\u001b[37m\u001b[0m \u001b[1m0s\u001b[0m 573us/step - loss: 0.6811\n",
      "Epoch 6/10\n",
      "\u001b[1m56/56\u001b[0m \u001b[32m━━━━━━━━━━━━━━━━━━━━\u001b[0m\u001b[37m\u001b[0m \u001b[1m0s\u001b[0m 600us/step - loss: 0.5236 \n",
      "Epoch 7/10\n",
      "\u001b[1m56/56\u001b[0m \u001b[32m━━━━━━━━━━━━━━━━━━━━\u001b[0m\u001b[37m\u001b[0m \u001b[1m0s\u001b[0m 555us/step - loss: 0.4092\n",
      "Epoch 8/10\n",
      "\u001b[1m56/56\u001b[0m \u001b[32m━━━━━━━━━━━━━━━━━━━━\u001b[0m\u001b[37m\u001b[0m \u001b[1m0s\u001b[0m 564us/step - loss: 0.3865\n",
      "Epoch 9/10\n",
      "\u001b[1m56/56\u001b[0m \u001b[32m━━━━━━━━━━━━━━━━━━━━\u001b[0m\u001b[37m\u001b[0m \u001b[1m0s\u001b[0m 564us/step - loss: 0.3578\n",
      "Epoch 10/10\n",
      "\u001b[1m56/56\u001b[0m \u001b[32m━━━━━━━━━━━━━━━━━━━━\u001b[0m\u001b[37m\u001b[0m \u001b[1m0s\u001b[0m 564us/step - loss: 0.3354\n",
      "\u001b[1m28/28\u001b[0m \u001b[32m━━━━━━━━━━━━━━━━━━━━\u001b[0m\u001b[37m\u001b[0m \u001b[1m0s\u001b[0m 1ms/step \n",
      "survived       0\n",
      "pclass         0\n",
      "sex            0\n",
      "age            0\n",
      "sibsp          0\n",
      "parch          0\n",
      "fare           0\n",
      "embarked       0\n",
      "class          0\n",
      "who            0\n",
      "adult_male     0\n",
      "deck           0\n",
      "embark_town    0\n",
      "alive          0\n",
      "alone          0\n",
      "dtype: int64\n"
     ]
    }
   ],
   "source": [
    "# Load Titanic dataset\n",
    "df = sns.load_dataset('titanic')\n",
    "\n",
    "# Convert categorical variables to numbers\n",
    "categorical_cols = ['sex', 'embarked', 'who', 'class', 'alive', 'deck', 'embark_town']\n",
    "df_encoded = df.copy()\n",
    "\n",
    "for col in categorical_cols:\n",
    "    df_encoded[col] = LabelEncoder().fit_transform(df_encoded[col].astype(str))\n",
    "\n",
    "# Fill missing values with column mean and convert all values to float\n",
    "df_filled = df_encoded.fillna(df_encoded.mean()).astype(np.float32).values  # Ensures TensorFlow compatibility\n",
    "\n",
    "# Define Autoencoder model with Input layer\n",
    "input_dim = df_filled.shape[1]\n",
    "autoencoder = keras.Sequential([\n",
    "    keras.Input(shape=(input_dim,)),  # Corrected Input Layer\n",
    "    layers.Dense(64, activation='relu'),\n",
    "    layers.Dense(32, activation='relu'),\n",
    "    layers.Dense(64, activation='relu'),\n",
    "    layers.Dense(input_dim, activation='linear')\n",
    "])\n",
    "\n",
    "# Compile and Train\n",
    "autoencoder.compile(optimizer='adam', loss='mse')\n",
    "autoencoder.fit(df_filled, df_filled, epochs=10, batch_size=16, verbose=1)\n",
    "\n",
    "# Predict and fill missing values\n",
    "df_filled_autoencoder = autoencoder.predict(df_filled)\n",
    "df_filled_autoencoder = pd.DataFrame(df_filled_autoencoder, columns=df_encoded.columns)\n",
    "\n",
    "# Check missing values\n",
    "print(df_filled_autoencoder.isnull().sum())\n"
   ]
  },
  {
   "cell_type": "markdown",
   "id": "3ee32fdf-0ab8-402e-b15f-e9d767095c2c",
   "metadata": {},
   "source": [
    "## Step 9: Comparing Methods (Checking which Imputation Works Best)\n",
    "Compare different imputation methods to see which one works best."
   ]
  },
  {
   "cell_type": "code",
   "execution_count": 158,
   "id": "aa0857f4-ee44-47c7-b472-00fd728787ee",
   "metadata": {},
   "outputs": [
    {
     "name": "stdout",
     "output_type": "stream",
     "text": [
      "Missing values after KNN Imputation:\n",
      "survived         0\n",
      "pclass           0\n",
      "sex              0\n",
      "age              0\n",
      "sibsp            0\n",
      "parch            0\n",
      "fare             0\n",
      "embarked         2\n",
      "class            0\n",
      "who              0\n",
      "adult_male       0\n",
      "deck           688\n",
      "embark_town      2\n",
      "alive            0\n",
      "alone            0\n",
      "dtype: int64\n",
      "ML-Based Imputation Done!\n",
      "\n",
      "First 5 rows after ML Imputation:\n",
      "    age     fare  parch  sibsp\n",
      "0  22.0   7.2500      0      1\n",
      "1  38.0  71.2833      0      1\n",
      "2  26.0   7.9250      0      0\n",
      "3  35.0  53.1000      0      1\n",
      "4  35.0   8.0500      0      0\n"
     ]
    }
   ],
   "source": [
    "# Load Titanic dataset\n",
    "df = sns.load_dataset('titanic')\n",
    "\n",
    "# Select numerical columns\n",
    "numeric_cols = df.select_dtypes(include=['number']).columns\n",
    "\n",
    "# Mean Imputation\n",
    "df_mean = df.copy()\n",
    "df_mean[numeric_cols] = df_mean[numeric_cols].fillna(df_mean[numeric_cols].mean())\n",
    "\n",
    "# KNN Imputation\n",
    "knn_imputer = KNNImputer(n_neighbors=5)\n",
    "df_knn = df.copy()\n",
    "df_knn[numeric_cols] = knn_imputer.fit_transform(df_knn[numeric_cols])\n",
    "\n",
    "# Debugging: Show missing values after KNN imputation\n",
    "print(\"Missing values after KNN Imputation:\")\n",
    "print(df_knn.isnull().sum())\n",
    "\n",
    "# ML-Based Imputation (Random Forest)\n",
    "df_ml_imputed = df.copy()\n",
    "\n",
    "# Train Random Forest only if 'age' has missing values\n",
    "if df['age'].isnull().sum() > 0:\n",
    "    # Prepare dataset for ML-based imputation\n",
    "    df_train = df_ml_imputed.dropna(subset=['age'])  # Remove missing target values\n",
    "    df_test = df_ml_imputed[df_ml_imputed['age'].isnull()]  # Rows where 'age' is missing\n",
    "    \n",
    "    X_train = df_train[['fare', 'parch', 'sibsp']]\n",
    "    y_train = df_train['age']\n",
    "    \n",
    "    X_test = df_test[['fare', 'parch', 'sibsp']]\n",
    "    \n",
    "    # Train a Random Forest model\n",
    "    rf = RandomForestRegressor(n_estimators=100, random_state=42)\n",
    "    rf.fit(X_train, y_train)\n",
    "    \n",
    "    # Predict missing values in 'age'\n",
    "    df_ml_imputed.loc[df_ml_imputed['age'].isnull(), 'age'] = rf.predict(X_test)\n",
    "    \n",
    "    print(\"ML-Based Imputation Done!\")\n",
    "else:\n",
    "    print(\"No missing values in 'age'.\")\n",
    "\n",
    "# Display results\n",
    "print(\"\\nFirst 5 rows after ML Imputation:\")\n",
    "print(df_ml_imputed[['age', 'fare', 'parch', 'sibsp']].head())"
   ]
  },
  {
   "cell_type": "markdown",
   "id": "7787b91d-f3e7-40d4-b056-98910ea3fd4d",
   "metadata": {},
   "source": [
    "## Step 10: Summary & Best Practices\n",
    "✅ **For small missing data (<5%)**, simple imputation is fine.\n",
    "\n",
    "✅ **For 5-30% missing values**, try KNN or MICE.\n",
    "\n",
    "✅ **For large missing data (>30%)**, use ML or deep learning.\n",
    "\n",
    "🚀 **Always test different methods and compare the results!**"
   ]
  },
  {
   "cell_type": "code",
   "execution_count": null,
   "id": "8a3648f5-2db1-4512-b791-9176961e530b",
   "metadata": {},
   "outputs": [],
   "source": []
  }
 ],
 "metadata": {
  "kernelspec": {
   "display_name": "Python 3 (ipykernel)",
   "language": "python",
   "name": "python3"
  },
  "language_info": {
   "codemirror_mode": {
    "name": "ipython",
    "version": 3
   },
   "file_extension": ".py",
   "mimetype": "text/x-python",
   "name": "python",
   "nbconvert_exporter": "python",
   "pygments_lexer": "ipython3",
   "version": "3.11.9"
  }
 },
 "nbformat": 4,
 "nbformat_minor": 5
}
