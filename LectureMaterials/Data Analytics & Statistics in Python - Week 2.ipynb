{
 "cells": [
  {
   "cell_type": "markdown",
   "id": "97856acc-4d5e-4392-997f-a1cf50b8ebd2",
   "metadata": {},
   "source": [
    "# Course Title: Data Analytics & Statistics in Python\n",
    "## Metropolia University of Applied Sciences\n",
    "## Week 2: Matrices, DataFrames, and Time-Series Data\n",
    "### Date: 12.3.2025\n",
    "\n",
    "<table \"<table style=\"width: 100%;\">\n",
    "  <tr>\n",
    "    <td style=\"text-align: left; vertical-align: middle;\">\n",
    "      <ul style=\"list-style: none; padding-left: 0;\">\n",
    "        <li><strong>Instructor</strong>: Hamed Ahmadinia, Ph.D</li>\n",
    "        <li><strong>Email</strong>: hamed.ahmadinia@metropolia.fi\n",
    "        <li><strong>Web</strong>: www.ahmadinia.fi</li>          </li>\n",
    "      </ul>\n",
    "    </td>\n",
    "  </tr>\n",
    "</table>"
   ]
  },
  {
   "cell_type": "markdown",
   "id": "a5e8009a-bd29-41f6-8e9c-3c97751ebcb5",
   "metadata": {},
   "source": [
    "## **1. Loading the Dataset**\n",
    "\n",
    "### **Loading the Bike Sales Dataset**  \n",
    "We will load the **Bike Sales Dataset** from the provided GitHub URL. This dataset contains demographic and sales data related to bike purchases.  \n",
    "Let’s load the data and display the first few rows to understand its structure."
   ]
  },
  {
   "cell_type": "code",
   "execution_count": null,
   "id": "705bae5b-1557-4523-a5f7-89867b0fa284",
   "metadata": {},
   "outputs": [
    {
     "name": "stdout",
     "output_type": "stream",
     "text": [
      "Dataset Preview:\n",
      "         Date  Day     Month  Year  Customer_Age       Age_Group  \\\n",
      "0  2013-11-26   26  November  2013            19     Youth (<25)   \n",
      "1  2015-11-26   26  November  2015            19     Youth (<25)   \n",
      "2  2014-03-23   23     March  2014            49  Adults (35-64)   \n",
      "3  2016-03-23   23     March  2016            49  Adults (35-64)   \n",
      "4  2014-05-15   15       May  2014            47  Adults (35-64)   \n",
      "\n",
      "  Customer_Gender    Country             State Product_Category Sub_Category  \\\n",
      "0               M     Canada  British Columbia      Accessories   Bike Racks   \n",
      "1               M     Canada  British Columbia      Accessories   Bike Racks   \n",
      "2               M  Australia   New South Wales      Accessories   Bike Racks   \n",
      "3               M  Australia   New South Wales      Accessories   Bike Racks   \n",
      "4               F  Australia   New South Wales      Accessories   Bike Racks   \n",
      "\n",
      "               Product  Order_Quantity  Unit_Cost  Unit_Price  Profit  Cost  \\\n",
      "0  Hitch Rack - 4-Bike               8         45         120     590   360   \n",
      "1  Hitch Rack - 4-Bike               8         45         120     590   360   \n",
      "2  Hitch Rack - 4-Bike              23         45         120    1366  1035   \n",
      "3  Hitch Rack - 4-Bike              20         45         120    1188   900   \n",
      "4  Hitch Rack - 4-Bike               4         45         120     238   180   \n",
      "\n",
      "   Revenue  \n",
      "0      950  \n",
      "1      950  \n",
      "2     2401  \n",
      "3     2088  \n",
      "4      418  \n"
     ]
    }
   ],
   "source": [
    "import warnings\n",
    "warnings.filterwarnings(\"ignore\", category=RuntimeWarning) # suppress mathematically undefined errors\n",
    "\n",
    "# Import necessary libraries\n",
    "import pandas as pd  # pandas is used for handling tabular datasets (dataframes) and performing operations such as reading CSV files\n",
    "import numpy as np  # numpy is used for numerical computations such as working with arrays and applying mathematical operations\n",
    "\n",
    "# Load dataset from GitHub URL\n",
    "file_path = \"https://raw.githubusercontent.com/Hamed-Ahmadinia/DASP-2025/main/Bike%20Sales.csv\"  # URL link to the dataset stored on GitHub\n",
    "\n",
    "# Read the dataset into a pandas dataframe\n",
    "df = pd.read_csv(file_path)  # Load the dataset as a pandas DataFrame\n",
    "\n",
    "# Display the first few rows of the dataframe to confirm the data has been loaded correctly\n",
    "print(\"Dataset Preview:\")  # Print a label for context\n",
    "print(df.head(5))  # Display the first 5 rows of the dataset"
   ]
  },
  {
   "cell_type": "markdown",
   "id": "cda5ec54-7039-4364-ba80-b03d5972bcb6",
   "metadata": {},
   "source": [
    "# 2. Arrays and Matrices in Python"
   ]
  },
  {
   "cell_type": "markdown",
   "id": "00f12445-41d6-4962-a028-1f73dd93c593",
   "metadata": {},
   "source": [
    "### **2.1 NumPy Arrays**\n",
    "\n",
    "**What is a NumPy Array?**  \n",
    "A **NumPy array** is a **powerful** data structure used in Python for **numerical computations**. It is a collection of **homogeneous elements** (usually numbers) arranged in a **contiguous block of memory**. NumPy arrays are similar to Python lists but offer **faster computations** and **efficient storage**.\n",
    "\n",
    "---\n",
    "\n",
    "### **Key Characteristics of NumPy Arrays:**\n",
    "\n",
    "| **Feature**         | **Description**                                                                 |\n",
    "|---------------------|----------------------------------------------------------------------------------|\n",
    "| **Fixed Size**       | Once created, the size of a NumPy array cannot be changed.                       |\n",
    "| **Homogeneous Type** | All elements in a NumPy array must have the same data type (e.g., integers).     |\n",
    "| **Efficient Storage**| Arrays use a contiguous block of memory, making access and operations faster.    |\n",
    "| **Vectorized Ops**   | Element-wise operations (e.g., addition, multiplication) can be applied directly.|\n",
    "\n",
    "---\n",
    "\n",
    "### **Why Use NumPy Arrays?**  \n",
    "\n",
    "1. **Performance**: NumPy arrays are implemented in C and are much faster than Python lists.\n",
    "2. **Convenient Indexing**: Supports **multi-dimensional** indexing and slicing.\n",
    "3. **Linear Algebra Operations**: NumPy has built-in support for **matrix operations** like **dot products** and **matrix multiplication**.\n",
    "\n",
    "---\n",
    "\n",
    "### **Creating NumPy Arrays**\n",
    "\n",
    "NumPy arrays can be created in various ways:\n",
    "1. **From Lists**: You can convert a Python list to a NumPy array using `np.array()`.\n",
    "2. **Using Functions**: You can create arrays using functions like `arange()`, `linspace()`, `zeros()`, `ones()`, and `random()`.\n",
    "\n",
    "---\n",
    "\n"
   ]
  },
  {
   "cell_type": "code",
   "execution_count": null,
   "id": "7560f64a-e73d-4e5e-949c-ffd8dc8600d3",
   "metadata": {},
   "outputs": [
    {
     "name": "stdout",
     "output_type": "stream",
     "text": [
      "[ 950  950 2401 2088  418]\n"
     ]
    }
   ],
   "source": [
    "# Extract the 'Revenue' column as a NumPy array\n",
    "revenue_array = df['Revenue'].to_numpy()\n",
    "\n",
    "# Show the first 5 values to understand the data\n",
    "print(revenue_array[:5])"
   ]
  },
  {
   "cell_type": "code",
   "execution_count": null,
   "id": "aa148be0-9b80-4437-b570-52bdb6eea0f1",
   "metadata": {},
   "outputs": [
    {
     "name": "stdout",
     "output_type": "stream",
     "text": [
      "Characteristics of the Revenue Array:\n",
      "Total number of elements in the array: 113036\n",
      "Data type of elements: int64\n"
     ]
    }
   ],
   "source": [
    "# --- Key Characteristics of NumPy Arrays ---\n",
    "print(\"Characteristics of the Revenue Array:\")\n",
    "\n",
    "# Fixed size of the array\n",
    "array_size = revenue_array.size\n",
    "print(f\"Total number of elements in the array: {array_size}\")\n",
    "\n",
    "# Homogeneous data type\n",
    "array_dtype = revenue_array.dtype\n",
    "print(f\"Data type of elements: {array_dtype}\")"
   ]
  },
  {
   "cell_type": "code",
   "execution_count": null,
   "id": "e62c23b9-c190-402f-a4fb-8416465ac073",
   "metadata": {},
   "outputs": [
    {
     "name": "stdout",
     "output_type": "stream",
     "text": [
      "Doubled Revenue Values (First 10):\n",
      "[1900 1900 4802 4176  836 1044  758  380 4172 3982]\n"
     ]
    }
   ],
   "source": [
    "# Element-wise operation example (doubling values)\n",
    "revenue_array_doubled = revenue_array * 2\n",
    "print(\"Doubled Revenue Values (First 10):\")\n",
    "print(revenue_array_doubled[:10])"
   ]
  },
  {
   "cell_type": "code",
   "execution_count": null,
   "id": "4ffc0b46-3c12-498f-ab2a-f82f63566ebe",
   "metadata": {},
   "outputs": [
    {
     "name": "stdout",
     "output_type": "stream",
     "text": [
      "Subset of Revenue (First 5 Values):\n",
      "[ 950  950 2401 2088  418]\n"
     ]
    }
   ],
   "source": [
    "# Indexing and slicing example\n",
    "subset_revenue = revenue_array[:5]\n",
    "print(\"Subset of Revenue (First 5 Values):\")\n",
    "print(subset_revenue)"
   ]
  },
  {
   "cell_type": "code",
   "execution_count": null,
   "id": "8cdaf0d9-afaa-4a49-84b0-554cd4c6aede",
   "metadata": {},
   "outputs": [
    {
     "name": "stdout",
     "output_type": "stream",
     "text": [
      "Array created with np.arange (1 to 10):\n",
      "[ 1  2  3  4  5  6  7  8  9 10]\n"
     ]
    }
   ],
   "source": [
    "# Create an array using np.arange (values from 1 to 10)\n",
    "arange_array = np.arange(1, 11)\n",
    "print(\"Array created with np.arange (1 to 10):\")\n",
    "print(arange_array)"
   ]
  },
  {
   "cell_type": "code",
   "execution_count": null,
   "id": "d8de82fe-1ed2-437e-bda7-c85a87877038",
   "metadata": {},
   "outputs": [
    {
     "name": "stdout",
     "output_type": "stream",
     "text": [
      "Array of Zeros (Length 5):\n",
      "[0. 0. 0. 0. 0.]\n"
     ]
    }
   ],
   "source": [
    "# Create an array filled with zeros\n",
    "zeros_array = np.zeros(5)\n",
    "print(\"Array of Zeros (Length 5):\")\n",
    "print(zeros_array)"
   ]
  },
  {
   "cell_type": "code",
   "execution_count": null,
   "id": "89d44a84-6bc9-4ad3-9b35-f1527fe44a9a",
   "metadata": {},
   "outputs": [
    {
     "name": "stdout",
     "output_type": "stream",
     "text": [
      "Random 3x3 Array (Values between 0 and 1):\n",
      "[[0.74767781 0.4789142  0.67393981]\n",
      " [0.67348951 0.8030313  0.58458662]\n",
      " [0.75366764 0.56937257 0.55697789]]\n"
     ]
    }
   ],
   "source": [
    "# Create a 3x3 random array\n",
    "random_array = np.random.rand(3, 3)\n",
    "print(\"Random 3x3 Array (Values between 0 and 1):\")\n",
    "print(random_array)"
   ]
  },
  {
   "cell_type": "markdown",
   "id": "a3bb3c0e-3964-48ae-8741-d0bc22fc137f",
   "metadata": {},
   "source": [
    "### **2.2 Reshaping Arrays**\n",
    "\n",
    "**Reshaping an Array:**  \n",
    "In NumPy, you can **change the shape of an array** using the `reshape()` method. Reshaping is useful when you need to convert between **1D, 2D, or 3D arrays** without altering the actual data.\n",
    "\n",
    "---\n",
    "\n",
    "### **Key Points about Reshaping:**\n",
    "1. The **total number of elements** must remain the same.\n",
    "   - Example: A 1D array with 6 elements can be reshaped to **2x3** (2 rows, 3 columns) or **3x2** (3 rows, 2 columns).\n",
    "2. You can use `-1` to let NumPy **automatically calculate** one of the dimensions.\n",
    "3. Reshaping is commonly used in **data preprocessing**, **linear algebra**, and **machine learning tasks**.\n",
    "\n",
    "---\n",
    "\n",
    "### **Why Reshaping is Important:**\n",
    "- **Data Preprocessing:** Often, data needs to be reshaped into a matrix format before being fed into machine learning models.\n",
    "- **Matrix Operations:** Reshaping makes it easy to apply matrix multiplication and transformations.\n",
    "- **Flattening Arrays:** Reshaping to a 1D array simplifies vectorized operations.\n",
    "\n",
    "---\n",
    "\n",
    "### **Illustration of NumPy Arrays**\n",
    "\n",
    "Below is a visual representation of a NumPy array and its structure:\n",
    "\n",
    "<div style=\"text-align: center;\">\n",
    "  <img src=\"https://www.pythontutorial.net/wp-content/uploads/2022/08/what-is-numpy-1024x572.png\" alt=\"NumPy Arrays Example\" width=\"400\">\n",
    "</div>\n",
    "\n",
    "- **1D Array:** A linear sequence of elements (shape `(n,)`, e.g., `[7, 2, 9, 10]`).\n",
    "- **2D Array:** A matrix with rows and columns (shape `(rows, columns)`, e.g., `[[5.2, 3.0], [9.1, 0.1]]`).\n",
    "- **3D Array:** A cube or collection of 2D matrices (shape `(depth, rows, columns)`).\n",
    "---\n"
   ]
  },
  {
   "cell_type": "code",
   "execution_count": null,
   "id": "7bebc0e7-be14-4c7a-a4f6-56a8e853d30a",
   "metadata": {},
   "outputs": [
    {
     "name": "stdout",
     "output_type": "stream",
     "text": [
      "Reshape to 2D Array (4 rows, 3 columns):\n",
      "[[ 950  950 2401]\n",
      " [2088  418  522]\n",
      " [ 379  190 2086]\n",
      " [1991  758  758]]\n",
      "New Shape: (4, 3)\n"
     ]
    }
   ],
   "source": [
    "# Reshape to a 2D array ---\n",
    "print(\"Reshape to 2D Array (4 rows, 3 columns):\")\n",
    "reshaped_2d = subset_array.reshape(4, 3)\n",
    "print(reshaped_2d)\n",
    "print(f\"New Shape: {reshaped_2d.shape}\")"
   ]
  },
  {
   "cell_type": "code",
   "execution_count": null,
   "id": "701624ac-be8f-424d-aa61-127dcb0ec3d0",
   "metadata": {},
   "outputs": [
    {
     "name": "stdout",
     "output_type": "stream",
     "text": [
      "Reshape to 3D Array (2 blocks, 2 rows, 3 columns):\n",
      "[[[ 950  950 2401]\n",
      "  [2088  418  522]]\n",
      "\n",
      " [[ 379  190 2086]\n",
      "  [1991  758  758]]]\n",
      "New Shape: (2, 2, 3)\n"
     ]
    }
   ],
   "source": [
    "# Reshape to a 3D array ---\n",
    "print(\"Reshape to 3D Array (2 blocks, 2 rows, 3 columns):\")\n",
    "reshaped_3d = subset_array.reshape(2, 2, 3)\n",
    "print(reshaped_3d)\n",
    "print(f\"New Shape: {reshaped_3d.shape}\")"
   ]
  },
  {
   "cell_type": "code",
   "execution_count": null,
   "id": "3084b18a-b8e4-428b-b7a5-3330202e2b26",
   "metadata": {},
   "outputs": [
    {
     "name": "stdout",
     "output_type": "stream",
     "text": [
      "Add a New Axis (convert to 2D shape with one column):\n",
      "[[ 950]\n",
      " [ 950]\n",
      " [2401]\n",
      " [2088]\n",
      " [ 418]\n",
      " [ 522]\n",
      " [ 379]\n",
      " [ 190]\n",
      " [2086]\n",
      " [1991]\n",
      " [ 758]\n",
      " [ 758]]\n",
      "New Shape: (12, 1)\n"
     ]
    }
   ],
   "source": [
    "# Adding a New Axis ---\n",
    "print(\"Add a New Axis (convert to 2D shape with one column):\")\n",
    "new_axis_array = subset_array[:, np.newaxis]\n",
    "print(new_axis_array)\n",
    "print(f\"New Shape: {new_axis_array.shape}\")"
   ]
  },
  {
   "cell_type": "markdown",
   "id": "1e9a8002-427d-41c2-b67d-e41eb49d1c56",
   "metadata": {},
   "source": [
    "# 3. Working with NumPy Arrays"
   ]
  },
  {
   "cell_type": "markdown",
   "id": "18f880d5-edaf-4800-ad8a-81cd8e1186c2",
   "metadata": {},
   "source": [
    "### **3.1 Special Values in Arrays**\n",
    "\n",
    "NumPy provides **special values** like `NaN` (Not a Number) and `inf` (infinity) to handle missing or infinite data.\n",
    "\n",
    "---\n",
    "\n",
    "### **Why Use Special Values?**\n",
    "- Real-world datasets often contain **missing or corrupted data points** (e.g., incomplete survey responses).\n",
    "- Special values help identify, process, and **handle problematic data points** to avoid calculation errors or misleading results.\n",
    "\n",
    "---\n",
    "\n",
    "### **Types of Special Values:**\n",
    "\n",
    "| **Special Value** | **Meaning**                          | **Usage Example**          | **Notes**                                |\n",
    "|-------------------|--------------------------------------|---------------------------|-----------------------------------------|\n",
    "| **`NaN`**         | Not a Number (represents missing data)| `np.nan`                   | `np.isnan()` returns `True` for `NaN` values. |\n",
    "| **`inf`**         | Positive infinity                     | `np.inf`                   | Represents values that exceed numerical limits (e.g., dividing by 0). |\n",
    "| **`-inf`**        | Negative infinity                     | `-np.inf`                  | Used when values trend infinitelh_nan)}\")  # True for NaN, False otherwise\n"
   ]
  },
  {
   "cell_type": "code",
   "execution_count": null,
   "id": "f8aa98df-d044-4ddb-9035-b76454affdb4",
   "metadata": {},
   "outputs": [
    {
     "name": "stdout",
     "output_type": "stream",
     "text": [
      "Special Values Array (mean, NaN, +inf, -inf):\n",
      "[754.37035989          nan          inf         -inf]\n"
     ]
    }
   ],
   "source": [
    "# Create an array containing special values (mean Revenue, NaN, positive infinity, negative infinity)\n",
    "mean_revenue = df['Revenue'].mean()  # Calculate mean revenue for demonstration\n",
    "special_values_array = np.array([mean_revenue, np.nan, np.inf, -np.inf])\n",
    "\n",
    "print(\"Special Values Array (mean, NaN, +inf, -inf):\")\n",
    "print(special_values_array)"
   ]
  },
  {
   "cell_type": "code",
   "execution_count": null,
   "id": "ed67e8b9-f1ff-4965-8474-bf3bdccf037c",
   "metadata": {},
   "outputs": [
    {
     "name": "stdout",
     "output_type": "stream",
     "text": [
      "[False  True False False]\n"
     ]
    }
   ],
   "source": [
    "# Boolean mask to check for NaN values\n",
    "print(np.isnan(special_values_array))"
   ]
  },
  {
   "cell_type": "code",
   "execution_count": null,
   "id": "6f98afa0-e532-4c29-aaa0-67b825dfb2eb",
   "metadata": {},
   "outputs": [
    {
     "name": "stdout",
     "output_type": "stream",
     "text": [
      "[False False  True  True]\n"
     ]
    }
   ],
   "source": [
    "# Boolean mask to check for infinity values (both +inf and -inf)\n",
    "print(np.isinf(special_values_array))"
   ]
  },
  {
   "cell_type": "markdown",
   "id": "9c8b4ec3-d930-473f-9408-41a92922c12a",
   "metadata": {},
   "source": [
    "# 4. Pandas DataFrames"
   ]
  },
  {
   "cell_type": "markdown",
   "id": "63723f75-fec6-4ebc-86dc-d66a0c375560",
   "metadata": {},
   "source": [
    "### **4.1 Introduction to Pandas DataFrames**\n",
    "\n",
    "### **What is a Pandas DataFrame?**\n",
    "- A **Pandas DataFrame** is a **two-dimensional, labeled data structure** that stores data in **rows and columns**.\n",
    "- It’s similar to a **table** in databases or a **spreadsheet** in Excel.\n",
    "- DataFrames are powerful because they allow:\n",
    "  - **Efficient data manipulation** (e.g., filtering, sorting, merging).\n",
    "  - Easy handling of **missing data**.\n",
    "  - Support for **various data types** (e.g., integers, strings, floats).\n",
    "\n",
    "---\n",
    "\n",
    "### **Why Use Pandas?**\n",
    "- Pandas integrates well with other **data science libraries** like:\n",
    "  - **Matplotlib** (for data visualization).\n",
    "  - **Scikit-learn** (for machine learning tasks).\n",
    "- **Key features of Pandas DataFrames:**\n",
    "  - Easy **data cleaning** and **preprocessing**.\n",
    "  - Built-in functions for **grouping**, **merging**, and **aggregating**.\n",
    "  - **Seamless integration** with file formats (e.g., CSV, Excel, SQL databases).\n",
    "\n",
    "---\n",
    "\n",
    "### **Illustration of Pandas DataFrames**\n",
    "\n",
    "<div style=\"text-align: center;\">\n",
    "  <img src=\"https://lh6.googleusercontent.com/proxy/qK5kiy5vtoJ3cvU49t1MGs0o2SX-R07F_JyVQyuYLXITIjWsiqY237gNHNY1B0sY8iIzIh5g1BcxRaq4WmoDbxuD6RCGXgzSUZs\" alt=\"Pandas DataFrame Example\" width=\"400\">\n",
    "</div>\n",
    "\n",
    "---\n",
    "\n",
    "### **Explanation of Pandas DataFrames**\n",
    "\n",
    "1. **Label Index (Rows)**:  \n",
    "   - Shown in **blue** in the image.\n",
    "   - Acts as unique identifiers (e.g., country codes such as `IT`, `ES`, `GR`, etc.).\n",
    "   - Helps reference data by label instead of row number.\n",
    "\n",
    "2. **Column Names**:\n",
    "   - Shown as **header labels** (`Country`, `Popu`, `Percent`).\n",
    "   - Represent the names of the features/variables in the dataset.\n",
    "\n",
    "3. **Data**:\n",
    "   - The main table content.\n",
    "   - Contains values such as country names (`Italy`, `Spain`), population values (`61`, `46`), and percentage values (`0.83`, `0.63`).\n",
    "   - Columns can hold **different types of data** (e.g., `Country` stores strings, `Popu` stores integers, `Percent` stores floats).\n",
    "\n",
    "4. **Indexing and Labeling**:\n",
    "   - The **label index** allows accessing rows by a label (e.g., `IT` for `Italy`).\n",
    "   - This makes operations like filtering and selection more intuitive.\n",
    "\n",
    "--- \n"
   ]
  },
  {
   "cell_type": "code",
   "execution_count": null,
   "id": "78c00454-975c-4037-8b99-22836e76e3e0",
   "metadata": {},
   "outputs": [
    {
     "name": "stdout",
     "output_type": "stream",
     "text": [
      "         Date  Day     Month  Year  Customer_Age    Age_Group Customer_Gender  \\\n",
      "0  2013-11-26   26  November  2013            19  Youth (<25)               M   \n",
      "\n",
      "  Country             State Product_Category Sub_Category  \\\n",
      "0  Canada  British Columbia      Accessories   Bike Racks   \n",
      "\n",
      "               Product  Order_Quantity  Unit_Cost  Unit_Price  Profit  Cost  \\\n",
      "0  Hitch Rack - 4-Bike               8         45         120     590   360   \n",
      "\n",
      "   Revenue  \n",
      "0      950  \n"
     ]
    }
   ],
   "source": [
    "# Preview the first row of the DataFrame\n",
    "print(df.head(1))"
   ]
  },
  {
   "cell_type": "code",
   "execution_count": null,
   "id": "aedc0b83-60b4-4ecb-b706-4239ee684480",
   "metadata": {},
   "outputs": [
    {
     "name": "stdout",
     "output_type": "stream",
     "text": [
      "<class 'pandas.core.frame.DataFrame'>\n",
      "RangeIndex: 113036 entries, 0 to 113035\n",
      "Data columns (total 18 columns):\n",
      " #   Column            Non-Null Count   Dtype \n",
      "---  ------            --------------   ----- \n",
      " 0   Date              113036 non-null  object\n",
      " 1   Day               113036 non-null  int64 \n",
      " 2   Month             113036 non-null  object\n",
      " 3   Year              113036 non-null  int64 \n",
      " 4   Customer_Age      113036 non-null  int64 \n",
      " 5   Age_Group         113036 non-null  object\n",
      " 6   Customer_Gender   113036 non-null  object\n",
      " 7   Country           113036 non-null  object\n",
      " 8   State             113036 non-null  object\n",
      " 9   Product_Category  113036 non-null  object\n",
      " 10  Sub_Category      113036 non-null  object\n",
      " 11  Product           113036 non-null  object\n",
      " 12  Order_Quantity    113036 non-null  int64 \n",
      " 13  Unit_Cost         113036 non-null  int64 \n",
      " 14  Unit_Price        113036 non-null  int64 \n",
      " 15  Profit            113036 non-null  int64 \n",
      " 16  Cost              113036 non-null  int64 \n",
      " 17  Revenue           113036 non-null  int64 \n",
      "dtypes: int64(9), object(9)\n",
      "memory usage: 15.5+ MB\n"
     ]
    }
   ],
   "source": [
    "# General information about the DataFrame (column names, non-null counts, data types)\n",
    "df.info()  # No need for `print()` since `info()` displays automatically"
   ]
  },
  {
   "cell_type": "code",
   "execution_count": null,
   "id": "975878f0-724a-47d1-806b-2371e2663d33",
   "metadata": {},
   "outputs": [
    {
     "name": "stdout",
     "output_type": "stream",
     "text": [
      "                 Day           Year   Customer_Age  Order_Quantity  \\\n",
      "count  113036.000000  113036.000000  113036.000000   113036.000000   \n",
      "mean       15.665753    2014.401739      35.919212       11.901660   \n",
      "std         8.781567       1.272510      11.021936        9.561857   \n",
      "min         1.000000    2011.000000      17.000000        1.000000   \n",
      "25%         8.000000    2013.000000      28.000000        2.000000   \n",
      "50%        16.000000    2014.000000      35.000000       10.000000   \n",
      "75%        23.000000    2016.000000      43.000000       20.000000   \n",
      "max        31.000000    2016.000000      87.000000       32.000000   \n",
      "\n",
      "           Unit_Cost     Unit_Price         Profit           Cost  \\\n",
      "count  113036.000000  113036.000000  113036.000000  113036.000000   \n",
      "mean      267.296366     452.938427     285.051665     469.318695   \n",
      "std       549.835483     922.071219     453.887443     884.866118   \n",
      "min         1.000000       2.000000     -30.000000       1.000000   \n",
      "25%         2.000000       5.000000      29.000000      28.000000   \n",
      "50%         9.000000      24.000000     101.000000     108.000000   \n",
      "75%        42.000000      70.000000     358.000000     432.000000   \n",
      "max      2171.000000    3578.000000   15096.000000   42978.000000   \n",
      "\n",
      "             Revenue  \n",
      "count  113036.000000  \n",
      "mean      754.370360  \n",
      "std      1309.094674  \n",
      "min         2.000000  \n",
      "25%        63.000000  \n",
      "50%       223.000000  \n",
      "75%       800.000000  \n",
      "max     58074.000000  \n"
     ]
    }
   ],
   "source": [
    "# Summary statistics for numeric columns (e.g., mean, min, max)\n",
    "print(df.describe())"
   ]
  },
  {
   "cell_type": "code",
   "execution_count": null,
   "id": "6c60fc5e-22e7-4fed-a501-fcc55b9df108",
   "metadata": {},
   "outputs": [
    {
     "name": "stdout",
     "output_type": "stream",
     "text": [
      "Number of Rows: 113036, Number of Columns: 18\n"
     ]
    }
   ],
   "source": [
    "# Check the shape of the DataFrame (number of rows and columns)\n",
    "print(f\"Number of Rows: {df.shape[0]}, Number of Columns: {df.shape[1]}\")"
   ]
  },
  {
   "cell_type": "code",
   "execution_count": null,
   "id": "deecccbb-7731-4f73-a282-28cf29fdfa50",
   "metadata": {},
   "outputs": [
    {
     "name": "stdout",
     "output_type": "stream",
     "text": [
      "['Date', 'Day', 'Month', 'Year', 'Customer_Age', 'Age_Group', 'Customer_Gender', 'Country', 'State', 'Product_Category', 'Sub_Category', 'Product', 'Order_Quantity', 'Unit_Cost', 'Unit_Price', 'Profit', 'Cost', 'Revenue']\n"
     ]
    }
   ],
   "source": [
    "# Display the column names\n",
    "print(df.columns.tolist())"
   ]
  },
  {
   "cell_type": "code",
   "execution_count": null,
   "id": "25933ed3-557b-4441-b509-c552c040f007",
   "metadata": {},
   "outputs": [
    {
     "name": "stdout",
     "output_type": "stream",
     "text": [
      "0     950\n",
      "1     950\n",
      "2    2401\n",
      "3    2088\n",
      "4     418\n",
      "Name: Revenue, dtype: int64\n"
     ]
    }
   ],
   "source": [
    "# Access a single column ('Revenue') as a Series\n",
    "print(df['Revenue'].head(5))"
   ]
  },
  {
   "cell_type": "code",
   "execution_count": null,
   "id": "36c50f1e-4dcd-4a99-b764-6eb65c3f27d4",
   "metadata": {},
   "outputs": [
    {
     "name": "stdout",
     "output_type": "stream",
     "text": [
      "     Country             State  Revenue\n",
      "0     Canada  British Columbia      950\n",
      "1     Canada  British Columbia      950\n",
      "2  Australia   New South Wales     2401\n",
      "3  Australia   New South Wales     2088\n",
      "4  Australia   New South Wales      418\n"
     ]
    }
   ],
   "source": [
    "# Access multiple columns ('Country', 'State', 'Revenue') as a new DataFrame\n",
    "print(df[['Country', 'State', 'Revenue']].head())"
   ]
  },
  {
   "cell_type": "code",
   "execution_count": null,
   "id": "beefecc8-ea5d-4125-a560-868990d3436f",
   "metadata": {},
   "outputs": [
    {
     "name": "stdout",
     "output_type": "stream",
     "text": [
      "         Date  Day     Month  Year  Customer_Age       Age_Group  \\\n",
      "0  2013-11-26   26  November  2013            19     Youth (<25)   \n",
      "1  2015-11-26   26  November  2015            19     Youth (<25)   \n",
      "2  2014-03-23   23     March  2014            49  Adults (35-64)   \n",
      "\n",
      "  Customer_Gender    Country             State Product_Category Sub_Category  \\\n",
      "0               M     Canada  British Columbia      Accessories   Bike Racks   \n",
      "1               M     Canada  British Columbia      Accessories   Bike Racks   \n",
      "2               M  Australia   New South Wales      Accessories   Bike Racks   \n",
      "\n",
      "               Product  Order_Quantity  Unit_Cost  Unit_Price  Profit  Cost  \\\n",
      "0  Hitch Rack - 4-Bike               8         45         120     590   360   \n",
      "1  Hitch Rack - 4-Bike               8         45         120     590   360   \n",
      "2  Hitch Rack - 4-Bike              23         45         120    1366  1035   \n",
      "\n",
      "   Revenue  \n",
      "0      950  \n",
      "1      950  \n",
      "2     2401  \n"
     ]
    }
   ],
   "source": [
    "# Select rows using iloc (numerical index-based)\n",
    "print(df.iloc[0:3])"
   ]
  },
  {
   "cell_type": "markdown",
   "id": "f203d471-7322-4f33-ae2d-a050401a8811",
   "metadata": {},
   "source": [
    "# 5. Editing and Filtering Data"
   ]
  },
  {
   "cell_type": "markdown",
   "id": "0f6a8b4d-1f59-4662-ad2f-afb93e377a05",
   "metadata": {},
   "source": [
    "### **5.1 Handling Missing Data**\n",
    "\n",
    "### **Why Handle Missing Data?**  \n",
    "Real-world datasets often contain missing or incomplete information due to:  \n",
    "- Human errors (e.g., unanswered survey questions).  \n",
    "- System issues (e.g., sensor malfunctions).  \n",
    "- Data collection issues (e.g., lost records).  \n",
    "\n",
    "Missing data can cause issues such as:  \n",
    "- Errors during calculations.  \n",
    "- Skewed results due to incomplete analysis.  \n",
    "\n",
    "---\n",
    "\n",
    "### **Common Pandas Methods for Handling Missing Data**\n",
    "\n",
    "| **Method**   | **Description**                                                                            | **Example**                       |\n",
    "|--------------|---------------------------------------------------------------------------------------------|------------------------------------|\n",
    "| `dropna()`   | Removes rows/columns with missing values.                                                    | `df.dropna()`                     |\n",
    "| `fillna()`   | Replaces missing values with a specified value (e.g., `0`, mean, median).                    | `df.fillna(0)`                     |\n",
    "| `isna()`     | Returns a DataFrame of `True` for missing values and `False` otherwise.                      | `df.isna()`                        |\n",
    "| `notna()`    | Returns a DataFrame of `True` for non-missing values and `False` otherwise.                  | `df.notna()`                       |\n",
    "\n",
    "---\n",
    "\n",
    "### **Illustration of Missing Data**\n",
    "\n",
    "<div style=\"text-align: center;\">\n",
    "  <img src=\"https://www.solver.com/sites/default/files/ExamplesxlsxScreenshot1_2.jpg\" alt=\"Missing Data Example\" width=\"300\">\n",
    "</div>  \n",
    "\n",
    "The image above shows missing data represented as blank cells (`NaN` in Pandas).\n",
    "\n",
    "---\n"
   ]
  },
  {
   "cell_type": "code",
   "execution_count": null,
   "id": "d878de32-8e7a-472c-be5f-a15880f3643e",
   "metadata": {},
   "outputs": [
    {
     "name": "stdout",
     "output_type": "stream",
     "text": [
      "Date                0\n",
      "Day                 0\n",
      "Month               0\n",
      "Year                0\n",
      "Customer_Age        0\n",
      "Age_Group           0\n",
      "Customer_Gender     0\n",
      "Country             0\n",
      "State               0\n",
      "Product_Category    0\n",
      "Sub_Category        0\n",
      "Product             0\n",
      "Order_Quantity      0\n",
      "Unit_Cost           0\n",
      "Unit_Price          0\n",
      "Profit              0\n",
      "Cost                0\n",
      "Revenue             0\n",
      "dtype: int64\n"
     ]
    }
   ],
   "source": [
    "# Check for missing values in each column\n",
    "missing_values = df.isna().sum()  # Number of missing values per column\n",
    "print(missing_values)"
   ]
  },
  {
   "cell_type": "code",
   "execution_count": null,
   "id": "b184e350-1a8a-42d6-9b6d-702ff72326b4",
   "metadata": {},
   "outputs": [
    {
     "name": "stdout",
     "output_type": "stream",
     "text": [
      "         Date  Day     Month  Year  Customer_Age       Age_Group  \\\n",
      "0  2013-11-26   26  November  2013            19     Youth (<25)   \n",
      "1  2015-11-26   26  November  2015            19     Youth (<25)   \n",
      "2  2014-03-23   23     March  2014            49  Adults (35-64)   \n",
      "3  2016-03-23   23     March  2016            49  Adults (35-64)   \n",
      "4  2014-05-15   15       May  2014            47  Adults (35-64)   \n",
      "\n",
      "  Customer_Gender    Country             State Product_Category Sub_Category  \\\n",
      "0               M     Canada  British Columbia      Accessories   Bike Racks   \n",
      "1               M     Canada  British Columbia      Accessories   Bike Racks   \n",
      "2               M  Australia   New South Wales      Accessories   Bike Racks   \n",
      "3               M  Australia   New South Wales      Accessories   Bike Racks   \n",
      "4               F  Australia   New South Wales      Accessories   Bike Racks   \n",
      "\n",
      "               Product  Order_Quantity  Unit_Cost  Unit_Price  Profit  Cost  \\\n",
      "0  Hitch Rack - 4-Bike               8         45         120     590   360   \n",
      "1  Hitch Rack - 4-Bike               8         45         120     590   360   \n",
      "2  Hitch Rack - 4-Bike              23         45         120    1366  1035   \n",
      "3  Hitch Rack - 4-Bike              20         45         120    1188   900   \n",
      "4  Hitch Rack - 4-Bike               4         45         120     238   180   \n",
      "\n",
      "   Revenue  \n",
      "0      950  \n",
      "1      950  \n",
      "2     2401  \n",
      "3     2088  \n",
      "4      418  \n"
     ]
    }
   ],
   "source": [
    "# Remove rows with missing values using `dropna()`\n",
    "cleaned_df = df.dropna()  # Drops rows with any NaN values\n",
    "print(cleaned_df.head())"
   ]
  },
  {
   "cell_type": "code",
   "execution_count": null,
   "id": "768dbed7-96ba-4236-a767-3d26eb9a7d3b",
   "metadata": {},
   "outputs": [
    {
     "name": "stdout",
     "output_type": "stream",
     "text": [
      "         Date  Day     Month  Year  Customer_Age       Age_Group  \\\n",
      "0  2013-11-26   26  November  2013            19     Youth (<25)   \n",
      "1  2015-11-26   26  November  2015            19     Youth (<25)   \n",
      "2  2014-03-23   23     March  2014            49  Adults (35-64)   \n",
      "3  2016-03-23   23     March  2016            49  Adults (35-64)   \n",
      "4  2014-05-15   15       May  2014            47  Adults (35-64)   \n",
      "\n",
      "  Customer_Gender    Country             State Product_Category Sub_Category  \\\n",
      "0               M     Canada  British Columbia      Accessories   Bike Racks   \n",
      "1               M     Canada  British Columbia      Accessories   Bike Racks   \n",
      "2               M  Australia   New South Wales      Accessories   Bike Racks   \n",
      "3               M  Australia   New South Wales      Accessories   Bike Racks   \n",
      "4               F  Australia   New South Wales      Accessories   Bike Racks   \n",
      "\n",
      "               Product  Order_Quantity  Unit_Cost  Unit_Price  Profit  Cost  \\\n",
      "0  Hitch Rack - 4-Bike               8         45         120     590   360   \n",
      "1  Hitch Rack - 4-Bike               8         45         120     590   360   \n",
      "2  Hitch Rack - 4-Bike              23         45         120    1366  1035   \n",
      "3  Hitch Rack - 4-Bike              20         45         120    1188   900   \n",
      "4  Hitch Rack - 4-Bike               4         45         120     238   180   \n",
      "\n",
      "   Revenue  \n",
      "0      950  \n",
      "1      950  \n",
      "2     2401  \n",
      "3     2088  \n",
      "4      418  \n"
     ]
    }
   ],
   "source": [
    "# Fill missing values with a default value (e.g., 0)\n",
    "filled_df = df.fillna(0)  # Replaces all NaN values with 0\n",
    "print(filled_df.head())"
   ]
  },
  {
   "cell_type": "code",
   "execution_count": null,
   "id": "9efe8a4f-e755-4ef7-9b56-000481955ef6",
   "metadata": {},
   "outputs": [
    {
     "name": "stdout",
     "output_type": "stream",
     "text": [
      "         Date  Day     Month  Year  Customer_Age       Age_Group  \\\n",
      "0  2013-11-26   26  November  2013            19     Youth (<25)   \n",
      "1  2015-11-26   26  November  2015            19     Youth (<25)   \n",
      "2  2014-03-23   23     March  2014            49  Adults (35-64)   \n",
      "3  2016-03-23   23     March  2016            49  Adults (35-64)   \n",
      "4  2014-05-15   15       May  2014            47  Adults (35-64)   \n",
      "\n",
      "  Customer_Gender    Country             State Product_Category Sub_Category  \\\n",
      "0               M     Canada  British Columbia      Accessories   Bike Racks   \n",
      "1               M     Canada  British Columbia      Accessories   Bike Racks   \n",
      "2               M  Australia   New South Wales      Accessories   Bike Racks   \n",
      "3               M  Australia   New South Wales      Accessories   Bike Racks   \n",
      "4               F  Australia   New South Wales      Accessories   Bike Racks   \n",
      "\n",
      "               Product  Order_Quantity  Unit_Cost  Unit_Price  Profit  Cost  \\\n",
      "0  Hitch Rack - 4-Bike               8         45         120     590   360   \n",
      "1  Hitch Rack - 4-Bike               8         45         120     590   360   \n",
      "2  Hitch Rack - 4-Bike              23         45         120    1366  1035   \n",
      "3  Hitch Rack - 4-Bike              20         45         120    1188   900   \n",
      "4  Hitch Rack - 4-Bike               4         45         120     238   180   \n",
      "\n",
      "   Revenue  \n",
      "0      950  \n",
      "1      950  \n",
      "2     2401  \n",
      "3     2088  \n",
      "4      418  \n"
     ]
    }
   ],
   "source": [
    "# Forward fill: Fill missing values with the previous value\n",
    "ffill_df = df.ffill()  # Forward fill\n",
    "print(ffill_df.head())"
   ]
  },
  {
   "cell_type": "code",
   "execution_count": null,
   "id": "8039a423-f1df-4af1-9082-e8a2b5e59807",
   "metadata": {},
   "outputs": [
    {
     "name": "stdout",
     "output_type": "stream",
     "text": [
      "         Date  Day     Month  Year  Customer_Age       Age_Group  \\\n",
      "0  2013-11-26   26  November  2013            19     Youth (<25)   \n",
      "1  2015-11-26   26  November  2015            19     Youth (<25)   \n",
      "2  2014-03-23   23     March  2014            49  Adults (35-64)   \n",
      "3  2016-03-23   23     March  2016            49  Adults (35-64)   \n",
      "4  2014-05-15   15       May  2014            47  Adults (35-64)   \n",
      "\n",
      "  Customer_Gender    Country             State Product_Category Sub_Category  \\\n",
      "0               M     Canada  British Columbia      Accessories   Bike Racks   \n",
      "1               M     Canada  British Columbia      Accessories   Bike Racks   \n",
      "2               M  Australia   New South Wales      Accessories   Bike Racks   \n",
      "3               M  Australia   New South Wales      Accessories   Bike Racks   \n",
      "4               F  Australia   New South Wales      Accessories   Bike Racks   \n",
      "\n",
      "               Product  Order_Quantity  Unit_Cost  Unit_Price  Profit  Cost  \\\n",
      "0  Hitch Rack - 4-Bike               8         45         120     590   360   \n",
      "1  Hitch Rack - 4-Bike               8         45         120     590   360   \n",
      "2  Hitch Rack - 4-Bike              23         45         120    1366  1035   \n",
      "3  Hitch Rack - 4-Bike              20         45         120    1188   900   \n",
      "4  Hitch Rack - 4-Bike               4         45         120     238   180   \n",
      "\n",
      "   Revenue  \n",
      "0      950  \n",
      "1      950  \n",
      "2     2401  \n",
      "3     2088  \n",
      "4      418  \n"
     ]
    }
   ],
   "source": [
    "# Backward fill: Fill missing values with the next value\n",
    "bfill_df = df.bfill()  # Backward fill\n",
    "print(bfill_df.head())"
   ]
  },
  {
   "cell_type": "code",
   "execution_count": null,
   "id": "eb104700-7929-4dba-94fc-ac170b9f0586",
   "metadata": {},
   "outputs": [
    {
     "name": "stdout",
     "output_type": "stream",
     "text": [
      "    Date    Day  Month   Year  Customer_Age  Age_Group  Customer_Gender  \\\n",
      "0  False  False  False  False         False      False            False   \n",
      "1  False  False  False  False         False      False            False   \n",
      "2  False  False  False  False         False      False            False   \n",
      "3  False  False  False  False         False      False            False   \n",
      "4  False  False  False  False         False      False            False   \n",
      "\n",
      "   Country  State  Product_Category  Sub_Category  Product  Order_Quantity  \\\n",
      "0    False  False             False         False    False           False   \n",
      "1    False  False             False         False    False           False   \n",
      "2    False  False             False         False    False           False   \n",
      "3    False  False             False         False    False           False   \n",
      "4    False  False             False         False    False           False   \n",
      "\n",
      "   Unit_Cost  Unit_Price  Profit   Cost  Revenue  \n",
      "0      False       False   False  False    False  \n",
      "1      False       False   False  False    False  \n",
      "2      False       False   False  False    False  \n",
      "3      False       False   False  False    False  \n",
      "4      False       False   False  False    False  \n"
     ]
    }
   ],
   "source": [
    "# Create a boolean mask to identify missing values\n",
    "boolean_mask = df.isna()\n",
    "print(boolean_mask.head())  # True where NaN, False otherwise"
   ]
  },
  {
   "cell_type": "code",
   "execution_count": null,
   "id": "d9f785cf-749b-43de-9dc0-7dd88a7c0fa2",
   "metadata": {},
   "outputs": [
    {
     "name": "stdout",
     "output_type": "stream",
     "text": [
      "         Date  Day     Month  Year  Customer_Age       Age_Group  \\\n",
      "0  2013-11-26   26  November  2013            19     Youth (<25)   \n",
      "1  2015-11-26   26  November  2015            19     Youth (<25)   \n",
      "2  2014-03-23   23     March  2014            49  Adults (35-64)   \n",
      "3  2016-03-23   23     March  2016            49  Adults (35-64)   \n",
      "4  2014-05-15   15       May  2014            47  Adults (35-64)   \n",
      "\n",
      "  Customer_Gender    Country             State Product_Category Sub_Category  \\\n",
      "0               M     Canada  British Columbia      Accessories   Bike Racks   \n",
      "1               M     Canada  British Columbia      Accessories   Bike Racks   \n",
      "2               M  Australia   New South Wales      Accessories   Bike Racks   \n",
      "3               M  Australia   New South Wales      Accessories   Bike Racks   \n",
      "4               F  Australia   New South Wales      Accessories   Bike Racks   \n",
      "\n",
      "               Product  Order_Quantity  Unit_Cost  Unit_Price  Profit  Cost  \\\n",
      "0  Hitch Rack - 4-Bike               8         45         120     590   360   \n",
      "1  Hitch Rack - 4-Bike               8         45         120     590   360   \n",
      "2  Hitch Rack - 4-Bike              23         45         120    1366  1035   \n",
      "3  Hitch Rack - 4-Bike              20         45         120    1188   900   \n",
      "4  Hitch Rack - 4-Bike               4         45         120     238   180   \n",
      "\n",
      "   Revenue  \n",
      "0      950  \n",
      "1      950  \n",
      "2     2401  \n",
      "3     2088  \n",
      "4      418  \n"
     ]
    }
   ],
   "source": [
    "# Remove rows where 'Revenue' has missing values\n",
    "filtered_df = df[~df['Revenue'].isna()]  # Keeps only rows where 'Revenue' is not NaN\n",
    "print(filtered_df.head())"
   ]
  },
  {
   "cell_type": "code",
   "execution_count": null,
   "id": "34b13776-d69c-4648-9907-7883bab0c231",
   "metadata": {},
   "outputs": [
    {
     "name": "stdout",
     "output_type": "stream",
     "text": [
      "         Date  Revenue\n",
      "0  2013-11-26      950\n",
      "1  2015-11-26      950\n",
      "2  2014-03-23     2401\n",
      "3  2016-03-23     2088\n",
      "4  2014-05-15      418\n"
     ]
    }
   ],
   "source": [
    "# Replace missing 'Revenue' values with the mean revenue\n",
    "custom_filled_df = df.copy()\n",
    "mean_revenue = custom_filled_df['Revenue'].mean()\n",
    "custom_filled_df['Revenue'] = custom_filled_df['Revenue'].fillna(mean_revenue)\n",
    "print(custom_filled_df[['Date', 'Revenue']].head())"
   ]
  },
  {
   "cell_type": "markdown",
   "id": "dfd1ba85-0209-458e-afc4-dac748fda385",
   "metadata": {},
   "source": [
    "# 6. Grouping, Merging, and Concatenating"
   ]
  },
  {
   "cell_type": "markdown",
   "id": "7ae6e28e-3414-4ca9-89e7-c8c52516731c",
   "metadata": {},
   "source": [
    "### **6.1 Grouping Data**\n",
    "\n",
    "### **What is Grouping?**  \n",
    "Grouping is a process used to **split data into categories**, **apply calculations**, and **combine the results**. This strategy is known as the **split-apply-combine** approach:  \n",
    "\n",
    "1. **Split**: Divide the dataset into groups based on one or more columns (e.g., \"brand\").\n",
    "2. **Apply**: Perform an aggregation (e.g., `sum()`, `mean()`, `count()`) on each group.\n",
    "3. **Combine**: Merge the results back into a single dataset.\n",
    "\n",
    "---\n",
    "\n",
    "### **Key Grouping Syntax in Pandas**  \n",
    "\n",
    "| **Function**     | **Description**                                                | **Example Syntax**                       |\n",
    "|------------------|----------------------------------------------------------------|-------------------------------------------|\n",
    "| `groupby()`      | Splits data into groups based on column values                 | `df.groupby('column_name')`               |\n",
    "| `mean()`         | Calculates the mean (average) for each group                   | `df.groupby('Brand')['Price'].mean()`     |\n",
    "| `sum()`          | Calculates the sum of values for each group                    | `df.groupby('Category')['Sales'].sum()`   |\n",
    "| `count()`        | Counts the number of records in each group                     | `df.groupby('Type').count()`              |\n",
    "| `min()`, `max()` | Finds the minimum or maximum values for each group             | `df.groupby('Region')['Revenue'].max()`   |\n",
    "| `agg()`          | Applies multiple aggregation functions to the same group       | `df.groupby('Product').agg(['sum', 'mean'])` |\n",
    "\n",
    "---\n",
    "\n",
    "### **Split-Apply-Combine Process Illustration**\n",
    "\n",
    "<div style=\"text-align: center;\">\n",
    "  <img src=\"https://jakevdp.github.io/PythonDataScienceHandbook/figures/03.08-split-apply-combine.png\" alt=\"Split-Apply-Combine\" width=\"500\">\n",
    "</div>\n",
    "\n",
    "This image demonstrates how the data is:\n",
    "- **Split** by keys (`A`, `B`, `C`).\n",
    "- **Apply**: A sum operation is performed.\n",
    "- **Combine**: The sums are merged back into a summarized table.\n",
    "\n",
    "---"
   ]
  },
  {
   "cell_type": "code",
   "execution_count": null,
   "id": "798ca480-10f1-427d-800a-c74bf3ccd76c",
   "metadata": {},
   "outputs": [
    {
     "name": "stdout",
     "output_type": "stream",
     "text": [
      "Country\n",
      "Australia         889.959016\n",
      "Canada            559.721964\n",
      "France            766.764139\n",
      "Germany           809.028293\n",
      "United Kingdom    781.659031\n",
      "Name: Revenue, dtype: float64\n"
     ]
    }
   ],
   "source": [
    "# Group by a single column ('Country') and calculate the average revenue\n",
    "average_revenue_by_country = df.groupby('Country')['Revenue'].mean()\n",
    "print(average_revenue_by_country.head())  # Display first 5 rows"
   ]
  },
  {
   "cell_type": "code",
   "execution_count": null,
   "id": "41954000-6df3-4dd8-b6da-9b4a838d3abe",
   "metadata": {},
   "outputs": [
    {
     "name": "stdout",
     "output_type": "stream",
     "text": [
      "Country    State          \n",
      "Australia  New South Wales    9203495\n",
      "           Queensland         5066267\n",
      "           South Australia    1397274\n",
      "           Tasmania            580184\n",
      "           Victoria           5054839\n",
      "Name: Revenue, dtype: int64\n"
     ]
    }
   ],
   "source": [
    "# Group by multiple columns ('Country' and 'State') and calculate total revenue\n",
    "total_revenue_by_region = df.groupby(['Country', 'State'])['Revenue'].sum()\n",
    "print(total_revenue_by_region.head())  # Display first 5 rows"
   ]
  },
  {
   "cell_type": "code",
   "execution_count": null,
   "id": "fce4f7f0-8060-4033-a88d-a1659e620560",
   "metadata": {},
   "outputs": [
    {
     "name": "stdout",
     "output_type": "stream",
     "text": [
      "Product_Category\n",
      "Accessories    70120\n",
      "Bikes          25982\n",
      "Clothing       16934\n",
      "Name: Order_Quantity, dtype: int64\n"
     ]
    }
   ],
   "source": [
    "# Count the number of orders by product category\n",
    "order_count_by_category = df.groupby('Product_Category')['Order_Quantity'].count()\n",
    "print(order_count_by_category)  # Display all categories"
   ]
  },
  {
   "cell_type": "code",
   "execution_count": null,
   "id": "b86340fd-c3a0-461f-b16a-03bc90610628",
   "metadata": {},
   "outputs": [
    {
     "name": "stdout",
     "output_type": "stream",
     "text": [
      "                       Revenue              Profit      \n",
      "                           sum        mean     sum   max\n",
      "Product                                                 \n",
      "AWC Logo Cap            549220  126.025700   78008    61\n",
      "All-Purpose Bike Stand  342664  758.106195  201064  1083\n",
      "Bike Wash - Dissolver   198745  110.169069  116008   157\n",
      "Classic Vest, L         268943  845.732704  157319  1181\n",
      "Classic Vest, M         278764  871.137500  161740  1181\n"
     ]
    }
   ],
   "source": [
    "# Group by 'Product' and apply multiple aggregation functions on 'Revenue' and 'Profit'\n",
    "aggregated_data = df.groupby('Product').agg({'Revenue': ['sum', 'mean'], 'Profit': ['sum', 'max']})\n",
    "print(aggregated_data.head())  # Display first 5 products"
   ]
  },
  {
   "cell_type": "code",
   "execution_count": null,
   "id": "45bf7196-ce5c-423f-a01b-ddf028e10b66",
   "metadata": {},
   "outputs": [
    {
     "name": "stdout",
     "output_type": "stream",
     "text": [
      "\n",
      "Age Group: Adults (35-64)\n",
      "         Date  Revenue  Profit\n",
      "2  2014-03-23     2401    1366\n",
      "3  2016-03-23     2088    1188\n",
      "4  2014-05-15      418     238\n",
      "\n",
      "Age Group: Seniors (64+)\n",
      "           Date  Revenue  Profit\n",
      "124  2014-04-27      235     145\n",
      "125  2016-04-27      118      73\n",
      "134  2014-02-19      197     107\n",
      "\n",
      "Age Group: Young Adults (25-34)\n",
      "          Date  Revenue  Profit\n",
      "10  2013-07-30      758     398\n",
      "11  2015-07-30      758     398\n",
      "12  2013-07-15      664     349\n",
      "\n",
      "Age Group: Youth (<25)\n",
      "          Date  Revenue  Profit\n",
      "0   2013-11-26      950     590\n",
      "1   2015-11-26      950     590\n",
      "54  2013-07-17      907     502\n"
     ]
    }
   ],
   "source": [
    "# Iterate through groups by 'Age Group' and display the first 3 rows in each group\n",
    "for age_group, group_data in df.groupby('Age_Group'):\n",
    "    print(f\"\\nAge Group: {age_group}\")\n",
    "    print(group_data[['Date', 'Revenue', 'Profit']].head(3))"
   ]
  },
  {
   "cell_type": "code",
   "execution_count": null,
   "id": "26f061ac-d82f-4fb0-83c3-03bbfa216751",
   "metadata": {},
   "outputs": [
    {
     "name": "stdout",
     "output_type": "stream",
     "text": [
      "\n",
      "Group: High Revenue\n",
      "         Date    Country  Revenue\n",
      "2  2014-03-23  Australia     2401\n",
      "3  2016-03-23  Australia     2088\n",
      "8  2014-02-22  Australia     2086\n",
      "\n",
      "Group: Low Revenue\n",
      "         Date    Country  Revenue\n",
      "0  2013-11-26     Canada      950\n",
      "1  2015-11-26     Canada      950\n",
      "4  2014-05-15  Australia      418\n"
     ]
    }
   ],
   "source": [
    "# Custom grouping: Group data based on revenue thresholds\n",
    "custom_groups = df.groupby(lambda x: \"High Revenue\" if df.loc[x, 'Revenue'] > 1000 else \"Low Revenue\")\n",
    "for group_name, group in custom_groups:\n",
    "    print(f\"\\nGroup: {group_name}\")\n",
    "    print(group[['Date', 'Country', 'Revenue']].head(3))"
   ]
  },
  {
   "cell_type": "markdown",
   "id": "ea11f41c-64a5-46e8-b8f7-ef1da2d536a9",
   "metadata": {},
   "source": [
    "# 7. Time-Series Data"
   ]
  },
  {
   "cell_type": "markdown",
   "id": "00b9b384-d835-44c8-b3c1-77cfda4f2d7c",
   "metadata": {},
   "source": [
    "### **7.1 Creating Time-Series Data**\n",
    "\n",
    "### **What is Time-Series Data?**  \n",
    "Time-series data is a sequence of data points recorded at successive points in time, often at regular intervals (e.g., hourly, daily, or yearly).  \n",
    "Examples of time-series data include:\n",
    "- **Stock prices** over time.\n",
    "- **Weather data** (e.g., temperature recorded hourly).\n",
    "- **Sales data** (e.g., daily or monthly revenue).\n",
    "\n",
    "In pandas, time-series data is handled using `DatetimeIndex`, which allows for advanced date-based indexing, filtering, and calculations.\n",
    "\n",
    "---\n",
    "\n",
    "### **Key Functions for Time-Series Creation:**\n",
    "\n",
    "| **Function**       | **Description**                                                         | **Example Syntax**                                   |\n",
    "|--------------------|--------------------------------------------------------------------------|-----------------------------------------------------|\n",
    "| `to_datetime()`    | Converts a date string or a column to a `datetime` object                | `pd.to_datetime(df['Date'])`                        |\n",
    "| `date_range()`     | Creates a sequence of dates at regular intervals                         | `pd.date_range(start='2022-01-01', periods=10)`     |\n",
    "| `set_index()`      | Sets the date/time column as the index for time-based filtering and slicing | `df.set_index('Date', inplace=True)`                |\n",
    "| `resample()`       | Resamples time-series data to a different frequency                      | `df.resample('M').mean()`                           |\n",
    "\n",
    "---\n",
    "\n",
    "### **Time-Series to Cross-Sectional Data Illustration**\n",
    "\n",
    "<div style=\"text-align: center;\">\n",
    "  <img src=\"https://ars.els-cdn.com/content/image/3-s2.0-B9780128147610000125-f12-28-9780128147610.jpg\" alt=\"Time-Series to Cross-Sectional Transformation\" width=\"600\">\n",
    "</div>\n",
    "\n",
    "---\n",
    "\n",
    "### **Explanation of the Image:**\n",
    "\n",
    "This image illustrates the conversion from **time-series data (A)** to **cross-sectional data (B)**:\n",
    "1. **Time-Series Data (A)**: The left section represents a dataset where each row corresponds to a specific time point (`Date`, `inputYt`).\n",
    "2. **Windowing Process**: A **window** captures several prior observations (`inputYt-5` to `inputYt`) as features for prediction. The future observation (`inputYt+1`) is used as the target.\n",
    "3. **Cross-Sectional Data (B)**: The right section shows the tabular form of the data, where each row contains input features (`inputYt-5`, `inputYt-4`, ..., `inputYt`) and the corresponding horizon value (`inputYt+1`).\n",
    "\n",
    "This transformation is crucial for:\n",
    "- **Time-series forecasting**: Preparing data for predictive modeling.\n",
    "- Converting **sequential observations** into a structure suitable for **machine learning models**.\n",
    "\n",
    "---\n"
   ]
  },
  {
   "cell_type": "code",
   "execution_count": null,
   "id": "0f7fce80-286e-4101-9327-9d3b9b8f6469",
   "metadata": {},
   "outputs": [
    {
     "name": "stdout",
     "output_type": "stream",
     "text": [
      "0   2013-11-26\n",
      "1   2015-11-26\n",
      "2   2014-03-23\n",
      "3   2016-03-23\n",
      "4   2014-05-15\n",
      "Name: Date, dtype: datetime64[ns]\n"
     ]
    }
   ],
   "source": [
    "# Convert 'Date' column to datetime format\n",
    "df['Date'] = pd.to_datetime(df['Date'])  # Convert to datetime format\n",
    "print(df['Date'].head())  # Display the first 5 converted dates"
   ]
  },
  {
   "cell_type": "code",
   "execution_count": null,
   "id": "56d3db07-896a-492b-9ef1-460cecccbc28",
   "metadata": {},
   "outputs": [
    {
     "name": "stdout",
     "output_type": "stream",
     "text": [
      "            Day     Month  Year  Customer_Age       Age_Group Customer_Gender  \\\n",
      "Date                                                                            \n",
      "2013-11-26   26  November  2013            19     Youth (<25)               M   \n",
      "2015-11-26   26  November  2015            19     Youth (<25)               M   \n",
      "2014-03-23   23     March  2014            49  Adults (35-64)               M   \n",
      "2016-03-23   23     March  2016            49  Adults (35-64)               M   \n",
      "2014-05-15   15       May  2014            47  Adults (35-64)               F   \n",
      "\n",
      "              Country             State Product_Category Sub_Category  \\\n",
      "Date                                                                    \n",
      "2013-11-26     Canada  British Columbia      Accessories   Bike Racks   \n",
      "2015-11-26     Canada  British Columbia      Accessories   Bike Racks   \n",
      "2014-03-23  Australia   New South Wales      Accessories   Bike Racks   \n",
      "2016-03-23  Australia   New South Wales      Accessories   Bike Racks   \n",
      "2014-05-15  Australia   New South Wales      Accessories   Bike Racks   \n",
      "\n",
      "                        Product  Order_Quantity  Unit_Cost  Unit_Price  \\\n",
      "Date                                                                     \n",
      "2013-11-26  Hitch Rack - 4-Bike               8         45         120   \n",
      "2015-11-26  Hitch Rack - 4-Bike               8         45         120   \n",
      "2014-03-23  Hitch Rack - 4-Bike              23         45         120   \n",
      "2016-03-23  Hitch Rack - 4-Bike              20         45         120   \n",
      "2014-05-15  Hitch Rack - 4-Bike               4         45         120   \n",
      "\n",
      "            Profit  Cost  Revenue  \n",
      "Date                               \n",
      "2013-11-26     590   360      950  \n",
      "2015-11-26     590   360      950  \n",
      "2014-03-23    1366  1035     2401  \n",
      "2016-03-23    1188   900     2088  \n",
      "2014-05-15     238   180      418  \n"
     ]
    }
   ],
   "source": [
    "# Set the 'Date' column as the index for time-series operations\n",
    "df.set_index('Date', inplace=True)  # Set 'Date' as the index\n",
    "print(df.head())  # Display the first 5 rows with 'Date' as index"
   ]
  },
  {
   "cell_type": "code",
   "execution_count": null,
   "id": "17ae06a6-3a42-4d71-a738-db097377ae2f",
   "metadata": {},
   "outputs": [
    {
     "name": "stdout",
     "output_type": "stream",
     "text": [
      "            Sales\n",
      "2023-01-01    438\n",
      "2023-01-02    145\n",
      "2023-01-03    408\n",
      "2023-01-04    217\n",
      "2023-01-05    203\n",
      "2023-01-06    235\n",
      "2023-01-07    199\n",
      "2023-01-08    266\n",
      "2023-01-09    442\n",
      "2023-01-10    292\n"
     ]
    }
   ],
   "source": [
    "#  Create a custom time-series DataFrame using `date_range()`\n",
    "custom_date_range = pd.date_range(start='2023-01-01', periods=10, freq='D')  # 10 days from Jan 1, 2023\n",
    "custom_time_series_df = pd.DataFrame({'Sales': np.random.randint(100, 500, size=10)}, index=custom_date_range)\n",
    "print(custom_time_series_df)  # Display the generated time-series DataFrame"
   ]
  },
  {
   "cell_type": "code",
   "execution_count": null,
   "id": "80bfb77b-7549-4edc-8821-ed42e72813e8",
   "metadata": {},
   "outputs": [
    {
     "name": "stdout",
     "output_type": "stream",
     "text": [
      "Slicing Time-Series Data (January 2 to January 5, 2023):\n",
      "            Sales\n",
      "2023-01-02    145\n",
      "2023-01-03    408\n",
      "2023-01-04    217\n",
      "2023-01-05    203\n"
     ]
    }
   ],
   "source": [
    "# Slice time-series data by date range\n",
    "print(\"Slicing Time-Series Data (January 2 to January 5, 2023):\")\n",
    "print(custom_time_series_df['2023-01-02':'2023-01-05'])  # Show specific date range"
   ]
  },
  {
   "cell_type": "code",
   "execution_count": null,
   "id": "d5656ff5-ab71-44da-815d-9d9f22c5b91d",
   "metadata": {},
   "outputs": [
    {
     "name": "stdout",
     "output_type": "stream",
     "text": [
      "            Year  Month  Day\n",
      "Date                        \n",
      "2013-11-26  2013     11   26\n",
      "2015-11-26  2015     11   26\n",
      "2014-03-23  2014      3   23\n",
      "2016-03-23  2016      3   23\n",
      "2014-05-15  2014      5   15\n"
     ]
    }
   ],
   "source": [
    "# Extract year, month, and day from the datetime index\n",
    "df['Year'] = df.index.year  # Extract year\n",
    "df['Month'] = df.index.month  # Extract month\n",
    "df['Day'] = df.index.day  # Extract day\n",
    "print(df[['Year', 'Month', 'Day']].head())  # Display the extracted columns"
   ]
  },
  {
   "cell_type": "code",
   "execution_count": null,
   "id": "0c72a08d-7354-4061-95c8-60cd3788dba7",
   "metadata": {},
   "outputs": [
    {
     "name": "stdout",
     "output_type": "stream",
     "text": [
      "Calculating Time Differences from the Start Date:\n",
      "           Time_from_start\n",
      "Date                      \n",
      "2013-11-26       1060 days\n",
      "2015-11-26       1790 days\n",
      "2014-03-23       1177 days\n",
      "2016-03-23       1908 days\n",
      "2014-05-15       1230 days\n"
     ]
    }
   ],
   "source": [
    "# Calculate time differences from the earliest date\n",
    "print(\"Calculating Time Differences from the Start Date:\")\n",
    "df['Time_from_start'] = df.index - df.index.min()  # Calculate timedelta from the first date\n",
    "print(df[['Time_from_start']].head())  # Display the time differences"
   ]
  },
  {
   "cell_type": "code",
   "execution_count": null,
   "id": "acb3e2b8-78d1-44e4-956f-f8885cb7db06",
   "metadata": {},
   "outputs": [
    {
     "name": "stdout",
     "output_type": "stream",
     "text": [
      "            Revenue  Cumulative_Revenue\n",
      "Date                                   \n",
      "2013-11-26      950                 950\n",
      "2015-11-26      950                1900\n",
      "2014-03-23     2401                4301\n",
      "2016-03-23     2088                6389\n",
      "2014-05-15      418                6807\n"
     ]
    }
   ],
   "source": [
    "# Calculate cumulative revenue over time\n",
    "df['Cumulative_Revenue'] = df['Revenue'].cumsum()  # Calculate cumulative sum of revenue\n",
    "print(df[['Revenue', 'Cumulative_Revenue']].head())  # Display the cumulative revenue"
   ]
  },
  {
   "cell_type": "markdown",
   "id": "bf04a9b0-f7bb-4be0-99d6-6ec577afb992",
   "metadata": {},
   "source": [
    "### **7.2 Resampling Time-Series Data**\n",
    "\n",
    "### **What is Resampling?**  \n",
    "Resampling is the process of **changing the frequency** of time-series data, either by:\n",
    "- **Down-sampling:** Reducing the frequency (e.g., converting hourly data to daily).\n",
    "- **Up-sampling:** Increasing the frequency (e.g., converting daily data to hourly).\n",
    "\n",
    "---\n",
    "\n",
    "### **Use Cases of Resampling:**  \n",
    "- **Down-sampling Example:** Calculate the **total monthly sales** using `resample('M').sum()`.\n",
    "- **Up-sampling Example:** Create hourly data points by filling in missing values using `resample('H').ffi to reduce frequency.\n",
    "\n",
    "---\n",
    "\n",
    "### **Key Pandas Methods for Resampling:**\n",
    "\n",
    "| **Method**      | **Description**                                                 | **Example Syntax**                              |\n",
    "|-----------------|------------------------------------------------------------------|-------------------------------------------------|\n",
    "| `resample()`    | Groups time-series data into the specified frequency             | `df.resample('M').mean()`                       |\n",
    "| `ffill()`       | Forward-fills missing values after up-sampling                   | `df.resample('H').ffill()`                      |\n",
    "| `bfill()`       | Backward-fills missing values after up-sampling                  | `df.resample('H').bfill()`                      |\n",
    "| `sum()`         | Calculates the sum of values for the new time window             | `df.resample('W\n",
    "\n",
    "### **Illustration of Time-Series Frequencies**\n",
    "\n",
    "<div style=\"text-align: center;\">\n",
    "  <img src=\"https://sqlrelease.com//wp-content/uploads/2018/09/Python-use-case-Resampling-time-series-data-Upsampling-and-downsampling-SQL-Server-2017-Upsampling-and-downsampling.png\" alt=\"Time-Seri3s Resampling\" width=\"400\">\n",
    "</div>\n",
    "\n",
    "---\n",
    "\n",
    "### **Explanation of the Image:**  \n",
    "- The image demonstrates **time-series frequencies** ranging from **yearly** to **secondly** data.\n",
    "- The **upward arrow** represents **up-sampling**, where data points are inserted to increase frequency.\n",
    "- The **downward arrow** represents **down-sampling**, where multiple data points are aggregated to urly_sales.head(10))\n",
    "\n"
   ]
  },
  {
   "cell_type": "code",
   "execution_count": null,
   "id": "bbff05f5-82de-4bfa-8d4a-1be6f01504c6",
   "metadata": {},
   "outputs": [
    {
     "name": "stdout",
     "output_type": "stream",
     "text": [
      "\n",
      "Monthly Sales Summary:\n",
      "             Day  Month    Year  Customer_Age  \\\n",
      "Date                                            \n",
      "2011-01-31  3100    188  378068          6503   \n",
      "2011-02-28  2415    342  343881          5705   \n",
      "\n",
      "                                                    Age_Group  \\\n",
      "Date                                                            \n",
      "2011-01-31  Youth (<25)Young Adults (25-34)Youth (<25)Adul...   \n",
      "2011-02-28  Adults (35-64)Adults (35-64)Young Adults (25-3...   \n",
      "\n",
      "                                              Customer_Gender  \\\n",
      "Date                                                            \n",
      "2011-01-31  MFMMMFFMMMMFFMFMFMFFMFMMMFFMMFFFMMFFFMFMMFMFFM...   \n",
      "2011-02-28  MFFMMFMMMFMMMFMFFMMMFFMFMMMMMFMMMFMFMFMFFMMFFM...   \n",
      "\n",
      "                                                      Country  \\\n",
      "Date                                                            \n",
      "2011-01-31  AustraliaFranceCanadaUnited StatesUnited State...   \n",
      "2011-02-28  United StatesUnited KingdomAustraliaAustraliaC...   \n",
      "\n",
      "                                                        State  \\\n",
      "Date                                                            \n",
      "2011-01-31  VictoriaYvelineBritish ColumbiaCaliforniaWashi...   \n",
      "2011-02-28  CaliforniaEnglandNew South WalesQueenslandBrit...   \n",
      "\n",
      "                                             Product_Category  \\\n",
      "Date                                                            \n",
      "2011-01-31  BikesBikesBikesBikesBikesBikesBikesBikesBikesB...   \n",
      "2011-02-28  BikesBikesBikesBikesBikesBikesBikesBikesBikesB...   \n",
      "\n",
      "                                                 Sub_Category  \\\n",
      "Date                                                            \n",
      "2011-01-31  Mountain BikesRoad BikesRoad BikesRoad BikesRo...   \n",
      "2011-02-28  Road BikesRoad BikesRoad BikesRoad BikesRoad B...   \n",
      "\n",
      "                                                      Product  Order_Quantity  \\\n",
      "Date                                                                            \n",
      "2011-01-31  Mountain-200 Black, 46Road-150 Red, 48Road-250...             362   \n",
      "2011-02-28  Road-750 Black, 48Road-350-W Yellow, 48Road-25...             347   \n",
      "\n",
      "            Unit_Cost  Unit_Price  Profit    Cost  Revenue Time_from_start  \\\n",
      "Date                                                                         \n",
      "2011-01-31     230207      379302  212849  462344   675193       2912 days   \n",
      "2011-02-28     216772      352821  207144  430454   637598       7545 days   \n",
      "\n",
      "            Cumulative_Revenue  \n",
      "Date                            \n",
      "2011-01-31          9588321741  \n",
      "2011-02-28          9054043763  \n"
     ]
    }
   ],
   "source": [
    "# Downsample: Calculate total sales per month\n",
    "monthly_sales = df.resample('ME').sum()  # Resample data by month and calculate the sum\n",
    "print(\"\\nMonthly Sales Summary:\")\n",
    "print(monthly_sales.head(2))"
   ]
  },
  {
   "cell_type": "code",
   "execution_count": null,
   "id": "931abec4-1394-40e8-a8f8-f5a653a1fa7e",
   "metadata": {},
   "outputs": [
    {
     "name": "stdout",
     "output_type": "stream",
     "text": [
      "\n",
      "Daily Sales Summary (Upsampled and Forward-Filled):\n",
      "            Day  Month   Year  Customer_Age  \\\n",
      "Date                                          \n",
      "2011-01-01    5      5  10055           154   \n",
      "2011-01-02    8      4   8044           148   \n",
      "\n",
      "                                                    Age_Group Customer_Gender  \\\n",
      "Date                                                                            \n",
      "2011-01-01  Youth (<25)Young Adults (25-34)Youth (<25)Adul...           MFMMM   \n",
      "2011-01-02  Adults (35-64)Adults (35-64)Young Adults (25-3...            FFMM   \n",
      "\n",
      "                                                    Country  \\\n",
      "Date                                                          \n",
      "2011-01-01  AustraliaFranceCanadaUnited StatesUnited States   \n",
      "2011-01-02    AustraliaUnited StatesUnited KingdomAustralia   \n",
      "\n",
      "                                                        State  \\\n",
      "Date                                                            \n",
      "2011-01-01  VictoriaYvelineBritish ColumbiaCaliforniaWashi...   \n",
      "2011-01-02                QueenslandCaliforniaEnglandVictoria   \n",
      "\n",
      "                     Product_Category  \\\n",
      "Date                                    \n",
      "2011-01-01  BikesBikesBikesBikesBikes   \n",
      "2011-01-02       BikesBikesBikesBikes   \n",
      "\n",
      "                                                 Sub_Category  \\\n",
      "Date                                                            \n",
      "2011-01-01  Mountain BikesRoad BikesRoad BikesRoad BikesRo...   \n",
      "2011-01-02           Road BikesRoad BikesRoad BikesRoad Bikes   \n",
      "\n",
      "                                                      Product  Order_Quantity  \\\n",
      "Date                                                                            \n",
      "2011-01-01  Mountain-200 Black, 46Road-150 Red, 48Road-250...               8   \n",
      "2011-01-02  Road-250 Red, 58Road-550-W Yellow, 48Road-550-...               9   \n",
      "\n",
      "            Unit_Cost  Unit_Price  Profit  Cost  Revenue Time_from_start  \\\n",
      "Date                                                                       \n",
      "2011-01-01       5999        9976    3225  9596    12821          0 days   \n",
      "2011-01-02       3694        5803    2925  8943    11868          4 days   \n",
      "\n",
      "            Cumulative_Revenue  \n",
      "Date                            \n",
      "2011-01-01           197512790  \n",
      "2011-01-02           241034629  \n"
     ]
    }
   ],
   "source": [
    "# Remove duplicate index by grouping and summing values\n",
    "df = df.groupby(df.index).sum()\n",
    "\n",
    "# Perform upsampling and forward-fill missing values\n",
    "daily_sales_ffill = df.resample('D').ffill()  # Resample to daily frequency and fill missing data\n",
    "print(\"\\nDaily Sales Summary (Upsampled and Forward-Filled):\")\n",
    "print(daily_sales_ffill.head(2))\n"
   ]
  },
  {
   "cell_type": "code",
   "execution_count": null,
   "id": "bc915827-1cea-47e6-bbcd-ad4a99a1d0de",
   "metadata": {},
   "outputs": [],
   "source": []
  }
 ],
 "metadata": {
  "kernelspec": {
   "display_name": "Python 3 (ipykernel)",
   "language": "python",
   "name": "python3"
  },
  "language_info": {
   "codemirror_mode": {
    "name": "ipython",
    "version": 3
   },
   "file_extension": ".py",
   "mimetype": "text/x-python",
   "name": "python",
   "nbconvert_exporter": "python",
   "pygments_lexer": "ipython3",
   "version": "3.11.9"
  }
 },
 "nbformat": 4,
 "nbformat_minor": 5
}
