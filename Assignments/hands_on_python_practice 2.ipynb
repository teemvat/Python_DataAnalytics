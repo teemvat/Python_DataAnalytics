{
 "cells": [
  {
   "cell_type": "markdown",
   "id": "e3af01f0-eb01-4668-ba00-755922f5413a",
   "metadata": {},
   "source": [
    "## Hands-on - Matrices, DataFrames, and Time-Series Data"
   ]
  },
  {
   "cell_type": "code",
   "execution_count": 47,
   "id": "a56353bd",
   "metadata": {
    "ExecuteTime": {
     "end_time": "2025-03-17T12:03:01.490483800Z",
     "start_time": "2025-03-17T12:02:59.099425500Z"
    }
   },
   "outputs": [
    {
     "name": "stdout",
     "output_type": "stream",
     "text": [
      "Dataset Preview:\n",
      "         Date  Day     Month  Year  Customer_Age       Age_Group  \\\n",
      "0  2013-11-26   26  November  2013            19     Youth (<25)   \n",
      "1  2015-11-26   26  November  2015            19     Youth (<25)   \n",
      "2  2014-03-23   23     March  2014            49  Adults (35-64)   \n",
      "3  2016-03-23   23     March  2016            49  Adults (35-64)   \n",
      "4  2014-05-15   15       May  2014            47  Adults (35-64)   \n",
      "\n",
      "  Customer_Gender    Country             State Product_Category Sub_Category  \\\n",
      "0               M     Canada  British Columbia      Accessories   Bike Racks   \n",
      "1               M     Canada  British Columbia      Accessories   Bike Racks   \n",
      "2               M  Australia   New South Wales      Accessories   Bike Racks   \n",
      "3               M  Australia   New South Wales      Accessories   Bike Racks   \n",
      "4               F  Australia   New South Wales      Accessories   Bike Racks   \n",
      "\n",
      "               Product  Order_Quantity  Unit_Cost  Unit_Price  Profit  Cost  \\\n",
      "0  Hitch Rack - 4-Bike               8         45         120     590   360   \n",
      "1  Hitch Rack - 4-Bike               8         45         120     590   360   \n",
      "2  Hitch Rack - 4-Bike              23         45         120    1366  1035   \n",
      "3  Hitch Rack - 4-Bike              20         45         120    1188   900   \n",
      "4  Hitch Rack - 4-Bike               4         45         120     238   180   \n",
      "\n",
      "   Revenue  \n",
      "0      950  \n",
      "1      950  \n",
      "2     2401  \n",
      "3     2088  \n",
      "4      418  \n"
     ]
    }
   ],
   "source": [
    "# Import necessary libraries\n",
    "import pandas as pd  # pandas is used for handling tabular datasets (dataframes) and performing operations such as reading CSV files\n",
    "import numpy as np  # numpy is used for numerical computations such as working with arrays and applying mathematical operations\n",
    "\n",
    "# Load dataset from GitHub URL\n",
    "file_path = \"https://raw.githubusercontent.com/Hamed-Ahmadinia/DASP-2025/main/Bike%20Sales.csv\"  # URL link to the dataset stored on GitHub\n",
    "\n",
    "# Read the dataset into a pandas dataframe\n",
    "df = pd.read_csv(file_path)  # Load the dataset as a pandas DataFrame\n",
    "\n",
    "# Display the first few rows of the dataframe to confirm the data has been loaded correctly\n",
    "print(\"Dataset Preview:\")  # Print a label for context\n",
    "print(df.head(5))  # Display the first 5 rows of the dataset"
   ]
  },
  {
   "cell_type": "markdown",
   "id": "878fcaa5-7ebc-401a-99ae-c16c1c24bb9f",
   "metadata": {},
   "source": [
    "### **Exercise 1: Convert the \"Date\" column to datetime format**\n",
    "**Question:** Convert the \"Date\" column to pandas datetime format."
   ]
  },
  {
   "cell_type": "code",
   "execution_count": 48,
   "id": "ce2da9e1-00e5-477a-ab10-0afdc58ff97a",
   "metadata": {
    "ExecuteTime": {
     "end_time": "2025-03-17T12:03:01.778193100Z",
     "start_time": "2025-03-17T12:03:01.756188Z"
    }
   },
   "outputs": [
    {
     "name": "stdout",
     "output_type": "stream",
     "text": [
      "New date format:\n",
      "        Date  Day     Month  Year  Customer_Age       Age_Group  \\\n",
      "0 2013-11-26   26  November  2013            19     Youth (<25)   \n",
      "1 2015-11-26   26  November  2015            19     Youth (<25)   \n",
      "2 2014-03-23   23     March  2014            49  Adults (35-64)   \n",
      "3 2016-03-23   23     March  2016            49  Adults (35-64)   \n",
      "4 2014-05-15   15       May  2014            47  Adults (35-64)   \n",
      "\n",
      "  Customer_Gender    Country             State Product_Category Sub_Category  \\\n",
      "0               M     Canada  British Columbia      Accessories   Bike Racks   \n",
      "1               M     Canada  British Columbia      Accessories   Bike Racks   \n",
      "2               M  Australia   New South Wales      Accessories   Bike Racks   \n",
      "3               M  Australia   New South Wales      Accessories   Bike Racks   \n",
      "4               F  Australia   New South Wales      Accessories   Bike Racks   \n",
      "\n",
      "               Product  Order_Quantity  Unit_Cost  Unit_Price  Profit  Cost  \\\n",
      "0  Hitch Rack - 4-Bike               8         45         120     590   360   \n",
      "1  Hitch Rack - 4-Bike               8         45         120     590   360   \n",
      "2  Hitch Rack - 4-Bike              23         45         120    1366  1035   \n",
      "3  Hitch Rack - 4-Bike              20         45         120    1188   900   \n",
      "4  Hitch Rack - 4-Bike               4         45         120     238   180   \n",
      "\n",
      "   Revenue  \n",
      "0      950  \n",
      "1      950  \n",
      "2     2401  \n",
      "3     2088  \n",
      "4      418  \n"
     ]
    }
   ],
   "source": [
    "df['Date'] = pd.to_datetime(df['Date'])\n",
    "\n",
    "print(\"New date format:\")\n",
    "print(df.head(5))"
   ]
  },
  {
   "cell_type": "markdown",
   "id": "b0bedc1a-82f4-472f-a559-f6625a766672",
   "metadata": {},
   "source": [
    "### **Exercise 2: Set the \"Date\" column as the index**\n",
    "**Question:** Set the \"Date\" column as the index of the DataFrame."
   ]
  },
  {
   "cell_type": "code",
   "execution_count": 49,
   "id": "40ffded5-78e1-43f9-b0ab-979662f0e3b1",
   "metadata": {
    "ExecuteTime": {
     "end_time": "2025-03-17T12:03:01.868510200Z",
     "start_time": "2025-03-17T12:03:01.786311800Z"
    }
   },
   "outputs": [
    {
     "name": "stdout",
     "output_type": "stream",
     "text": [
      "Date as index:\n",
      "            Day    Month  Year  Customer_Age             Age_Group  \\\n",
      "Date                                                                 \n",
      "2011-01-01    1  January  2011            42        Adults (35-64)   \n",
      "2011-01-01    1  January  2011            33  Young Adults (25-34)   \n",
      "2011-01-01    1  January  2011            17           Youth (<25)   \n",
      "2011-01-01    1  January  2011            39        Adults (35-64)   \n",
      "2011-01-01    1  January  2011            23           Youth (<25)   \n",
      "\n",
      "           Customer_Gender        Country             State Product_Category  \\\n",
      "Date                                                                           \n",
      "2011-01-01               M  United States        California            Bikes   \n",
      "2011-01-01               F         France           Yveline            Bikes   \n",
      "2011-01-01               M         Canada  British Columbia            Bikes   \n",
      "2011-01-01               M  United States        Washington            Bikes   \n",
      "2011-01-01               M      Australia          Victoria            Bikes   \n",
      "\n",
      "              Sub_Category                 Product  Order_Quantity  Unit_Cost  \\\n",
      "Date                                                                            \n",
      "2011-01-01      Road Bikes      Road-750 Black, 44               1        344   \n",
      "2011-01-01      Road Bikes        Road-150 Red, 48               2       2171   \n",
      "2011-01-01      Road Bikes        Road-250 Red, 44               1       1519   \n",
      "2011-01-01      Road Bikes   Road-550-W Yellow, 38               3        713   \n",
      "2011-01-01  Mountain Bikes  Mountain-200 Black, 46               1       1252   \n",
      "\n",
      "            Unit_Price  Profit  Cost  Revenue  \n",
      "Date                                           \n",
      "2011-01-01         540     185   344      529  \n",
      "2011-01-01        3578    1097  4342     5439  \n",
      "2011-01-01        2443     900  1519     2419  \n",
      "2011-01-01        1120     482  2139     2621  \n",
      "2011-01-01        2295     561  1252     1813  \n"
     ]
    }
   ],
   "source": [
    "df.set_index('Date', inplace=True)\n",
    "df.sort_index(inplace=True)\n",
    "\n",
    "print(\"Date as index:\")\n",
    "print(df.head(5))"
   ]
  },
  {
   "cell_type": "markdown",
   "id": "297d8ed4-6521-4c45-9b49-6a3483b83142",
   "metadata": {},
   "source": [
    "### **Exercise 3: Slice the data from '2013-01-01' to '2013-12-31'**\n",
    "**Question:** Slice the DataFrame to show data for the year 2013."
   ]
  },
  {
   "cell_type": "code",
   "execution_count": 50,
   "id": "f2530035-c7dc-49e8-b34a-6eb82408850c",
   "metadata": {
    "ExecuteTime": {
     "end_time": "2025-03-17T12:03:01.968351700Z",
     "start_time": "2025-03-17T12:03:01.867509500Z"
    }
   },
   "outputs": [
    {
     "name": "stdout",
     "output_type": "stream",
     "text": [
      "Data for year 2013\n",
      "            Day     Month  Year  Customer_Age             Age_Group  \\\n",
      "Date                                                                  \n",
      "2013-01-01    1   January  2013            29  Young Adults (25-34)   \n",
      "2013-01-01    1   January  2013            29  Young Adults (25-34)   \n",
      "2013-01-01    1   January  2013            19           Youth (<25)   \n",
      "2013-01-01    1   January  2013            53        Adults (35-64)   \n",
      "2013-01-01    1   January  2013            42        Adults (35-64)   \n",
      "...         ...       ...   ...           ...                   ...   \n",
      "2013-12-31   31  December  2013            53        Adults (35-64)   \n",
      "2013-12-31   31  December  2013            46        Adults (35-64)   \n",
      "2013-12-31   31  December  2013            27  Young Adults (25-34)   \n",
      "2013-12-31   31  December  2013            26  Young Adults (25-34)   \n",
      "2013-12-31   31  December  2013            25  Young Adults (25-34)   \n",
      "\n",
      "           Customer_Gender        Country              State Product_Category  \\\n",
      "Date                                                                            \n",
      "2013-01-01               F  United States            Florida            Bikes   \n",
      "2013-01-01               M  United States             Oregon            Bikes   \n",
      "2013-01-01               F  United States         Washington            Bikes   \n",
      "2013-01-01               F         France      Seine (Paris)            Bikes   \n",
      "2013-01-01               M      Australia         Queensland            Bikes   \n",
      "...                    ...            ...                ...              ...   \n",
      "2013-12-31               M  United States             Oregon      Accessories   \n",
      "2013-12-31               M         France  Seine Saint Denis            Bikes   \n",
      "2013-12-31               M      Australia         Queensland      Accessories   \n",
      "2013-12-31               F      Australia    South Australia      Accessories   \n",
      "2013-12-31               F      Australia           Victoria            Bikes   \n",
      "\n",
      "                 Sub_Category                  Product  Order_Quantity  \\\n",
      "Date                                                                     \n",
      "2013-01-01         Road Bikes         Road-650 Red, 62               1   \n",
      "2013-01-01         Road Bikes       Road-650 Black, 44               1   \n",
      "2013-01-01         Road Bikes         Road-150 Red, 48               1   \n",
      "2013-01-01         Road Bikes       Road-250 Black, 44               1   \n",
      "2013-01-01         Road Bikes    Road-350-W Yellow, 48               1   \n",
      "...                       ...                      ...             ...   \n",
      "2013-12-31  Bottles and Cages    Water Bottle - 30 oz.               8   \n",
      "2013-12-31     Mountain Bikes  Mountain-500 Silver, 44               1   \n",
      "2013-12-31  Bottles and Cages    Water Bottle - 30 oz.              15   \n",
      "2013-12-31    Tires and Tubes        Touring Tire Tube               4   \n",
      "2013-12-31         Road Bikes    Road-350-W Yellow, 48               1   \n",
      "\n",
      "            Unit_Cost  Unit_Price  Profit  Cost  Revenue  \n",
      "Date                                                      \n",
      "2013-01-01        487         783     257   487      744  \n",
      "2013-01-01        487         783     186   487      673  \n",
      "2013-01-01       2171        3578     620  2171     2791  \n",
      "2013-01-01       1555        2443     448  1555     2003  \n",
      "2013-01-01       1083        1701     346  1083     1429  \n",
      "...               ...         ...     ...   ...      ...  \n",
      "2013-12-31          2           5      18    16       34  \n",
      "2013-12-31        308         565     155   308      463  \n",
      "2013-12-31          2           5      33    30       63  \n",
      "2013-12-31          2           5       8     8       16  \n",
      "2013-12-31       1083        1701     261  1083     1344  \n",
      "\n",
      "[24443 rows x 17 columns]\n"
     ]
    }
   ],
   "source": [
    "print(\"Data for year 2013\")\n",
    "print(df['2013-01-01':'2013-12-31'])"
   ]
  },
  {
   "cell_type": "markdown",
   "id": "3542b40f-45c0-4b19-a00b-6832bb1f8933",
   "metadata": {},
   "source": [
    "### **Exercise 4: Calculate cumulative revenue**\n",
    "**Question:** Add a new column 'Cumulative_Revenue' that shows the cumulative sum of the revenue."
   ]
  },
  {
   "cell_type": "code",
   "execution_count": 51,
   "id": "e71a544c-dafa-4277-93fc-55877a245927",
   "metadata": {
    "ExecuteTime": {
     "end_time": "2025-03-17T12:03:01.989350300Z",
     "start_time": "2025-03-17T12:03:01.903778700Z"
    }
   },
   "outputs": [
    {
     "name": "stdout",
     "output_type": "stream",
     "text": [
      "Added cumulative revenue\n",
      "            Day    Month  Year  Customer_Age             Age_Group  \\\n",
      "Date                                                                 \n",
      "2011-01-01    1  January  2011            42        Adults (35-64)   \n",
      "2011-01-01    1  January  2011            33  Young Adults (25-34)   \n",
      "2011-01-01    1  January  2011            17           Youth (<25)   \n",
      "2011-01-01    1  January  2011            39        Adults (35-64)   \n",
      "2011-01-01    1  January  2011            23           Youth (<25)   \n",
      "\n",
      "           Customer_Gender        Country             State Product_Category  \\\n",
      "Date                                                                           \n",
      "2011-01-01               M  United States        California            Bikes   \n",
      "2011-01-01               F         France           Yveline            Bikes   \n",
      "2011-01-01               M         Canada  British Columbia            Bikes   \n",
      "2011-01-01               M  United States        Washington            Bikes   \n",
      "2011-01-01               M      Australia          Victoria            Bikes   \n",
      "\n",
      "              Sub_Category                 Product  Order_Quantity  Unit_Cost  \\\n",
      "Date                                                                            \n",
      "2011-01-01      Road Bikes      Road-750 Black, 44               1        344   \n",
      "2011-01-01      Road Bikes        Road-150 Red, 48               2       2171   \n",
      "2011-01-01      Road Bikes        Road-250 Red, 44               1       1519   \n",
      "2011-01-01      Road Bikes   Road-550-W Yellow, 38               3        713   \n",
      "2011-01-01  Mountain Bikes  Mountain-200 Black, 46               1       1252   \n",
      "\n",
      "            Unit_Price  Profit  Cost  Revenue  Cumulative_Revenue  \n",
      "Date                                                               \n",
      "2011-01-01         540     185   344      529                 529  \n",
      "2011-01-01        3578    1097  4342     5439                5968  \n",
      "2011-01-01        2443     900  1519     2419                8387  \n",
      "2011-01-01        1120     482  2139     2621               11008  \n",
      "2011-01-01        2295     561  1252     1813               12821  \n"
     ]
    }
   ],
   "source": [
    "df['Cumulative_Revenue'] = df['Revenue'].cumsum()\n",
    "\n",
    "print('Added cumulative revenue')\n",
    "print(df.head(5))"
   ]
  },
  {
   "cell_type": "markdown",
   "id": "6fc3984d-5b71-4117-8ab8-f9bc81434f13",
   "metadata": {},
   "source": [
    "### **Exercise 5: Downsample to show monthly total revenue (Hint: Use resampling)**\n",
    "**Question:** Resample the data to calculate total monthly revenue."
   ]
  },
  {
   "cell_type": "code",
   "execution_count": 52,
   "id": "a45846a0-4136-4985-a2e1-f9706ee40ce6",
   "metadata": {
    "ExecuteTime": {
     "end_time": "2025-03-17T12:03:02.132149200Z",
     "start_time": "2025-03-17T12:03:01.930347400Z"
    }
   },
   "outputs": [
    {
     "name": "stdout",
     "output_type": "stream",
     "text": [
      "Monthly revenue:\n",
      "Date\n",
      "2011-01-31     675193\n",
      "2011-02-28     637598\n",
      "2011-03-31     708517\n",
      "2011-04-30     698782\n",
      "2011-05-31     734537\n",
      "               ...   \n",
      "2016-03-31    2608663\n",
      "2016-04-30    2756864\n",
      "2016-05-31    3264343\n",
      "2016-06-30    3586300\n",
      "2016-07-31     499960\n",
      "Freq: ME, Name: Revenue, Length: 67, dtype: int64\n"
     ]
    }
   ],
   "source": [
    "monthly_revenue = df.resample('ME')['Revenue'].sum()\n",
    "\n",
    "print(\"Monthly revenue:\")\n",
    "print(monthly_revenue)"
   ]
  },
  {
   "cell_type": "code",
   "execution_count": 52,
   "id": "8fa7cc70-e18a-4a1f-9b8c-316cd5e2a12c",
   "metadata": {
    "ExecuteTime": {
     "end_time": "2025-03-17T12:03:02.133138700Z",
     "start_time": "2025-03-17T12:03:02.005896200Z"
    }
   },
   "outputs": [],
   "source": []
  }
 ],
 "metadata": {
  "kernelspec": {
   "display_name": "Python 3 (ipykernel)",
   "language": "python",
   "name": "python3"
  },
  "language_info": {
   "codemirror_mode": {
    "name": "ipython",
    "version": 3
   },
   "file_extension": ".py",
   "mimetype": "text/x-python",
   "name": "python",
   "nbconvert_exporter": "python",
   "pygments_lexer": "ipython3",
   "version": "3.11.9"
  }
 },
 "nbformat": 4,
 "nbformat_minor": 5
}
