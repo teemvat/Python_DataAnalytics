{
 "cells": [
  {
   "cell_type": "markdown",
   "id": "e3af01f0-eb01-4668-ba00-755922f5413a",
   "metadata": {},
   "source": [
    "## Hands-on - Probability Distributions and Variability"
   ]
  },
  {
   "cell_type": "code",
   "execution_count": 192,
   "id": "a56353bd",
   "metadata": {
    "ExecuteTime": {
     "end_time": "2025-03-27T15:48:14.215446500Z",
     "start_time": "2025-03-27T15:48:14.093311600Z"
    }
   },
   "outputs": [
    {
     "name": "stdout",
     "output_type": "stream",
     "text": [
      "Dataset Preview:\n",
      "   Year  CSIRO Adjusted Sea Level  Lower Error Bound  Upper Error Bound  \\\n",
      "0  1880                  0.000000          -0.952756           0.952756   \n",
      "1  1881                  0.220472          -0.732283           1.173228   \n",
      "2  1882                 -0.440945          -1.346457           0.464567   \n",
      "3  1883                 -0.232283          -1.129921           0.665354   \n",
      "4  1884                  0.590551          -0.283465           1.464567   \n",
      "\n",
      "   NOAA Adjusted Sea Level  \n",
      "0                      NaN  \n",
      "1                      NaN  \n",
      "2                      NaN  \n",
      "3                      NaN  \n",
      "4                      NaN  \n"
     ]
    }
   ],
   "source": [
    "# Import necessary libraries\n",
    "import pandas as pd\n",
    "import numpy as np\n",
    "import seaborn as sns\n",
    "import scipy.stats as stats\n",
    "import matplotlib.pyplot as plt\n",
    "from scipy.stats import binom, norm, ttest_1samp, mannwhitneyu, chi2_contingency, ttest_ind\n",
    "\n",
    "# Load dataset from GitHub URL\n",
    "file_path = \"https://raw.githubusercontent.com/Hamed-Ahmadinia/DASP-2025/main/epa-sea-level.csv\"  # URL link to the dataset stored on GitHub\n",
    "\n",
    "# Read the dataset into a pandas dataframe\n",
    "df = pd.read_csv(file_path)  # Load the dataset as a pandas DataFrame\n",
    "\n",
    "# Display the first few rows of the dataframe to confirm the data has been loaded correctly\n",
    "print(\"Dataset Preview:\")  # Print a label for context\n",
    "print(df.head(5))  # Display the first 5 rows of the dataset"
   ]
  },
  {
   "cell_type": "markdown",
   "id": "878fcaa5-7ebc-401a-99ae-c16c1c24bb9f",
   "metadata": {},
   "source": [
    "## **Exercise 1: Understanding the Dataset**\n",
    "🔹 **Question:** Display key statistics about the dataset using `.describe()`. `."
   ]
  },
  {
   "cell_type": "code",
   "execution_count": 193,
   "id": "ce2da9e1-00e5-477a-ab10-0afdc58ff97a",
   "metadata": {
    "ExecuteTime": {
     "end_time": "2025-03-27T15:48:14.235441900Z",
     "start_time": "2025-03-27T15:48:14.127902200Z"
    }
   },
   "outputs": [
    {
     "name": "stdout",
     "output_type": "stream",
     "text": [
      "<class 'pandas.core.frame.DataFrame'>\n",
      "RangeIndex: 134 entries, 0 to 133\n",
      "Data columns (total 5 columns):\n",
      " #   Column                    Non-Null Count  Dtype  \n",
      "---  ------                    --------------  -----  \n",
      " 0   Year                      134 non-null    int64  \n",
      " 1   CSIRO Adjusted Sea Level  134 non-null    float64\n",
      " 2   Lower Error Bound         134 non-null    float64\n",
      " 3   Upper Error Bound         134 non-null    float64\n",
      " 4   NOAA Adjusted Sea Level   21 non-null     float64\n",
      "dtypes: float64(4), int64(1)\n",
      "memory usage: 5.4 KB\n"
     ]
    },
    {
     "data": {
      "text/plain": "              Year  CSIRO Adjusted Sea Level  Lower Error Bound  \\\ncount   134.000000                134.000000         134.000000   \nmean   1946.500000                  3.650341           3.204666   \nstd      38.826537                  2.485692           2.663781   \nmin    1880.000000                 -0.440945          -1.346457   \n25%    1913.250000                  1.632874           1.078740   \n50%    1946.500000                  3.312992           2.915354   \n75%    1979.750000                  5.587598           5.329724   \nmax    2013.000000                  9.326772           8.992126   \n\n       Upper Error Bound  NOAA Adjusted Sea Level  \ncount         134.000000                21.000000  \nmean            4.096016                 7.363746  \nstd             2.312581                 0.691038  \nmin             0.464567                 6.297493  \n25%             2.240157                 6.848690  \n50%             3.710630                 7.488353  \n75%             5.845472                 7.907365  \nmax             9.661417                 8.546648  ",
      "text/html": "<div>\n<style scoped>\n    .dataframe tbody tr th:only-of-type {\n        vertical-align: middle;\n    }\n\n    .dataframe tbody tr th {\n        vertical-align: top;\n    }\n\n    .dataframe thead th {\n        text-align: right;\n    }\n</style>\n<table border=\"1\" class=\"dataframe\">\n  <thead>\n    <tr style=\"text-align: right;\">\n      <th></th>\n      <th>Year</th>\n      <th>CSIRO Adjusted Sea Level</th>\n      <th>Lower Error Bound</th>\n      <th>Upper Error Bound</th>\n      <th>NOAA Adjusted Sea Level</th>\n    </tr>\n  </thead>\n  <tbody>\n    <tr>\n      <th>count</th>\n      <td>134.000000</td>\n      <td>134.000000</td>\n      <td>134.000000</td>\n      <td>134.000000</td>\n      <td>21.000000</td>\n    </tr>\n    <tr>\n      <th>mean</th>\n      <td>1946.500000</td>\n      <td>3.650341</td>\n      <td>3.204666</td>\n      <td>4.096016</td>\n      <td>7.363746</td>\n    </tr>\n    <tr>\n      <th>std</th>\n      <td>38.826537</td>\n      <td>2.485692</td>\n      <td>2.663781</td>\n      <td>2.312581</td>\n      <td>0.691038</td>\n    </tr>\n    <tr>\n      <th>min</th>\n      <td>1880.000000</td>\n      <td>-0.440945</td>\n      <td>-1.346457</td>\n      <td>0.464567</td>\n      <td>6.297493</td>\n    </tr>\n    <tr>\n      <th>25%</th>\n      <td>1913.250000</td>\n      <td>1.632874</td>\n      <td>1.078740</td>\n      <td>2.240157</td>\n      <td>6.848690</td>\n    </tr>\n    <tr>\n      <th>50%</th>\n      <td>1946.500000</td>\n      <td>3.312992</td>\n      <td>2.915354</td>\n      <td>3.710630</td>\n      <td>7.488353</td>\n    </tr>\n    <tr>\n      <th>75%</th>\n      <td>1979.750000</td>\n      <td>5.587598</td>\n      <td>5.329724</td>\n      <td>5.845472</td>\n      <td>7.907365</td>\n    </tr>\n    <tr>\n      <th>max</th>\n      <td>2013.000000</td>\n      <td>9.326772</td>\n      <td>8.992126</td>\n      <td>9.661417</td>\n      <td>8.546648</td>\n    </tr>\n  </tbody>\n</table>\n</div>"
     },
     "execution_count": 193,
     "metadata": {},
     "output_type": "execute_result"
    }
   ],
   "source": [
    "df.info()\n",
    "df.describe()"
   ]
  },
  {
   "cell_type": "markdown",
   "id": "7186c00d-4ac0-4853-8977-728f17e0ab64",
   "metadata": {},
   "source": [
    "## **Exercise 2: Identifying Outliers**\n",
    "🔹 **Question:** Use the **interquartile range (IQR)** method to detect outliers in the **CSIRO Adjusted Sea Level** column. .)re)  \n"
   ]
  },
  {
   "cell_type": "code",
   "execution_count": 194,
   "id": "40ffded5-78e1-43f9-b0ab-979662f0e3b1",
   "metadata": {
    "ExecuteTime": {
     "end_time": "2025-03-27T15:48:14.236443200Z",
     "start_time": "2025-03-27T15:48:14.176902700Z"
    }
   },
   "outputs": [
    {
     "name": "stdout",
     "output_type": "stream",
     "text": [
      "0\n"
     ]
    }
   ],
   "source": [
    "# Get quantiles and interquantile range\n",
    "df_q1 = df['CSIRO Adjusted Sea Level'].quantile(0.25)\n",
    "df_q3 = df['CSIRO Adjusted Sea Level'].quantile(0.75)\n",
    "iqr = df_q3 - df_q1\n",
    "\n",
    "# Add outliers to a list\n",
    "outliers = []\n",
    "\n",
    "for i in df['CSIRO Adjusted Sea Level']:\n",
    "    if i < (df_q1 - 1.5 * iqr) or i > (df_q3 + 1.5 * iqr):\n",
    "        outliers.append(i)\n",
    "   \n",
    "# Print number of outliers in data     \n",
    "print(len(outliers))"
   ]
  },
  {
   "cell_type": "markdown",
   "id": "abb7e8b6-88f3-4c20-a706-1866b901f936",
   "metadata": {},
   "source": [
    "## **Exercise 3: Exploring Distributions**\n",
    "🔹 **Question:** Create a **boxplot** of sea level rise grouped by decade (e.g., 1880-1890, 1891-1900, etc.). e?"
   ]
  },
  {
   "cell_type": "code",
   "execution_count": 195,
   "id": "f2530035-c7dc-49e8-b34a-6eb82408850c",
   "metadata": {
    "ExecuteTime": {
     "end_time": "2025-03-27T15:48:14.446506700Z",
     "start_time": "2025-03-27T15:48:14.195924300Z"
    }
   },
   "outputs": [
    {
     "name": "stdout",
     "output_type": "stream",
     "text": [
      "          Year  CSIRO Adjusted Sea Level  Lower Error Bound  \\\n",
      "Decade                                                        \n",
      "1880    1884.5                  0.198425          -0.673622   \n",
      "1890    1894.5                  0.659449          -0.154331   \n",
      "1900    1904.5                  1.214173           0.579528   \n",
      "1910    1914.5                  1.732677           1.198425   \n",
      "1920    1924.5                  1.915748           1.403937   \n",
      "\n",
      "        Upper Error Bound  NOAA Adjusted Sea Level  \n",
      "Decade                                              \n",
      "1880             1.070472                      NaN  \n",
      "1890             1.473228                      NaN  \n",
      "1900             1.848819                      NaN  \n",
      "1910             2.266929                      NaN  \n",
      "1920             2.427559                      NaN  \n"
     ]
    },
    {
     "data": {
      "text/plain": "<Figure size 800x500 with 1 Axes>",
      "image/png": "[encoded data removed]"
     },
     "metadata": {},
     "output_type": "display_data"
    }
   ],
   "source": [
    "# Group df by decades\n",
    "df['Decade'] = (df['Year'] // 10 * 10).astype(str)\n",
    "df_decades = df.sort_values('Decade')\n",
    "df_decades = df_decades.groupby('Decade').mean()\n",
    "print(df_decades.head())\n",
    "\n",
    "# Plot data\n",
    "plt.figure(figsize=(8,5))\n",
    "sns.boxplot(x=df_decades['CSIRO Adjusted Sea Level'])\n",
    "plt.title('Boxplot of sea level by decades')\n",
    "plt.show()"
   ]
  },
  {
   "cell_type": "markdown",
   "id": "3542b40f-45c0-4b19-a00b-6832bb1f8933",
   "metadata": {},
   "source": [
    "## **Exercise 4: Hypothesis Testing on Trends**\n",
    "🔹 **Question:** Perform a **T-test** to check if the mean sea level in the 21st century (2000-2014) is significantly higher than in the 20th century (1900-1999).  \n"
   ]
  },
  {
   "cell_type": "code",
   "execution_count": 196,
   "id": "e71a544c-dafa-4277-93fc-55877a245927",
   "metadata": {
    "ExecuteTime": {
     "end_time": "2025-03-27T15:48:14.447506Z",
     "start_time": "2025-03-27T15:48:14.427508500Z"
    }
   },
   "outputs": [
    {
     "name": "stdout",
     "output_type": "stream",
     "text": [
      "Two-sample T-test (20th vs. 21st century):\n",
      "T-statistic: -17.0626\n",
      "P-value: 0.000000\n",
      "20th Century sample size: 100 21st Century sample size: 14\n"
     ]
    }
   ],
   "source": [
    "# Separate data to centuries\n",
    "df_20th = df[(df['Year'] >= 1900) & (df['Year'] < 2000)] \n",
    "df_21st = df[(df['Year'] >= 2000)]\n",
    "\n",
    "df_20th = df_20th['CSIRO Adjusted Sea Level']\n",
    "df_21st = df_21st['CSIRO Adjusted Sea Level']\n",
    "\n",
    "t_stat, p_val = ttest_ind(df_20th, df_21st, equal_var=False)\n",
    "\n",
    "# Output results\n",
    "print(\"Two-sample T-test (20th vs. 21st century):\")\n",
    "print(f\"T-statistic: {t_stat:.4f}\")\n",
    "print(f\"P-value: {p_val:.6f}\")\n",
    "print(\"20th Century sample size:\", len(df_20th), \"21st Century sample size:\", len(df_21st))\n"
   ]
  },
  {
   "cell_type": "markdown",
   "id": "6fc3984d-5b71-4117-8ab8-f9bc81434f13",
   "metadata": {},
   "source": [
    "## **Exercise 5: Probability Distributions**\n",
    "🔹 **Question:** Fit a **Poisson distribution** to the sea level rise data. ? \n"
   ]
  },
  {
   "cell_type": "code",
   "execution_count": 197,
   "id": "a45846a0-4136-4985-a2e1-f9706ee40ce6",
   "metadata": {
    "ExecuteTime": {
     "end_time": "2025-03-27T15:48:14.846513500Z",
     "start_time": "2025-03-27T15:48:14.448506400Z"
    }
   },
   "outputs": [
    {
     "name": "stdout",
     "output_type": "stream",
     "text": [
      "Rise counts per decade: Decade\n",
      "1880    5\n",
      "1890    7\n",
      "1900    4\n",
      "1910    5\n",
      "1920    6\n",
      "1930    7\n",
      "1940    5\n",
      "1950    7\n",
      "1960    6\n",
      "1970    4\n",
      "1980    7\n",
      "1990    8\n",
      "2000    9\n",
      "2010    3\n",
      "Name: Sea Level Rise, dtype: int64\n",
      "Estimated Poisson λ: 5.93\n",
      "Observed frequencies: [1 2 3 2 4 1 1]\n",
      "Synthetic frequencies: [2 2 3 2 3 1 1]\n",
      "Chi-Square Test: χ²=0.83, p=0.9911\n",
      "Poisson synthetic data fits well with observed data (good fit).\n"
     ]
    },
    {
     "data": {
      "text/plain": "<Figure size 640x480 with 1 Axes>",
      "image/png": "[encoded data removed]"
     },
     "metadata": {},
     "output_type": "display_data"
    }
   ],
   "source": [
    "# Poisson is used with count based data, so I decided to check against years when sea level has risen for each decade. I'm not sure if this was the intended way to do this\n",
    "\n",
    "# Create column for previous year value\n",
    "df['Prev Year Sea Level'] = df['CSIRO Adjusted Sea Level'].shift(1)\n",
    "\n",
    "# Check for rise / fall compared to previous year\n",
    "df['Sea Level Rise'] = df['CSIRO Adjusted Sea Level'] > df['Prev Year Sea Level']\n",
    "\n",
    "# Count rise events per decade\n",
    "rise_count = df.groupby('Decade')['Sea Level Rise'].sum()\n",
    "print(\"Rise counts per decade:\", rise_count)\n",
    "\n",
    "# Generate data based on poisson distribution\n",
    "\n",
    "# Estimate poisson mean\n",
    "lambda_est = np.mean(rise_count)\n",
    "print(f\"Estimated Poisson λ: {lambda_est:.2f}\")\n",
    "\n",
    "# Generate synthetic Poisson data based on λ\n",
    "num_decades = len(rise_count)\n",
    "synthetic_rise_counts = np.random.poisson(lambda_est, num_decades)\n",
    "\n",
    "# Count observed frequencies\n",
    "observed_freqs = rise_count.value_counts().sort_index().values\n",
    "print(f\"Observed frequencies: {observed_freqs}\")\n",
    "\n",
    "# Count synthetic frequencies\n",
    "synthetic_freqs = pd.Series(synthetic_rise_counts).value_counts().sort_index().values\n",
    "print(f\"Synthetic frequencies: {synthetic_freqs}\")\n",
    "\n",
    "# Match bins\n",
    "max_rise = max(max(rise_count), max(synthetic_rise_counts))\n",
    "observed_freqs_full = np.zeros(max_rise + 1)\n",
    "synthetic_freqs_full = np.zeros(max_rise + 1)\n",
    "\n",
    "# Fill in observed and synthetic frequencies into their respective bins\n",
    "for i in range(len(observed_freqs)):\n",
    "    observed_freqs_full[i] = observed_freqs[i]\n",
    "for i in range(len(synthetic_freqs)):\n",
    "    synthetic_freqs_full[i] = synthetic_freqs[i]\n",
    "    \n",
    "# Remove bins where both observed and synthetic frequencies are zero\n",
    "non_zero_bins = (observed_freqs_full > 0) | (synthetic_freqs_full > 0)\n",
    "observed_freqs_filtered = observed_freqs_full[non_zero_bins]\n",
    "synthetic_freqs_filtered = synthetic_freqs_full[non_zero_bins]\n",
    "\n",
    "# Perform Chi-Square test to compare observed vs. synthetic frequencies\n",
    "chi2, p_value = stats.chisquare(f_obs=observed_freqs_filtered, f_exp=synthetic_freqs_filtered)\n",
    "print(f\"Chi-Square Test: χ²={chi2:.2f}, p={p_value:.4f}\")\n",
    "\n",
    "# Check if the synthetic Poisson data fits well\n",
    "if p_value > 0.05:\n",
    "    print(\"Poisson synthetic data fits well with observed data (good fit).\")\n",
    "else:\n",
    "    print(\"Poisson synthetic data does not fit well with observed data (bad fit).\")\n",
    "\n",
    "# Plot data\n",
    "\n",
    "# Plot comparison of observed vs. synthetic data\n",
    "sns.histplot(rise_count, bins=np.arange(0, max(rise_count) + 2) - 0.5, kde=False, color=\"blue\", label=\"Observed Data\", stat=\"density\")\n",
    "sns.histplot(synthetic_rise_counts, bins=np.arange(0, max(rise_count) + 2) - 0.5, kde=False, color=\"red\", label=\"Synthetic Data (Poisson)\", stat=\"density\")\n",
    "\n",
    "plt.xlabel(\"Years with Sea Level Rise per Decade\")\n",
    "plt.ylabel(\"Probability Density\")\n",
    "plt.legend()\n",
    "plt.title(\"Observed vs. Synthetic Poisson Data for Sea Level Rise per Decade\")\n",
    "plt.show()"
   ]
  },
  {
   "cell_type": "markdown",
   "id": "fdd2c687-f411-4f99-860d-8e2c0be0ac3c",
   "metadata": {},
   "source": [
    "## **Exercise 6: Correlation Analysis**\n",
    "🔹 **Question:** Check if there is a correlation between **CSIRO Adjusted Sea Level** and **NOAA Adjusted Sea Level**.  "
   ]
  },
  {
   "cell_type": "code",
   "execution_count": 198,
   "id": "aa3aa4e7-0e20-4d5f-86bb-e1ecd6daa7e5",
   "metadata": {
    "ExecuteTime": {
     "end_time": "2025-03-27T15:48:14.967827600Z",
     "start_time": "2025-03-27T15:48:14.848514200Z"
    }
   },
   "outputs": [
    {
     "name": "stdout",
     "output_type": "stream",
     "text": [
      "Correlation coefficient: 0.9767\n"
     ]
    }
   ],
   "source": [
    "# Get separate data columns\n",
    "csiro_levels = df['CSIRO Adjusted Sea Level']\n",
    "noaa_levels = df['NOAA Adjusted Sea Level']\n",
    "\n",
    "# Perform correlation check\n",
    "correlation = csiro_levels.corr(noaa_levels)\n",
    "\n",
    "# Print correlation coefficient\n",
    "print(f'Correlation coefficient: {correlation:.4f}')"
   ]
  },
  {
   "cell_type": "markdown",
   "id": "c4953368-3130-4dc9-a0ff-bd31e02a00bc",
   "metadata": {},
   "source": [
    "## **Exercise 7: Summary Reflection**\n",
    "🔹 **Question:** Summarize your findings from this analysis.  "
   ]
  },
  {
   "cell_type": "code",
   "execution_count": 199,
   "id": "f765b2eb-eb5a-49c9-83ba-dd8f817a9069",
   "metadata": {
    "ExecuteTime": {
     "end_time": "2025-03-27T15:48:14.987827700Z",
     "start_time": "2025-03-27T15:48:14.865515300Z"
    }
   },
   "outputs": [],
   "source": []
  },
  {
   "cell_type": "code",
   "execution_count": 199,
   "id": "8b39c018-9959-41ef-a3b2-217d47c5c7df",
   "metadata": {
    "ExecuteTime": {
     "end_time": "2025-03-27T15:48:14.987827700Z",
     "start_time": "2025-03-27T15:48:14.879513400Z"
    }
   },
   "outputs": [],
   "source": []
  }
 ],
 "metadata": {
  "kernelspec": {
   "display_name": "Python 3 (ipykernel)",
   "language": "python",
   "name": "python3"
  },
  "language_info": {
   "codemirror_mode": {
    "name": "ipython",
    "version": 3
   },
   "file_extension": ".py",
   "mimetype": "text/x-python",
   "name": "python",
   "nbconvert_exporter": "python",
   "pygments_lexer": "ipython3",
   "version": "3.11.9"
  }
 },
 "nbformat": 4,
 "nbformat_minor": 5
}
