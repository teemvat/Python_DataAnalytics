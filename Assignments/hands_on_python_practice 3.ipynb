{
 "cells": [
  {
   "cell_type": "markdown",
   "id": "e3af01f0-eb01-4668-ba00-755922f5413a",
   "metadata": {},
   "source": [
    "## Hands-on - Basic Statistics in Python"
   ]
  },
  {
   "cell_type": "code",
   "execution_count": 100,
   "id": "a56353bd",
   "metadata": {
    "ExecuteTime": {
     "end_time": "2025-03-23T19:10:06.127706500Z",
     "start_time": "2025-03-23T19:10:05.239765Z"
    }
   },
   "outputs": [
    {
     "name": "stdout",
     "output_type": "stream",
     "text": [
      "Dataset Preview:\n",
      "   id    age  sex  height  weight  ap_hi  ap_lo  cholesterol  gluc  smoke  \\\n",
      "0   0  18393    2     168    62.0    110     80            1     1      0   \n",
      "1   1  20228    1     156    85.0    140     90            3     1      0   \n",
      "2   2  18857    1     165    64.0    130     70            3     1      0   \n",
      "3   3  17623    2     169    82.0    150    100            1     1      0   \n",
      "4   4  17474    1     156    56.0    100     60            1     1      0   \n",
      "\n",
      "   alco  active  cardio  \n",
      "0     0       1       0  \n",
      "1     0       1       1  \n",
      "2     0       0       1  \n",
      "3     0       1       1  \n",
      "4     0       0       0  \n"
     ]
    }
   ],
   "source": [
    "# Import necessary libraries\n",
    "import pandas as pd  # for handling tabular datasets\n",
    "import numpy as np  # for numerical computations\n",
    "from scipy import stats  # for statistical operations\n",
    "import matplotlib.pyplot as plt  # for plotting\n",
    "import seaborn as sns  # for advanced statistical plots\n",
    "\n",
    "# Load dataset from GitHub URL\n",
    "file_path = \"https://raw.githubusercontent.com/Hamed-Ahmadinia/DASP-2025/refs/heads/main/medical_examination.csv\"  # URL link to the dataset stored on GitHub\n",
    "\n",
    "# Read the dataset into a pandas dataframe\n",
    "df = pd.read_csv(file_path)  # Load the dataset as a pandas DataFrame\n",
    "\n",
    "# Display the first few rows of the dataframe to confirm the data has been loaded correctly\n",
    "print(\"Dataset Preview:\")  # Print a label for context\n",
    "print(df.head(5))  # Display the first 5 rows of the dataset"
   ]
  },
  {
   "cell_type": "markdown",
   "id": "878fcaa5-7ebc-401a-99ae-c16c1c24bb9f",
   "metadata": {},
   "source": [
    "### **Exercise 1: Display Dataset Information**\n",
    "**Question:** Use df.info() to display basic information about the dataset."
   ]
  },
  {
   "cell_type": "code",
   "execution_count": 101,
   "id": "ce2da9e1-00e5-477a-ab10-0afdc58ff97a",
   "metadata": {
    "ExecuteTime": {
     "end_time": "2025-03-23T19:10:06.133229Z",
     "start_time": "2025-03-23T19:10:06.056312600Z"
    }
   },
   "outputs": [
    {
     "name": "stdout",
     "output_type": "stream",
     "text": [
      "<class 'pandas.core.frame.DataFrame'>\n",
      "RangeIndex: 70000 entries, 0 to 69999\n",
      "Data columns (total 13 columns):\n",
      " #   Column       Non-Null Count  Dtype  \n",
      "---  ------       --------------  -----  \n",
      " 0   id           70000 non-null  int64  \n",
      " 1   age          70000 non-null  int64  \n",
      " 2   sex          70000 non-null  int64  \n",
      " 3   height       70000 non-null  int64  \n",
      " 4   weight       70000 non-null  float64\n",
      " 5   ap_hi        70000 non-null  int64  \n",
      " 6   ap_lo        70000 non-null  int64  \n",
      " 7   cholesterol  70000 non-null  int64  \n",
      " 8   gluc         70000 non-null  int64  \n",
      " 9   smoke        70000 non-null  int64  \n",
      " 10  alco         70000 non-null  int64  \n",
      " 11  active       70000 non-null  int64  \n",
      " 12  cardio       70000 non-null  int64  \n",
      "dtypes: float64(1), int64(12)\n",
      "memory usage: 6.9 MB\n"
     ]
    }
   ],
   "source": [
    "df.info()"
   ]
  },
  {
   "cell_type": "markdown",
   "id": "7186c00d-4ac0-4853-8977-728f17e0ab64",
   "metadata": {},
   "source": [
    "### **Exercise 2: Calculate Minimum and Maximum Values**  \n",
    "**Question:** Calculate the **minimum** and **maximum** values for the following columns:  \n",
    "\n",
    "- **\"height\"**  \n",
    "- **\"weight\"**  \n",
    "- **\"ap_hi\"** (systolic blood pressure)  \n",
    "- **\"ap_lo\"** (diasblood pressure)re)  \n"
   ]
  },
  {
   "cell_type": "code",
   "execution_count": 102,
   "id": "40ffded5-78e1-43f9-b0ab-979662f0e3b1",
   "metadata": {
    "ExecuteTime": {
     "end_time": "2025-03-23T19:10:06.170621Z",
     "start_time": "2025-03-23T19:10:06.092549600Z"
    }
   },
   "outputs": [
    {
     "name": "stdout",
     "output_type": "stream",
     "text": [
      "Minimum height: 55\n",
      "Maximum height: 250\n",
      "Minimum weight: 10.0\n",
      "Maximum weight: 200.0\n",
      "Minimum ap_hi: -150\n",
      "Maximum ap_hi: 16020\n",
      "Minimum ap_lo: -70\n",
      "Maximum ap_lo: 11000\n"
     ]
    }
   ],
   "source": [
    "min_h = df['height'].min()\n",
    "max_h = df['height'].max()\n",
    "print(f'Minimum height: {min_h}')\n",
    "print(f'Maximum height: {max_h}')\n",
    "\n",
    "min_w = df['weight'].min()\n",
    "max_w = df['weight'].max()\n",
    "print(f'Minimum weight: {min_w}')\n",
    "print(f'Maximum weight: {max_w}')\n",
    "\n",
    "min_ap_hi = df['ap_hi'].min()\n",
    "max_ap_hi = df['ap_hi'].max()\n",
    "print(f'Minimum ap_hi: {min_ap_hi}')\n",
    "print(f'Maximum ap_hi: {max_ap_hi}')\n",
    "\n",
    "min_ap_lo = df['ap_lo'].min()\n",
    "max_ap_lo = df['ap_lo'].max()\n",
    "print(f'Minimum ap_lo: {min_ap_lo}')\n",
    "print(f'Maximum ap_lo: {max_ap_lo}')"
   ]
  },
  {
   "cell_type": "markdown",
   "id": "abb7e8b6-88f3-4c20-a706-1866b901f936",
   "metadata": {},
   "source": [
    "### **Exercise 3: Compute Measures of Central Tendency**  \n",
    "**Question:** Calculate the **mean**, **median**, and **mode** for the specified columns:  \n",
    "\n",
    "- **Mean:** Compute the mean of the **\"weight\"** column.  \n",
    "- **Median:** Compute the median of the **\"ap_hi\"** (systolic blood pressure) column.  \n",
    "- **Mode:** Compute the mode of the **\"gender\"** column.  "
   ]
  },
  {
   "cell_type": "code",
   "execution_count": 103,
   "id": "f2530035-c7dc-49e8-b34a-6eb82408850c",
   "metadata": {
    "ExecuteTime": {
     "end_time": "2025-03-23T19:10:06.474431200Z",
     "start_time": "2025-03-23T19:10:06.124697300Z"
    }
   },
   "outputs": [
    {
     "name": "stdout",
     "output_type": "stream",
     "text": [
      "Mean weight: 74.20569\n",
      "Median ap_hi: 120.0\n",
      "Mode of gender: 1\n"
     ]
    }
   ],
   "source": [
    "# Mean of weight\n",
    "mean_w = np.mean(list(df['weight']))\n",
    "print(f'Mean weight: {mean_w}')\n",
    "\n",
    "# Median of ap_hi\n",
    "median_ap_hi = np.median(list(df['ap_hi']))\n",
    "print(f'Median ap_hi: {median_ap_hi}')\n",
    "\n",
    "# Mode of gender\n",
    "mode_gender = stats.mode(list(df['sex']), keepdims=True).mode.item()\n",
    "print(f'Mode of gender: {mode_gender}')"
   ]
  },
  {
   "cell_type": "markdown",
   "id": "3542b40f-45c0-4b19-a00b-6832bb1f8933",
   "metadata": {},
   "source": [
    "### **Exercise 4: Compute Quantiles and Interquartile Range (IQR)**  \n",
    "**Question:** Compute the **Q1**, **Q2 (median)**, and **Q3** for the **\"cholesterol\"** column and calculate the **Interquartile Range (IQR)**. \n"
   ]
  },
  {
   "cell_type": "code",
   "execution_count": 104,
   "id": "e71a544c-dafa-4277-93fc-55877a245927",
   "metadata": {
    "ExecuteTime": {
     "end_time": "2025-03-23T19:10:06.476433800Z",
     "start_time": "2025-03-23T19:10:06.206076500Z"
    }
   },
   "outputs": [
    {
     "name": "stdout",
     "output_type": "stream",
     "text": [
      "Q1 cholesterol: 1.00\n",
      "Q2 (median) cholesterol: 1.00\n",
      "Q3 cholesterol: 2.00\n",
      "Interquartile range of cholesterol: 1.00\n"
     ]
    }
   ],
   "source": [
    "chol_q1 = df['cholesterol'].quantile(0.25)\n",
    "chol_q2 = np.median(list(df['cholesterol']))\n",
    "chol_q3 = df['cholesterol'].quantile(0.75)\n",
    "\n",
    "iqr_chol = chol_q3 - chol_q1\n",
    "\n",
    "print(f'Q1 cholesterol: {chol_q1:.2f}')\n",
    "print(f'Q2 (median) cholesterol: {chol_q2:.2f}')\n",
    "print(f'Q3 cholesterol: {chol_q3:.2f}')\n",
    "print(f'Interquartile range of cholesterol: {iqr_chol:.2f}')"
   ]
  },
  {
   "cell_type": "markdown",
   "id": "6fc3984d-5b71-4117-8ab8-f9bc81434f13",
   "metadata": {},
   "source": [
    "### **Exercise 5: Grouped Analysis by Gender**  \n",
    "**Question:** Calculate the **mean** of the **\"weight\"** column grouped by **\"gender\"**. \n"
   ]
  },
  {
   "cell_type": "markdown",
   "source": [],
   "metadata": {
    "collapsed": false
   },
   "id": "b98d900baf9df314"
  },
  {
   "cell_type": "code",
   "execution_count": 105,
   "id": "a45846a0-4136-4985-a2e1-f9706ee40ce6",
   "metadata": {
    "ExecuteTime": {
     "end_time": "2025-03-23T19:10:07.347108500Z",
     "start_time": "2025-03-23T19:10:06.266908Z"
    }
   },
   "outputs": [
    {
     "name": "stdout",
     "output_type": "stream",
     "text": [
      "sex\n",
      "1    72.565902\n",
      "2    77.258565\n",
      "3    69.818182\n",
      "Name: weight, dtype: float64\n"
     ]
    },
    {
     "data": {
      "text/plain": "<Figure size 800x500 with 1 Axes>",
      "image/png": "[encoded data removed]"
     },
     "metadata": {},
     "output_type": "display_data"
    }
   ],
   "source": [
    "# Grouping the dataframe and calculating mean for each group\n",
    "mean_by_gender = df.groupby('sex')['weight'].mean()\n",
    "print(mean_by_gender)\n",
    "\n",
    "# Testing boxplot\n",
    "\n",
    "plt.figure(figsize=(8,5))\n",
    "sns.boxplot(x=df['sex'], y=df['weight'])\n",
    "sns.stripplot(x=df['sex'], y=df['weight'], color='.3', jitter=True, size=3)\n",
    "plt.xticks(range(len(set(df['sex']))), labels=df['sex'].unique())\n",
    "\n",
    "plt.xlabel(\"Gender\")\n",
    "plt.ylabel(\"Weight (kg)\")\n",
    "plt.title(\"Weight Distribution by Gender\")\n",
    "\n",
    "plt.show()"
   ]
  },
  {
   "cell_type": "code",
   "execution_count": 105,
   "id": "965dc9bb-30e5-4df7-a4b9-3b11593aec83",
   "metadata": {
    "ExecuteTime": {
     "end_time": "2025-03-23T19:10:07.348112300Z",
     "start_time": "2025-03-23T19:10:07.323353900Z"
    }
   },
   "outputs": [],
   "source": []
  }
 ],
 "metadata": {
  "kernelspec": {
   "display_name": "Python 3 (ipykernel)",
   "language": "python",
   "name": "python3"
  },
  "language_info": {
   "codemirror_mode": {
    "name": "ipython",
    "version": 3
   },
   "file_extension": ".py",
   "mimetype": "text/x-python",
   "name": "python",
   "nbconvert_exporter": "python",
   "pygments_lexer": "ipython3",
   "version": "3.11.9"
  }
 },
 "nbformat": 4,
 "nbformat_minor": 5
}
