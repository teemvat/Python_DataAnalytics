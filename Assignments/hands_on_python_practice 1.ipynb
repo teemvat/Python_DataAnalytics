{
 "cells": [
  {
   "cell_type": "markdown",
   "id": "e3af01f0-eb01-4668-ba00-755922f5413a",
   "metadata": {},
   "source": [
    "## Hands-on - Python ReCap 1"
   ]
  },
  {
   "cell_type": "code",
   "execution_count": 25,
   "id": "a56353bd",
   "metadata": {
    "ExecuteTime": {
     "end_time": "2025-03-06T17:52:40.945038400Z",
     "start_time": "2025-03-06T17:52:39.838864900Z"
    }
   },
   "outputs": [
    {
     "name": "stdout",
     "output_type": "stream",
     "text": [
      "Dataset Preview:\n",
      "   age         workclass  fnlwgt  education  education-num  \\\n",
      "0   39         State-gov   77516  Bachelors             13   \n",
      "1   50  Self-emp-not-inc   83311  Bachelors             13   \n",
      "2   38           Private  215646    HS-grad              9   \n",
      "3   53           Private  234721       11th              7   \n",
      "4   28           Private  338409  Bachelors             13   \n",
      "\n",
      "       marital-status         occupation   relationship   race     sex  \\\n",
      "0       Never-married       Adm-clerical  Not-in-family  White    Male   \n",
      "1  Married-civ-spouse    Exec-managerial        Husband  White    Male   \n",
      "2            Divorced  Handlers-cleaners  Not-in-family  White    Male   \n",
      "3  Married-civ-spouse  Handlers-cleaners        Husband  Black    Male   \n",
      "4  Married-civ-spouse     Prof-specialty           Wife  Black  Female   \n",
      "\n",
      "   capital-gain  capital-loss  hours-per-week native-country salary  \n",
      "0          2174             0              40  United-States  <=50K  \n",
      "1             0             0              13  United-States  <=50K  \n",
      "2             0             0              40  United-States  <=50K  \n",
      "3             0             0              40  United-States  <=50K  \n",
      "4             0             0              40           Cuba  <=50K  \n"
     ]
    }
   ],
   "source": [
    "# 1. Import necessary libraries\n",
    "import pandas as pd  # pandas is used for handling tabular datasets (dataframes) and performing operations such as reading CSV files\n",
    "import numpy as np  # numpy is used for numerical computations such as working with arrays and applying mathematical operations\n",
    "\n",
    "# 2. Load dataset from GitHub URL\n",
    "file_path = \"https://raw.githubusercontent.com/Hamed-Ahmadinia/DASP-2025/main/adult.data.csv\"  # URL link to the dataset stored on GitHub\n",
    "\n",
    "# 3. Read the dataset into a pandas dataframe\n",
    "df = pd.read_csv(file_path, header=0)  # header=0 means the first row in the CSV is used as column names\n",
    "\n",
    "# 4. Display the first few rows of the dataframe to confirm the data has been loaded correctly\n",
    "print(\"Dataset Preview:\")  # Print a label for context\n",
    "print(df.head(5))  # Display the first 5 rows of the dataset"
   ]
  },
  {
   "cell_type": "markdown",
   "id": "d2fe1e77",
   "metadata": {},
   "source": [
    "### **Exercise 1: Common Python Operations**\n",
    "**Question:** Print the sum of the first row's `age` and `hours-per-week`."
   ]
  },
  {
   "cell_type": "code",
   "execution_count": 26,
   "id": "e4c0f73f-5efd-4ad6-b0d4-18b472b3fc3f",
   "metadata": {
    "ExecuteTime": {
     "end_time": "2025-03-06T17:52:41.033413Z",
     "start_time": "2025-03-06T17:52:40.951050Z"
    }
   },
   "outputs": [
    {
     "name": "stdout",
     "output_type": "stream",
     "text": [
      "79\n"
     ]
    }
   ],
   "source": [
    "# Your code here\n",
    "print(df['age'].iloc[0] + df['hours-per-week'].iloc[0])\n"
   ]
  },
  {
   "cell_type": "markdown",
   "id": "4c9f3e60",
   "metadata": {},
   "source": [
    "### **Exercise 2: String Manipulation**\n",
    "**Question:** Convert the first `workclass` entry to lowercase and strip any leading or trailing spaces."
   ]
  },
  {
   "cell_type": "code",
   "execution_count": 27,
   "id": "b2a4783c",
   "metadata": {
    "ExecuteTime": {
     "end_time": "2025-03-06T17:52:41.063983500Z",
     "start_time": "2025-03-06T17:52:40.964097800Z"
    }
   },
   "outputs": [
    {
     "name": "stdout",
     "output_type": "stream",
     "text": [
      "state-gov\n"
     ]
    }
   ],
   "source": [
    "# Your code here\n",
    "print(df['workclass'].iloc[0].lower().strip())"
   ]
  },
  {
   "cell_type": "markdown",
   "id": "6f7f7a0a",
   "metadata": {},
   "source": [
    "### **Exercise 3: Lists in Python**\n",
    "**Question:** Create a list of the unique values in the `education` column and print its length."
   ]
  },
  {
   "cell_type": "code",
   "execution_count": 28,
   "id": "64bf4d82",
   "metadata": {
    "ExecuteTime": {
     "end_time": "2025-03-06T17:52:41.067690200Z",
     "start_time": "2025-03-06T17:52:40.983664300Z"
    }
   },
   "outputs": [
    {
     "name": "stdout",
     "output_type": "stream",
     "text": [
      "['5th-6th', 'Doctorate', 'Bachelors', 'Masters', '10th', '1st-4th', 'Assoc-acdm', '11th', 'Assoc-voc', '7th-8th', 'Prof-school', 'Preschool', '12th', 'HS-grad', '9th', 'Some-college']\n"
     ]
    }
   ],
   "source": [
    "# Your code here\n",
    "print(list(set(df['education'].tolist())))"
   ]
  },
  {
   "cell_type": "markdown",
   "id": "eddf6630",
   "metadata": {},
   "source": [
    "### **Exercise 4: Sets in Python**\n",
    "**Question:** Check if the value \"Self-employed\" exists in the unique set of `workclass` values."
   ]
  },
  {
   "cell_type": "code",
   "execution_count": 29,
   "id": "2a98a3b2",
   "metadata": {
    "ExecuteTime": {
     "end_time": "2025-03-06T17:52:41.084802400Z",
     "start_time": "2025-03-06T17:52:41.012386400Z"
    }
   },
   "outputs": [
    {
     "name": "stdout",
     "output_type": "stream",
     "text": [
      "False\n"
     ]
    }
   ],
   "source": [
    "print('Self-employed' in list(set(df['education'].tolist())))\n"
   ]
  },
  {
   "cell_type": "markdown",
   "id": "bdbab979",
   "metadata": {},
   "source": [
    "### **Exercise 5: Dictionaries in Python**\n",
    "**Question:** Create a dictionary from the first row's data. Print the `occupation` value from the dictionary."
   ]
  },
  {
   "cell_type": "code",
   "execution_count": 30,
   "id": "1a2daae1",
   "metadata": {
    "ExecuteTime": {
     "end_time": "2025-03-06T17:52:41.128326800Z",
     "start_time": "2025-03-06T17:52:41.027149300Z"
    }
   },
   "outputs": [
    {
     "name": "stdout",
     "output_type": "stream",
     "text": [
      "Adm-clerical\n"
     ]
    }
   ],
   "source": [
    "# Your code here\n",
    "dict = df.iloc[0].to_dict()\n",
    "\n",
    "print(dict['occupation'])"
   ]
  },
  {
   "cell_type": "markdown",
   "id": "51de8b97",
   "metadata": {},
   "source": [
    "### **Exercise 6: Conditional Statements in Python**\n",
    "**Question:** Write a function that returns \"Minor\" if the age is less than 18, \"Adult\" if between 18 and 65, and \"Senior\" if greater than 65. Test it on the first row's `age`."
   ]
  },
  {
   "cell_type": "code",
   "execution_count": 31,
   "id": "815ffb15",
   "metadata": {
    "ExecuteTime": {
     "end_time": "2025-03-06T17:52:41.129328Z",
     "start_time": "2025-03-06T17:52:41.043357300Z"
    }
   },
   "outputs": [
    {
     "name": "stdout",
     "output_type": "stream",
     "text": [
      "Adult\n"
     ]
    }
   ],
   "source": [
    "# Your code here\n",
    "def check_age(age):\n",
    "    if age < 18:\n",
    "        return 'Minor'\n",
    "    elif age < 65:\n",
    "        return 'Adult'\n",
    "    else:\n",
    "        return 'Senior'\n",
    "    \n",
    "print(check_age(df['age'].iloc[0]))"
   ]
  },
  {
   "cell_type": "markdown",
   "id": "9054a180",
   "metadata": {},
   "source": [
    "### **Exercise 7: For Loops**\n",
    "**Question:** Iterate through the first 5 rows of `workclass` and print each entry."
   ]
  },
  {
   "cell_type": "code",
   "execution_count": 32,
   "id": "f393c2fe",
   "metadata": {
    "ExecuteTime": {
     "end_time": "2025-03-06T17:52:41.397176Z",
     "start_time": "2025-03-06T17:52:41.060469500Z"
    }
   },
   "outputs": [
    {
     "name": "stdout",
     "output_type": "stream",
     "text": [
      "State-gov\n",
      "Self-emp-not-inc\n",
      "Private\n",
      "Private\n",
      "Private\n"
     ]
    }
   ],
   "source": [
    "# Your code here\n",
    "for i in df['workclass'].head(5):\n",
    "    print(i)"
   ]
  },
  {
   "cell_type": "markdown",
   "id": "95505624",
   "metadata": {},
   "source": [
    "### **Exercise 8: Functions**\n",
    "**Question:** Define a function `sum_columns` that takes two column names and an index, sums the values of the specified columns at the given index, and returns the result. Test it with `age` and `hours-per-week` at the first row."
   ]
  },
  {
   "cell_type": "code",
   "execution_count": 33,
   "id": "05034c7e",
   "metadata": {
    "ExecuteTime": {
     "end_time": "2025-03-06T17:52:41.427790400Z",
     "start_time": "2025-03-06T17:52:41.075264100Z"
    }
   },
   "outputs": [
    {
     "name": "stdout",
     "output_type": "stream",
     "text": [
      "79\n"
     ]
    }
   ],
   "source": [
    "# Your code here\n",
    "def sum_columns(name1, name2, index):\n",
    "    return df[name1].iloc[index] + df[name2].iloc[index]\n",
    "\n",
    "print(sum_columns('age', 'hours-per-week', 0))"
   ]
  },
  {
   "cell_type": "markdown",
   "id": "35d4a4cf",
   "metadata": {},
   "source": [
    "### **Exercise 9: File Handling**\n",
    "**Question:** Save the first 10 rows of the dataframe to `output.csv` and read it back. Print the first 2 rows from the loaded CSV."
   ]
  },
  {
   "cell_type": "code",
   "execution_count": 34,
   "id": "5ad3fa94",
   "metadata": {
    "ExecuteTime": {
     "end_time": "2025-03-06T17:52:41.449836100Z",
     "start_time": "2025-03-06T17:52:41.114974300Z"
    }
   },
   "outputs": [
    {
     "name": "stdout",
     "output_type": "stream",
     "text": [
      "   Unnamed: 0  age         workclass  fnlwgt  education  education-num  \\\n",
      "0           0   39         State-gov   77516  Bachelors             13   \n",
      "1           1   50  Self-emp-not-inc   83311  Bachelors             13   \n",
      "\n",
      "       marital-status       occupation   relationship   race   sex  \\\n",
      "0       Never-married     Adm-clerical  Not-in-family  White  Male   \n",
      "1  Married-civ-spouse  Exec-managerial        Husband  White  Male   \n",
      "\n",
      "   capital-gain  capital-loss  hours-per-week native-country salary  \n",
      "0          2174             0              40  United-States  <=50K  \n",
      "1             0             0              13  United-States  <=50K  \n"
     ]
    }
   ],
   "source": [
    "# Your code here\n",
    "df.head(10).to_csv('data.csv')\n",
    "print(pd.read_csv('data.csv').head(2))"
   ]
  },
  {
   "cell_type": "markdown",
   "id": "6744b80f",
   "metadata": {},
   "source": [
    "### **Exercise 10: Debugging in Python**\n",
    "**Question:** Write a try/except block to handle a `KeyError` when accessing a non-existent column `\"salary\"`. Print an appropriate error message when caught."
   ]
  },
  {
   "cell_type": "code",
   "execution_count": 36,
   "id": "25de3093",
   "metadata": {
    "ExecuteTime": {
     "end_time": "2025-03-06T17:55:22.811259700Z",
     "start_time": "2025-03-06T17:55:22.741077500Z"
    }
   },
   "outputs": [
    {
     "name": "stdout",
     "output_type": "stream",
     "text": [
      "<=50K\n",
      "Non-existent column!\n"
     ]
    }
   ],
   "source": [
    "# Your code here\n",
    "try:\n",
    "    print(df['salary'].iloc[0])\n",
    "except KeyError:\n",
    "    print('Non-existent column!')\n",
    "    \n",
    "# Salary was in the dataset, so here is a actually non-existing column:\n",
    "try:\n",
    "    print(df['non_existent'].iloc[0])\n",
    "except KeyError:\n",
    "    print('Non-existent column!')\n",
    "    "
   ]
  },
  {
   "cell_type": "code",
   "execution_count": 35,
   "id": "66872290-beec-49c1-bcd1-741e50521d59",
   "metadata": {
    "ExecuteTime": {
     "end_time": "2025-03-06T17:52:41.463744100Z",
     "start_time": "2025-03-06T17:52:41.167123100Z"
    }
   },
   "outputs": [],
   "source": []
  }
 ],
 "metadata": {
  "kernelspec": {
   "display_name": "Python 3 (ipykernel)",
   "language": "python",
   "name": "python3"
  },
  "language_info": {
   "codemirror_mode": {
    "name": "ipython",
    "version": 3
   },
   "file_extension": ".py",
   "mimetype": "text/x-python",
   "name": "python",
   "nbconvert_exporter": "python",
   "pygments_lexer": "ipython3",
   "version": "3.11.9"
  }
 },
 "nbformat": 4,
 "nbformat_minor": 5
}
